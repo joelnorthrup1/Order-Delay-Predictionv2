{
  "cells": [
    {
      "cell_type": "code",
      "execution_count": null,
      "metadata": {
        "colab": {
          "base_uri": "https://localhost:8080/"
        },
        "id": "wScpm3eCkb9f",
        "outputId": "37345a48-7660-4e5b-f835-6d46626e5221"
      },
      "outputs": [
        {
          "output_type": "stream",
          "name": "stdout",
          "text": [
            "Mounted at /content/drive\n"
          ]
        }
      ],
      "source": [
        "from google.colab import drive\n",
        "drive.mount('/content/drive')"
      ]
    },
    {
      "cell_type": "code",
      "execution_count": null,
      "metadata": {
        "id": "rivCz0HhKeAo"
      },
      "outputs": [],
      "source": [
        "import os\n",
        "os.chdir(\"/content/drive/MyDrive/scratchV5\")"
      ]
    },
    {
      "cell_type": "code",
      "execution_count": null,
      "metadata": {
        "id": "88mWv1M4K6g9"
      },
      "outputs": [],
      "source": [
        "from MyApp.MultiColumnLabelEncoder import MultiColumnLabelEncoder\n",
        "from sklearn import preprocessing\n",
        "import pandas as pd\n",
        "from sklearn import preprocessing\n",
        "import os\n",
        "#print(os.getcwd())\n",
        "#os.chdir(\"./MyApp\")\n",
        "from MyApp.feature_extractors.geo_political_risk import geo_political_risk\n",
        "from MyApp.feature_extractors.amazon_trends import amazon_trends\n",
        "from MyApp.feature_extractors.india_cpi import india_cpi\n",
        "from MyApp.feature_extractors.pet_consumption import pet_consumption_fun\n",
        "from MyApp.feature_extractors.railway_goods import railway_goods_fun\n",
        "from MyApp.feature_extractors.rainfall_india import rainfall_india_fun\n",
        "from MyApp.feature_extractors.air_quality import air_quality_fun\n",
        "from MyApp.feature_extractors.date_specific_features import date_specific_features_fun\n",
        "#os.chdir(\"../\")\n",
        "from MyApp.merge_for_economics import merge_for_economics\n",
        "from MyApp.feature_extractors.other_numeric_features import merge_for_other_features\n",
        "\n"
      ]
    },
    {
      "cell_type": "code",
      "execution_count": null,
      "metadata": {
        "id": "hB4Ikx-dLFKP",
        "colab": {
          "base_uri": "https://localhost:8080/"
        },
        "outputId": "f6646060-03fa-43bc-c932-c74c6b9da08f"
      },
      "outputs": [
        {
          "output_type": "stream",
          "name": "stderr",
          "text": [
            "WARNING:tensorflow:From /usr/local/lib/python3.8/dist-packages/tensorflow/python/compat/v2_compat.py:107: disable_resource_variables (from tensorflow.python.ops.variable_scope) is deprecated and will be removed in a future version.\n",
            "Instructions for updating:\n",
            "non-resource variables are not supported in the long term\n"
          ]
        }
      ],
      "source": [
        "# -*- coding: utf-8 -*-\n",
        "\"\"\"\n",
        "Created on Wed Oct 26 23:28:23 2022\n",
        "\n",
        "@author: DELL\n",
        "\"\"\"\n",
        "\n",
        "import pandas as pd\n",
        "import numpy as np\n",
        "# summarize class distribution\n",
        "from imblearn.over_sampling import SMOTE\n",
        "from imblearn.under_sampling import RandomUnderSampler\n",
        "from imblearn.pipeline import Pipeline\n",
        "from MyApp.merging_encoding import merging_encoding\n",
        "from MyApp.label_utils import create_days_delayed\n",
        "import os\n",
        "import torch\n",
        "import pandas as pd\n",
        "# Oversample with SMOTE and random undersample for imbalanced dataset\n",
        "from collections import Counter\n",
        "from sklearn.datasets import make_classification\n",
        "from imblearn.over_sampling import SMOTE\n",
        "from imblearn.under_sampling import RandomUnderSampler\n",
        "from imblearn.pipeline import Pipeline\n",
        "from matplotlib import pyplot\n",
        "from numpy import where\n",
        "from sklearn.datasets import make_classification\n",
        "from sklearn.ensemble import RandomForestClassifier\n",
        "from matplotlib import pyplot\n",
        "\n",
        "import tensorflow.compat.v1.keras.backend as K\n",
        "import tensorflow as tf\n",
        "tf.compat.v1.disable_eager_execution()\n",
        "tf.compat.v1.disable_v2_behavior()\n",
        "import pandas as pd\n",
        "\n"
      ]
    },
    {
      "cell_type": "code",
      "execution_count": null,
      "metadata": {
        "id": "tXw9Xd0zKDjb"
      },
      "outputs": [],
      "source": [
        "\n",
        "\n",
        "import pandas as pd\n",
        "import pandas as pd\n",
        "import numpy as np\n",
        "# summarize class distribution\n",
        "from imblearn.over_sampling import SMOTE\n",
        "from imblearn.under_sampling import RandomUnderSampler\n",
        "from imblearn.pipeline import Pipeline\n",
        "\n",
        "from MyApp.label_utils import create_days_delayed\n",
        "import os\n",
        "import torch\n",
        "import pandas as pd\n",
        "# Oversample with SMOTE and random undersample for imbalanced dataset\n",
        "from collections import Counter\n",
        "from sklearn.datasets import make_classification\n",
        "from imblearn.over_sampling import SMOTE\n",
        "from imblearn.under_sampling import RandomUnderSampler\n",
        "from imblearn.pipeline import Pipeline\n",
        "from matplotlib import pyplot\n",
        "from numpy import where\n",
        "from sklearn.datasets import make_classification\n",
        "from sklearn.ensemble import RandomForestClassifier\n",
        "from matplotlib import pyplot\n",
        "\n",
        "import tensorflow.compat.v1.keras.backend as K\n",
        "import tensorflow as tf\n",
        "tf.compat.v1.disable_eager_execution()\n",
        "tf.compat.v1.disable_v2_behavior()\n",
        "import pandas as pd\n",
        "import pickle\n",
        "import numpy as np\n",
        "import matplotlib.pyplot as plt\n",
        "import pandas as pd\n",
        "import tensorflow as tf\n",
        "from tensorflow.keras.models import Sequential\n",
        "from tensorflow.keras.layers import Dense\n",
        "from tensorflow.keras.layers import LSTM,Dropout,Embedding,Conv1D,MaxPooling1D,Flatten\n",
        "from sklearn.preprocessing import MinMaxScaler\n",
        "from sklearn.metrics import mean_squared_error\n",
        "from sklearn import preprocessing\n",
        "import random\n",
        "import numpy as np\n",
        "from sklearn.model_selection import train_test_split\n",
        "from MyApp.cm import plot_confusion_matrix\n",
        "\n",
        "from sklearn.metrics import confusion_matrix\n",
        "import pandas as pd\n",
        "\n",
        "\n",
        "import csv\n",
        "import keras\n",
        "\n",
        "\n",
        "\n",
        "\n",
        "    \n"
      ]
    },
    {
      "cell_type": "code",
      "execution_count": null,
      "metadata": {
        "id": "CKSzsu71au0q",
        "colab": {
          "base_uri": "https://localhost:8080/"
        },
        "outputId": "c9e1d9af-7268-4caf-875a-b649e8c5afa1"
      },
      "outputs": [
        {
          "output_type": "stream",
          "name": "stdout",
          "text": [
            "Looking in indexes: https://pypi.org/simple, https://us-python.pkg.dev/colab-wheels/public/simple/\n",
            "Collecting focal_loss\n",
            "  Downloading focal_loss-0.0.7-py3-none-any.whl (19 kB)\n",
            "Requirement already satisfied: tensorflow>=2.2 in /usr/local/lib/python3.8/dist-packages (from focal_loss) (2.9.2)\n",
            "Requirement already satisfied: protobuf<3.20,>=3.9.2 in /usr/local/lib/python3.8/dist-packages (from tensorflow>=2.2->focal_loss) (3.19.6)\n",
            "Requirement already satisfied: tensorflow-estimator<2.10.0,>=2.9.0rc0 in /usr/local/lib/python3.8/dist-packages (from tensorflow>=2.2->focal_loss) (2.9.0)\n",
            "Requirement already satisfied: termcolor>=1.1.0 in /usr/local/lib/python3.8/dist-packages (from tensorflow>=2.2->focal_loss) (2.2.0)\n",
            "Requirement already satisfied: setuptools in /usr/local/lib/python3.8/dist-packages (from tensorflow>=2.2->focal_loss) (57.4.0)\n",
            "Requirement already satisfied: wrapt>=1.11.0 in /usr/local/lib/python3.8/dist-packages (from tensorflow>=2.2->focal_loss) (1.14.1)\n",
            "Requirement already satisfied: gast<=0.4.0,>=0.2.1 in /usr/local/lib/python3.8/dist-packages (from tensorflow>=2.2->focal_loss) (0.4.0)\n",
            "Requirement already satisfied: grpcio<2.0,>=1.24.3 in /usr/local/lib/python3.8/dist-packages (from tensorflow>=2.2->focal_loss) (1.51.1)\n",
            "Requirement already satisfied: absl-py>=1.0.0 in /usr/local/lib/python3.8/dist-packages (from tensorflow>=2.2->focal_loss) (1.3.0)\n",
            "Requirement already satisfied: h5py>=2.9.0 in /usr/local/lib/python3.8/dist-packages (from tensorflow>=2.2->focal_loss) (3.1.0)\n",
            "Requirement already satisfied: flatbuffers<2,>=1.12 in /usr/local/lib/python3.8/dist-packages (from tensorflow>=2.2->focal_loss) (1.12)\n",
            "Requirement already satisfied: astunparse>=1.6.0 in /usr/local/lib/python3.8/dist-packages (from tensorflow>=2.2->focal_loss) (1.6.3)\n",
            "Requirement already satisfied: keras-preprocessing>=1.1.1 in /usr/local/lib/python3.8/dist-packages (from tensorflow>=2.2->focal_loss) (1.1.2)\n",
            "Requirement already satisfied: numpy>=1.20 in /usr/local/lib/python3.8/dist-packages (from tensorflow>=2.2->focal_loss) (1.21.6)\n",
            "Requirement already satisfied: libclang>=13.0.0 in /usr/local/lib/python3.8/dist-packages (from tensorflow>=2.2->focal_loss) (15.0.6.1)\n",
            "Requirement already satisfied: six>=1.12.0 in /usr/local/lib/python3.8/dist-packages (from tensorflow>=2.2->focal_loss) (1.15.0)\n",
            "Requirement already satisfied: tensorflow-io-gcs-filesystem>=0.23.1 in /usr/local/lib/python3.8/dist-packages (from tensorflow>=2.2->focal_loss) (0.29.0)\n",
            "Requirement already satisfied: google-pasta>=0.1.1 in /usr/local/lib/python3.8/dist-packages (from tensorflow>=2.2->focal_loss) (0.2.0)\n",
            "Requirement already satisfied: opt-einsum>=2.3.2 in /usr/local/lib/python3.8/dist-packages (from tensorflow>=2.2->focal_loss) (3.3.0)\n",
            "Requirement already satisfied: keras<2.10.0,>=2.9.0rc0 in /usr/local/lib/python3.8/dist-packages (from tensorflow>=2.2->focal_loss) (2.9.0)\n",
            "Requirement already satisfied: typing-extensions>=3.6.6 in /usr/local/lib/python3.8/dist-packages (from tensorflow>=2.2->focal_loss) (4.4.0)\n",
            "Requirement already satisfied: packaging in /usr/local/lib/python3.8/dist-packages (from tensorflow>=2.2->focal_loss) (21.3)\n",
            "Requirement already satisfied: tensorboard<2.10,>=2.9 in /usr/local/lib/python3.8/dist-packages (from tensorflow>=2.2->focal_loss) (2.9.1)\n",
            "Requirement already satisfied: wheel<1.0,>=0.23.0 in /usr/local/lib/python3.8/dist-packages (from astunparse>=1.6.0->tensorflow>=2.2->focal_loss) (0.38.4)\n",
            "Requirement already satisfied: tensorboard-plugin-wit>=1.6.0 in /usr/local/lib/python3.8/dist-packages (from tensorboard<2.10,>=2.9->tensorflow>=2.2->focal_loss) (1.8.1)\n",
            "Requirement already satisfied: google-auth-oauthlib<0.5,>=0.4.1 in /usr/local/lib/python3.8/dist-packages (from tensorboard<2.10,>=2.9->tensorflow>=2.2->focal_loss) (0.4.6)\n",
            "Requirement already satisfied: requests<3,>=2.21.0 in /usr/local/lib/python3.8/dist-packages (from tensorboard<2.10,>=2.9->tensorflow>=2.2->focal_loss) (2.25.1)\n",
            "Requirement already satisfied: markdown>=2.6.8 in /usr/local/lib/python3.8/dist-packages (from tensorboard<2.10,>=2.9->tensorflow>=2.2->focal_loss) (3.4.1)\n",
            "Requirement already satisfied: tensorboard-data-server<0.7.0,>=0.6.0 in /usr/local/lib/python3.8/dist-packages (from tensorboard<2.10,>=2.9->tensorflow>=2.2->focal_loss) (0.6.1)\n",
            "Requirement already satisfied: werkzeug>=1.0.1 in /usr/local/lib/python3.8/dist-packages (from tensorboard<2.10,>=2.9->tensorflow>=2.2->focal_loss) (1.0.1)\n",
            "Requirement already satisfied: google-auth<3,>=1.6.3 in /usr/local/lib/python3.8/dist-packages (from tensorboard<2.10,>=2.9->tensorflow>=2.2->focal_loss) (2.16.0)\n",
            "Requirement already satisfied: pyparsing!=3.0.5,>=2.0.2 in /usr/local/lib/python3.8/dist-packages (from packaging->tensorflow>=2.2->focal_loss) (3.0.9)\n",
            "Requirement already satisfied: pyasn1-modules>=0.2.1 in /usr/local/lib/python3.8/dist-packages (from google-auth<3,>=1.6.3->tensorboard<2.10,>=2.9->tensorflow>=2.2->focal_loss) (0.2.8)\n",
            "Requirement already satisfied: rsa<5,>=3.1.4 in /usr/local/lib/python3.8/dist-packages (from google-auth<3,>=1.6.3->tensorboard<2.10,>=2.9->tensorflow>=2.2->focal_loss) (4.9)\n",
            "Requirement already satisfied: cachetools<6.0,>=2.0.0 in /usr/local/lib/python3.8/dist-packages (from google-auth<3,>=1.6.3->tensorboard<2.10,>=2.9->tensorflow>=2.2->focal_loss) (5.2.1)\n",
            "Requirement already satisfied: requests-oauthlib>=0.7.0 in /usr/local/lib/python3.8/dist-packages (from google-auth-oauthlib<0.5,>=0.4.1->tensorboard<2.10,>=2.9->tensorflow>=2.2->focal_loss) (1.3.1)\n",
            "Requirement already satisfied: importlib-metadata>=4.4 in /usr/local/lib/python3.8/dist-packages (from markdown>=2.6.8->tensorboard<2.10,>=2.9->tensorflow>=2.2->focal_loss) (6.0.0)\n",
            "Requirement already satisfied: idna<3,>=2.5 in /usr/local/lib/python3.8/dist-packages (from requests<3,>=2.21.0->tensorboard<2.10,>=2.9->tensorflow>=2.2->focal_loss) (2.10)\n",
            "Requirement already satisfied: chardet<5,>=3.0.2 in /usr/local/lib/python3.8/dist-packages (from requests<3,>=2.21.0->tensorboard<2.10,>=2.9->tensorflow>=2.2->focal_loss) (4.0.0)\n",
            "Requirement already satisfied: certifi>=2017.4.17 in /usr/local/lib/python3.8/dist-packages (from requests<3,>=2.21.0->tensorboard<2.10,>=2.9->tensorflow>=2.2->focal_loss) (2022.12.7)\n",
            "Requirement already satisfied: urllib3<1.27,>=1.21.1 in /usr/local/lib/python3.8/dist-packages (from requests<3,>=2.21.0->tensorboard<2.10,>=2.9->tensorflow>=2.2->focal_loss) (1.24.3)\n",
            "Requirement already satisfied: zipp>=0.5 in /usr/local/lib/python3.8/dist-packages (from importlib-metadata>=4.4->markdown>=2.6.8->tensorboard<2.10,>=2.9->tensorflow>=2.2->focal_loss) (3.11.0)\n",
            "Requirement already satisfied: pyasn1<0.5.0,>=0.4.6 in /usr/local/lib/python3.8/dist-packages (from pyasn1-modules>=0.2.1->google-auth<3,>=1.6.3->tensorboard<2.10,>=2.9->tensorflow>=2.2->focal_loss) (0.4.8)\n",
            "Requirement already satisfied: oauthlib>=3.0.0 in /usr/local/lib/python3.8/dist-packages (from requests-oauthlib>=0.7.0->google-auth-oauthlib<0.5,>=0.4.1->tensorboard<2.10,>=2.9->tensorflow>=2.2->focal_loss) (3.2.2)\n",
            "Installing collected packages: focal_loss\n",
            "Successfully installed focal_loss-0.0.7\n"
          ]
        }
      ],
      "source": [
        "!pip install focal_loss"
      ]
    },
    {
      "cell_type": "code",
      "execution_count": null,
      "metadata": {
        "id": "3KYod9IrYqXu"
      },
      "outputs": [],
      "source": [
        "def training(epochs,model_name):\n",
        "    from tensorflow import keras\n",
        "    ip = keras.Input(shape=(X_train.shape[1],X_train.shape[2]), name=\"input\")\n",
        "    x = keras.layers.Conv1D(64, kernel_size=1, activation=\"relu\")(ip)\n",
        "    x = keras.layers.Conv1D(32, kernel_size=1, activation=\"relu\")(x)\n",
        "    x = keras.layers.Conv1D(32, kernel_size=1, activation=\"relu\")(x)\n",
        "    #x = keras.layers.GlobalMaxPooling1D()(x)\n",
        "    x = keras.layers.BatchNormalization()(x)\n",
        "    x = keras.layers.Dropout(0.7)(x)\n",
        "\n",
        "    out = keras.layers.Bidirectional(keras.layers.LSTM(64, return_sequences=True))(ip)\n",
        "    out = keras.layers.Bidirectional(keras.layers.LSTM(32, return_sequences=True))(out)\n",
        "    out = keras.layers.Bidirectional(keras.layers.LSTM(16, return_sequences=False))(out)\n",
        "    out = keras.layers.BatchNormalization()(out)\n",
        "    out = keras.layers.Dropout(0.7)(out)\n",
        "\n",
        "    x = keras.layers.Flatten()(x)\n",
        "    out = keras.layers.Flatten()(out)\n",
        "    combined = keras.layers.concatenate([x,out])\n",
        "    #combined = keras.layers.Dense(512, activation=\"relu\")(out)\n",
        "    #combined = keras.layers.Dropout(0.7)(combined)\n",
        "    #combined = keras.layers.Dense(128, activation=\"relu\")(combined)\n",
        "    #combined = keras.layers.Dropout(0.7)(combined)\n",
        "    out = keras.layers.Dense(1, activation=\"sigmoid\")(combined)\n",
        "\n",
        "\n",
        "    model = keras.Model(ip, out)\n",
        "\n",
        "    from focal_loss import BinaryFocalLoss\n",
        "    model.compile(\n",
        "        optimizer=keras.optimizers.Adam(0.001),\n",
        "        loss='binary_crossentropy',metrics=['accuracy']) # BinaryFocalLoss(gamma=2)\n",
        "\n",
        "    H=model.fit(X_train, y_train, validation_data=(X_test, y_test), epochs=epochs, batch_size=128)\n",
        "    model.save(\"./MyApp/\"+model_name)\n",
        "    tr_pred=model.predict(X_train)\n",
        "    tr_pred=(tr_pred>0.5).astype(np.int8)\n",
        "\n",
        "    pred=model.predict(X_test)\n",
        "    pred=(pred>0.5).astype(np.int8)\n",
        "\n",
        "    from MyApp.cm import plot_confusion_matrix\n",
        "\n",
        "    from sklearn.metrics import confusion_matrix\n",
        "    tr_cm = confusion_matrix(y_train,tr_pred)\n",
        "    cm = confusion_matrix(y_test,pred)\n",
        "    print(cm)\n",
        "    plt.figure()\n",
        "    plot_confusion_matrix(cm, classes=[],\n",
        "                          title='Confusion matrix, without normalization')\n",
        "    from sklearn.metrics import classification_report\n",
        "\n",
        "\n",
        "    print(classification_report(y_test, pred))\n",
        "    return model,X_train, X_test, y_train, y_test,tr_cm,cm"
      ]
    },
    {
      "cell_type": "code",
      "execution_count": null,
      "metadata": {
        "id": "CO2q51i_XDFu"
      },
      "outputs": [],
      "source": [
        "from sklearn.preprocessing import StandardScaler\n",
        "from sklearn.decomposition import PCA\n",
        "def spreproces_data(X,days_delayed,pcs_components,ss,training_set,with_label=True):\n",
        "  if(training_set==True):\n",
        "    X['air_quality_kolkata'].fillna((X['air_quality_kolkata'].mean()), inplace=True)\n",
        "    X['air_quality_newdehli'].fillna((X['air_quality_newdehli'].mean()), inplace=True)\n",
        "    X['rainfall_india_data'].fillna((X['rainfall_india_data'].mean()), inplace=True)\n",
        "    X['trends'].fillna((X['trends'].mean()), inplace=True)\n",
        "    y=(pd.read_csv(\"./y8_train_processed.csv\",engine='python')['Days_Delayed']>days_delayed).astype(np.int8)\n",
        "    dataset=pd.concat([X,y],axis=1)\n",
        "    X_=dataset.iloc[:,:-1] #.drop_duplicates()\n",
        "    y_=dataset.iloc[:,-1:]\n",
        "    sc = StandardScaler()\n",
        "    X_train, X_test, y_train, y_test = train_test_split(\n",
        "      np.array(X_), np.array(y_), test_size=0.10,shuffle=True, random_state=42)\n",
        "    pca = PCA(n_components = pcs_components)\n",
        "    X_train = sc.fit_transform(X_train)\n",
        "    with open(ss, 'wb') as f: \n",
        "      pickle.dump(sc, f)\n",
        "    X_test = sc.transform(X_test)\n",
        "    #X_train = pca.fit_transform(X_train)\n",
        "    with open(\"./pca.obj\", 'wb') as f:  \n",
        "      pickle.dump(pca, f)\n",
        "    #X_test = pca.transform(X_test)\n",
        "    over = SMOTE(sampling_strategy=0.9) \n",
        "    under = RandomUnderSampler(sampling_strategy=0.2) \n",
        "    steps = [ ('u', under),('o', over)] #('o', over)\n",
        "    pipeline = Pipeline(steps=steps)\n",
        "    print(\"samples before augmentation\"+str(len(X_train)))\n",
        "    X_train, y_train = pipeline.fit_resample(X_train, y_train)\n",
        "    print(\"samples before augmentation\"+str(len(X_train)))\n",
        "    X_train = np.reshape(np.array(X_train), (X_train.shape[0],1, X_train.shape[1]))\n",
        "    X_test = np.reshape(np.array(X_test), (X_test.shape[0],1, X_test.shape[1]))\n",
        "    return X_train, X_test, y_train, y_test\n"
      ]
    },
    {
      "cell_type": "code",
      "execution_count": null,
      "metadata": {
        "colab": {
          "base_uri": "https://localhost:8080/"
        },
        "id": "5VeCtQg-xV4i",
        "outputId": "0ea7179f-b27a-41a3-a12f-b904e97867e2"
      },
      "outputs": [
        {
          "output_type": "stream",
          "name": "stderr",
          "text": [
            "/usr/local/lib/python3.8/dist-packages/IPython/core/interactiveshell.py:3326: DtypeWarning: Columns (6,14,19) have mixed types.Specify dtype option on import or set low_memory=False.\n",
            "  exec(code_obj, self.user_global_ns, self.user_ns)\n"
          ]
        }
      ],
      "source": [
        "    X=pd.read_csv(\"./X8_train_processed.csv\")\n"
      ]
    },
    {
      "cell_type": "code",
      "execution_count": null,
      "metadata": {
        "id": "wPFc8e2RNa_P"
      },
      "outputs": [],
      "source": [
        "X.iloc[:,9833:13685].head()"
      ]
    },
    {
      "cell_type": "code",
      "execution_count": null,
      "metadata": {
        "colab": {
          "base_uri": "https://localhost:8080/"
        },
        "id": "tA2WgeJK2k5w",
        "outputId": "00a1b708-7300-4a11-e070-d325898f83d6"
      },
      "outputs": [
        {
          "data": {
            "text/plain": [
              "(49214, 18676)"
            ]
          },
          "execution_count": 17,
          "metadata": {},
          "output_type": "execute_result"
        }
      ],
      "source": [
        "X.shape"
      ]
    },
    {
      "cell_type": "code",
      "execution_count": null,
      "metadata": {
        "colab": {
          "base_uri": "https://localhost:8080/"
        },
        "id": "_uOcccshNJUa",
        "outputId": "74da39c9-7d99-49e2-e10d-c00a2a84c144"
      },
      "outputs": [
        {
          "name": "stderr",
          "output_type": "stream",
          "text": [
            "/usr/local/lib/python3.8/dist-packages/IPython/core/interactiveshell.py:3326: DtypeWarning: Columns (6,13,14,19) have mixed types.Specify dtype option on import or set low_memory=False.\n",
            "  exec(code_obj, self.user_global_ns, self.user_ns)\n"
          ]
        }
      ],
      "source": [
        "X=pd.read_csv(\"./X4_train_processed.csv\").iloc[:,21:]"
      ]
    },
    {
      "cell_type": "code",
      "execution_count": null,
      "metadata": {
        "id": "nSaVFXY9sANJ"
      },
      "outputs": [],
      "source": [
        "# y=(pd.read_csv(\"./y4_train_processed.csv\",engine='python')['Days_Delayed']>5).astype(np.int8) #../dataset/Yprocessed.csv\n",
        "\n"
      ]
    },
    {
      "cell_type": "code",
      "source": [
        "X.columns[:352]"
      ],
      "metadata": {
        "colab": {
          "base_uri": "https://localhost:8080/"
        },
        "id": "yLoo4LendY1Y",
        "outputId": "22db0469-7783-4b7b-85b6-095b98c2549f"
      },
      "execution_count": null,
      "outputs": [
        {
          "output_type": "execute_result",
          "data": {
            "text/plain": [
              "Index(['Unnamed: 0', 'ITEM_COST_WAC', 'ITEM_DSCR', 'CNCL_QTY', 'RCV_QTY',\n",
              "       'ORIG_ORD_QTY', 'CNCL_DT', 'DELIVERY_DT', 'PO_ORD_DT', 'time',\n",
              "       ...\n",
              "       'close_EURUSD - Euro / US Dollar', 'volume_EURUSD - Euro / US Dollar',\n",
              "       'open_GBPUSD - British Pound / US Dollar',\n",
              "       'high_GBPUSD - British Pound / US Dollar',\n",
              "       'low_GBPUSD - British Pound / US Dollar',\n",
              "       'close_GBPUSD - British Pound / US Dollar',\n",
              "       'volume_GBPUSD - British Pound / US Dollar', 'air_quality_kolkata',\n",
              "       'trends',\n",
              "       'foreign_direct_investment__3months_backward_ALBANIAFORDIRINV'],\n",
              "      dtype='object', length=352)"
            ]
          },
          "metadata": {},
          "execution_count": 51
        }
      ]
    },
    {
      "cell_type": "code",
      "source": [
        "X1=X.iloc[:,21:351]\n",
        "X2=X.iloc[:,351:3350]\n",
        "X3=pd.concat([X1,X2],axis=1)\n",
        "X_train, X_test, y_train, y_test=spreproces_data(X3,5,None,\"./standardscaler3m.obj\",training_set=True)\n",
        "\n",
        "model,X_train, X_test, y_train, y_test,train_cm,test_cm=training(40,\"model5_lookback3m.h5\")"
      ],
      "metadata": {
        "colab": {
          "base_uri": "https://localhost:8080/",
          "height": 1000
        },
        "id": "xfl-46MIDi4L",
        "outputId": "6a046078-bde6-4050-c7e7-5be9f49a7eb9"
      },
      "execution_count": null,
      "outputs": [
        {
          "output_type": "stream",
          "name": "stdout",
          "text": [
            "samples before augmentation44292\n",
            "samples before augmentation48345\n"
          ]
        },
        {
          "output_type": "stream",
          "name": "stderr",
          "text": [
            "WARNING:tensorflow:From /usr/local/lib/python3.8/dist-packages/keras/layers/normalization/batch_normalization.py:514: _colocate_with (from tensorflow.python.framework.ops) is deprecated and will be removed in a future version.\n",
            "Instructions for updating:\n",
            "Colocations handled automatically by placer.\n",
            "WARNING:tensorflow:Layer lstm will not use cuDNN kernels since it doesn't meet the criteria. It will use a generic GPU kernel as fallback when running on GPU.\n",
            "WARNING:tensorflow:From /usr/local/lib/python3.8/dist-packages/tensorflow/python/ops/init_ops.py:93: calling GlorotUniform.__init__ (from tensorflow.python.ops.init_ops) with dtype is deprecated and will be removed in a future version.\n",
            "Instructions for updating:\n",
            "Call initializer instance with the dtype argument instead of passing it to the constructor\n",
            "WARNING:tensorflow:From /usr/local/lib/python3.8/dist-packages/tensorflow/python/ops/init_ops.py:93: calling Orthogonal.__init__ (from tensorflow.python.ops.init_ops) with dtype is deprecated and will be removed in a future version.\n",
            "Instructions for updating:\n",
            "Call initializer instance with the dtype argument instead of passing it to the constructor\n",
            "WARNING:tensorflow:From /usr/local/lib/python3.8/dist-packages/tensorflow/python/ops/init_ops.py:93: calling Zeros.__init__ (from tensorflow.python.ops.init_ops) with dtype is deprecated and will be removed in a future version.\n",
            "Instructions for updating:\n",
            "Call initializer instance with the dtype argument instead of passing it to the constructor\n",
            "WARNING:tensorflow:Layer lstm will not use cuDNN kernels since it doesn't meet the criteria. It will use a generic GPU kernel as fallback when running on GPU.\n",
            "WARNING:tensorflow:Layer lstm will not use cuDNN kernels since it doesn't meet the criteria. It will use a generic GPU kernel as fallback when running on GPU.\n",
            "WARNING:tensorflow:Layer lstm_1 will not use cuDNN kernels since it doesn't meet the criteria. It will use a generic GPU kernel as fallback when running on GPU.\n",
            "WARNING:tensorflow:Layer lstm_1 will not use cuDNN kernels since it doesn't meet the criteria. It will use a generic GPU kernel as fallback when running on GPU.\n",
            "WARNING:tensorflow:Layer lstm_1 will not use cuDNN kernels since it doesn't meet the criteria. It will use a generic GPU kernel as fallback when running on GPU.\n",
            "WARNING:tensorflow:Layer lstm_2 will not use cuDNN kernels since it doesn't meet the criteria. It will use a generic GPU kernel as fallback when running on GPU.\n",
            "WARNING:tensorflow:Layer lstm_2 will not use cuDNN kernels since it doesn't meet the criteria. It will use a generic GPU kernel as fallback when running on GPU.\n",
            "WARNING:tensorflow:Layer lstm_2 will not use cuDNN kernels since it doesn't meet the criteria. It will use a generic GPU kernel as fallback when running on GPU.\n"
          ]
        },
        {
          "output_type": "stream",
          "name": "stdout",
          "text": [
            "Train on 48345 samples, validate on 4922 samples\n",
            "Epoch 1/40\n",
            "48345/48345 [==============================] - ETA: 0s - loss: 0.5061 - acc: 0.7685"
          ]
        },
        {
          "output_type": "stream",
          "name": "stderr",
          "text": [
            "/usr/local/lib/python3.8/dist-packages/keras/engine/training_v1.py:2045: UserWarning: `Model.state_updates` will be removed in a future version. This property should not be used in TensorFlow 2.0, as `updates` are applied automatically.\n",
            "  updates = self.state_updates\n"
          ]
        },
        {
          "output_type": "stream",
          "name": "stdout",
          "text": [
            "\b\b\b\b\b\b\b\b\b\b\b\b\b\b\b\b\b\b\b\b\b\b\b\b\b\b\b\b\b\b\b\b\b\b\b\b\b\b\b\b\b\b\b\b\b\b\b\b\b\b\b\b\b\b\b\b\b\b\b\b\b\b\b\b\b\b\b\b\b\b\b\b\b\b\b\b\b\b\b\b\b\b\b\r48345/48345 [==============================] - 12s 253us/sample - loss: 0.5061 - acc: 0.7685 - val_loss: 0.3848 - val_acc: 0.8939\n",
            "Epoch 2/40\n",
            "48345/48345 [==============================] - 4s 89us/sample - loss: 0.3512 - acc: 0.8574 - val_loss: 0.3200 - val_acc: 0.8525\n",
            "Epoch 3/40\n",
            "48345/48345 [==============================] - 4s 89us/sample - loss: 0.3150 - acc: 0.8734 - val_loss: 0.3004 - val_acc: 0.8801\n",
            "Epoch 4/40\n",
            "48345/48345 [==============================] - 4s 89us/sample - loss: 0.2994 - acc: 0.8788 - val_loss: 0.2777 - val_acc: 0.8777\n",
            "Epoch 5/40\n",
            "48345/48345 [==============================] - 4s 88us/sample - loss: 0.2876 - acc: 0.8853 - val_loss: 0.2517 - val_acc: 0.8929\n",
            "Epoch 6/40\n",
            "48345/48345 [==============================] - 4s 90us/sample - loss: 0.2762 - acc: 0.8893 - val_loss: 0.2767 - val_acc: 0.8761\n",
            "Epoch 7/40\n",
            "48345/48345 [==============================] - 4s 89us/sample - loss: 0.2656 - acc: 0.8949 - val_loss: 0.2855 - val_acc: 0.8748\n",
            "Epoch 8/40\n",
            "48345/48345 [==============================] - 4s 88us/sample - loss: 0.2606 - acc: 0.8968 - val_loss: 0.2676 - val_acc: 0.8840\n",
            "Epoch 9/40\n",
            "48345/48345 [==============================] - 4s 89us/sample - loss: 0.2505 - acc: 0.9013 - val_loss: 0.2462 - val_acc: 0.8929\n",
            "Epoch 10/40\n",
            "48345/48345 [==============================] - 4s 89us/sample - loss: 0.2460 - acc: 0.9038 - val_loss: 0.3042 - val_acc: 0.8795\n",
            "Epoch 11/40\n",
            "48345/48345 [==============================] - 4s 88us/sample - loss: 0.2424 - acc: 0.9051 - val_loss: 0.3219 - val_acc: 0.8547\n",
            "Epoch 12/40\n",
            "48345/48345 [==============================] - 5s 94us/sample - loss: 0.2390 - acc: 0.9064 - val_loss: 0.2600 - val_acc: 0.8866\n",
            "Epoch 13/40\n",
            "48345/48345 [==============================] - 4s 91us/sample - loss: 0.2330 - acc: 0.9106 - val_loss: 0.2877 - val_acc: 0.8736\n",
            "Epoch 14/40\n",
            "48345/48345 [==============================] - 4s 90us/sample - loss: 0.2275 - acc: 0.9120 - val_loss: 0.2848 - val_acc: 0.8801\n",
            "Epoch 15/40\n",
            "48345/48345 [==============================] - 4s 90us/sample - loss: 0.2269 - acc: 0.9126 - val_loss: 0.2681 - val_acc: 0.8844\n",
            "Epoch 16/40\n",
            "48345/48345 [==============================] - 4s 90us/sample - loss: 0.2184 - acc: 0.9162 - val_loss: 0.2631 - val_acc: 0.8844\n",
            "Epoch 17/40\n",
            "48345/48345 [==============================] - 4s 89us/sample - loss: 0.2204 - acc: 0.9144 - val_loss: 0.2288 - val_acc: 0.9035\n",
            "Epoch 18/40\n",
            "48345/48345 [==============================] - 4s 88us/sample - loss: 0.2156 - acc: 0.9180 - val_loss: 0.2711 - val_acc: 0.8887\n",
            "Epoch 19/40\n",
            "48345/48345 [==============================] - 4s 88us/sample - loss: 0.2095 - acc: 0.9211 - val_loss: 0.2257 - val_acc: 0.9078\n",
            "Epoch 20/40\n",
            "48345/48345 [==============================] - 4s 90us/sample - loss: 0.2099 - acc: 0.9202 - val_loss: 0.2198 - val_acc: 0.9017\n",
            "Epoch 21/40\n",
            "48345/48345 [==============================] - 4s 88us/sample - loss: 0.2027 - acc: 0.9239 - val_loss: 0.2442 - val_acc: 0.8958\n",
            "Epoch 22/40\n",
            "48345/48345 [==============================] - 4s 90us/sample - loss: 0.2018 - acc: 0.9242 - val_loss: 0.2646 - val_acc: 0.8834\n",
            "Epoch 23/40\n",
            "48345/48345 [==============================] - 4s 89us/sample - loss: 0.1961 - acc: 0.9256 - val_loss: 0.2280 - val_acc: 0.9090\n",
            "Epoch 24/40\n",
            "48345/48345 [==============================] - 4s 89us/sample - loss: 0.1968 - acc: 0.9238 - val_loss: 0.2423 - val_acc: 0.8948\n",
            "Epoch 25/40\n",
            "48345/48345 [==============================] - 4s 89us/sample - loss: 0.1993 - acc: 0.9241 - val_loss: 0.2517 - val_acc: 0.8937\n",
            "Epoch 26/40\n",
            "48345/48345 [==============================] - 4s 89us/sample - loss: 0.1990 - acc: 0.9241 - val_loss: 0.2519 - val_acc: 0.8921\n",
            "Epoch 27/40\n",
            "48345/48345 [==============================] - 4s 89us/sample - loss: 0.1944 - acc: 0.9272 - val_loss: 0.2887 - val_acc: 0.8862\n",
            "Epoch 28/40\n",
            "48345/48345 [==============================] - 4s 90us/sample - loss: 0.1904 - acc: 0.9273 - val_loss: 0.2491 - val_acc: 0.8978\n",
            "Epoch 29/40\n",
            "48345/48345 [==============================] - 4s 89us/sample - loss: 0.1920 - acc: 0.9269 - val_loss: 0.2309 - val_acc: 0.8990\n",
            "Epoch 30/40\n",
            "48345/48345 [==============================] - 4s 89us/sample - loss: 0.1849 - acc: 0.9297 - val_loss: 0.2505 - val_acc: 0.8984\n",
            "Epoch 31/40\n",
            "48345/48345 [==============================] - 4s 89us/sample - loss: 0.1832 - acc: 0.9318 - val_loss: 0.2412 - val_acc: 0.9031\n",
            "Epoch 32/40\n",
            "48345/48345 [==============================] - 4s 88us/sample - loss: 0.1834 - acc: 0.9310 - val_loss: 0.2547 - val_acc: 0.8980\n",
            "Epoch 33/40\n",
            "48345/48345 [==============================] - 4s 88us/sample - loss: 0.1841 - acc: 0.9296 - val_loss: 0.2537 - val_acc: 0.8907\n",
            "Epoch 34/40\n",
            "48345/48345 [==============================] - 4s 88us/sample - loss: 0.1794 - acc: 0.9307 - val_loss: 0.2485 - val_acc: 0.8927\n",
            "Epoch 35/40\n",
            "48345/48345 [==============================] - 4s 88us/sample - loss: 0.1767 - acc: 0.9334 - val_loss: 0.2127 - val_acc: 0.9108\n",
            "Epoch 36/40\n",
            "48345/48345 [==============================] - 4s 88us/sample - loss: 0.1757 - acc: 0.9346 - val_loss: 0.2271 - val_acc: 0.9110\n",
            "Epoch 37/40\n",
            "48345/48345 [==============================] - 4s 88us/sample - loss: 0.1743 - acc: 0.9342 - val_loss: 0.2114 - val_acc: 0.9147\n",
            "Epoch 38/40\n",
            "48345/48345 [==============================] - 4s 88us/sample - loss: 0.1738 - acc: 0.9335 - val_loss: 0.2365 - val_acc: 0.9053\n",
            "Epoch 39/40\n",
            "48345/48345 [==============================] - 4s 89us/sample - loss: 0.1720 - acc: 0.9340 - val_loss: 0.2087 - val_acc: 0.9128\n",
            "Epoch 40/40\n",
            "48345/48345 [==============================] - 4s 88us/sample - loss: 0.1710 - acc: 0.9353 - val_loss: 0.2155 - val_acc: 0.9098\n"
          ]
        },
        {
          "output_type": "stream",
          "name": "stderr",
          "text": [
            "/usr/local/lib/python3.8/dist-packages/keras/engine/training_v1.py:2067: UserWarning: `Model.state_updates` will be removed in a future version. This property should not be used in TensorFlow 2.0, as `updates` are applied automatically.\n",
            "  updates=self.state_updates,\n"
          ]
        },
        {
          "output_type": "stream",
          "name": "stdout",
          "text": [
            "[[3990  376]\n",
            " [  68  488]]\n",
            "Confusion matrix, without normalization\n",
            "              precision    recall  f1-score   support\n",
            "\n",
            "           0       0.98      0.91      0.95      4366\n",
            "           1       0.56      0.88      0.69       556\n",
            "\n",
            "    accuracy                           0.91      4922\n",
            "   macro avg       0.77      0.90      0.82      4922\n",
            "weighted avg       0.94      0.91      0.92      4922\n",
            "\n"
          ]
        },
        {
          "output_type": "display_data",
          "data": {
            "text/plain": [
              "<Figure size 432x288 with 2 Axes>"
            ],
            "image/png": "[encoded data removed]"
          },
          "metadata": {
            "needs_background": "light"
          }
        }
      ]
    },
    {
      "cell_type": "code",
      "source": [
        "X1=X.iloc[:,21:351]\n",
        "X2=X.iloc[:,351:3350]\n",
        "X3=pd.concat([X1,X2],axis=1)\n",
        "X_train, X_test, y_train, y_test=spreproces_data(X3,5,None,training_set=True)\n",
        "\n",
        "model,X_train, X_test, y_train, y_test,train_cm,test_cm=training(40,\"model5_lookback3m.h5\")"
      ],
      "metadata": {
        "colab": {
          "base_uri": "https://localhost:8080/",
          "height": 1000
        },
        "id": "7EcZsJZdf_xe",
        "outputId": "92f76edf-bce0-41a3-ac0e-1f10966c2e8e"
      },
      "execution_count": null,
      "outputs": [
        {
          "output_type": "stream",
          "name": "stdout",
          "text": [
            "samples before augmentation44292\n",
            "samples before augmentation48345\n"
          ]
        },
        {
          "output_type": "stream",
          "name": "stderr",
          "text": [
            "WARNING:tensorflow:From /usr/local/lib/python3.8/dist-packages/keras/layers/normalization/batch_normalization.py:514: _colocate_with (from tensorflow.python.framework.ops) is deprecated and will be removed in a future version.\n",
            "Instructions for updating:\n",
            "Colocations handled automatically by placer.\n",
            "WARNING:tensorflow:Layer lstm will not use cuDNN kernels since it doesn't meet the criteria. It will use a generic GPU kernel as fallback when running on GPU.\n",
            "WARNING:tensorflow:From /usr/local/lib/python3.8/dist-packages/tensorflow/python/ops/init_ops.py:93: calling GlorotUniform.__init__ (from tensorflow.python.ops.init_ops) with dtype is deprecated and will be removed in a future version.\n",
            "Instructions for updating:\n",
            "Call initializer instance with the dtype argument instead of passing it to the constructor\n",
            "WARNING:tensorflow:From /usr/local/lib/python3.8/dist-packages/tensorflow/python/ops/init_ops.py:93: calling Orthogonal.__init__ (from tensorflow.python.ops.init_ops) with dtype is deprecated and will be removed in a future version.\n",
            "Instructions for updating:\n",
            "Call initializer instance with the dtype argument instead of passing it to the constructor\n",
            "WARNING:tensorflow:From /usr/local/lib/python3.8/dist-packages/tensorflow/python/ops/init_ops.py:93: calling Zeros.__init__ (from tensorflow.python.ops.init_ops) with dtype is deprecated and will be removed in a future version.\n",
            "Instructions for updating:\n",
            "Call initializer instance with the dtype argument instead of passing it to the constructor\n",
            "WARNING:tensorflow:Layer lstm will not use cuDNN kernels since it doesn't meet the criteria. It will use a generic GPU kernel as fallback when running on GPU.\n",
            "WARNING:tensorflow:Layer lstm will not use cuDNN kernels since it doesn't meet the criteria. It will use a generic GPU kernel as fallback when running on GPU.\n",
            "WARNING:tensorflow:Layer lstm_1 will not use cuDNN kernels since it doesn't meet the criteria. It will use a generic GPU kernel as fallback when running on GPU.\n",
            "WARNING:tensorflow:Layer lstm_1 will not use cuDNN kernels since it doesn't meet the criteria. It will use a generic GPU kernel as fallback when running on GPU.\n",
            "WARNING:tensorflow:Layer lstm_1 will not use cuDNN kernels since it doesn't meet the criteria. It will use a generic GPU kernel as fallback when running on GPU.\n",
            "WARNING:tensorflow:Layer lstm_2 will not use cuDNN kernels since it doesn't meet the criteria. It will use a generic GPU kernel as fallback when running on GPU.\n",
            "WARNING:tensorflow:Layer lstm_2 will not use cuDNN kernels since it doesn't meet the criteria. It will use a generic GPU kernel as fallback when running on GPU.\n",
            "WARNING:tensorflow:Layer lstm_2 will not use cuDNN kernels since it doesn't meet the criteria. It will use a generic GPU kernel as fallback when running on GPU.\n"
          ]
        },
        {
          "output_type": "stream",
          "name": "stdout",
          "text": [
            "Train on 48345 samples, validate on 4922 samples\n",
            "Epoch 1/40\n",
            "48345/48345 [==============================] - ETA: 0s - loss: 0.5060 - acc: 0.7683"
          ]
        },
        {
          "output_type": "stream",
          "name": "stderr",
          "text": [
            "/usr/local/lib/python3.8/dist-packages/keras/engine/training_v1.py:2045: UserWarning: `Model.state_updates` will be removed in a future version. This property should not be used in TensorFlow 2.0, as `updates` are applied automatically.\n",
            "  updates = self.state_updates\n"
          ]
        },
        {
          "output_type": "stream",
          "name": "stdout",
          "text": [
            "\b\b\b\b\b\b\b\b\b\b\b\b\b\b\b\b\b\b\b\b\b\b\b\b\b\b\b\b\b\b\b\b\b\b\b\b\b\b\b\b\b\b\b\b\b\b\b\b\b\b\b\b\b\b\b\b\b\b\b\b\b\b\b\b\b\b\b\b\b\b\b\b\b\b\b\b\b\b\b\b\b\b\b\r48345/48345 [==============================] - 14s 288us/sample - loss: 0.5060 - acc: 0.7683 - val_loss: 0.4100 - val_acc: 0.8811\n",
            "Epoch 2/40\n",
            "48345/48345 [==============================] - 5s 95us/sample - loss: 0.3508 - acc: 0.8575 - val_loss: 0.2764 - val_acc: 0.8850\n",
            "Epoch 3/40\n",
            "48345/48345 [==============================] - 5s 94us/sample - loss: 0.3217 - acc: 0.8733 - val_loss: 0.2960 - val_acc: 0.8828\n",
            "Epoch 4/40\n",
            "48345/48345 [==============================] - 5s 95us/sample - loss: 0.3060 - acc: 0.8790 - val_loss: 0.2754 - val_acc: 0.8816\n",
            "Epoch 5/40\n",
            "48345/48345 [==============================] - 5s 94us/sample - loss: 0.2969 - acc: 0.8833 - val_loss: 0.3350 - val_acc: 0.8578\n",
            "Epoch 6/40\n",
            "48345/48345 [==============================] - 5s 94us/sample - loss: 0.2812 - acc: 0.8887 - val_loss: 0.3152 - val_acc: 0.8614\n",
            "Epoch 7/40\n",
            "48345/48345 [==============================] - 5s 94us/sample - loss: 0.2802 - acc: 0.8912 - val_loss: 0.2495 - val_acc: 0.8962\n",
            "Epoch 8/40\n",
            "48345/48345 [==============================] - 5s 94us/sample - loss: 0.2679 - acc: 0.8959 - val_loss: 0.2607 - val_acc: 0.8895\n",
            "Epoch 9/40\n",
            "48345/48345 [==============================] - 5s 94us/sample - loss: 0.2701 - acc: 0.8931 - val_loss: 0.2738 - val_acc: 0.8789\n",
            "Epoch 10/40\n",
            "48345/48345 [==============================] - 5s 94us/sample - loss: 0.2621 - acc: 0.8957 - val_loss: 0.2980 - val_acc: 0.8482\n",
            "Epoch 11/40\n",
            "48345/48345 [==============================] - 5s 96us/sample - loss: 0.2572 - acc: 0.8992 - val_loss: 0.2830 - val_acc: 0.8746\n",
            "Epoch 12/40\n",
            "48345/48345 [==============================] - 5s 98us/sample - loss: 0.2509 - acc: 0.9025 - val_loss: 0.2887 - val_acc: 0.8667\n",
            "Epoch 13/40\n",
            "48345/48345 [==============================] - 5s 94us/sample - loss: 0.2476 - acc: 0.9039 - val_loss: 0.3243 - val_acc: 0.8486\n",
            "Epoch 14/40\n",
            "48345/48345 [==============================] - 5s 94us/sample - loss: 0.2473 - acc: 0.9051 - val_loss: 0.2599 - val_acc: 0.8846\n",
            "Epoch 15/40\n",
            "48345/48345 [==============================] - 5s 94us/sample - loss: 0.2410 - acc: 0.9070 - val_loss: 0.2918 - val_acc: 0.8842\n",
            "Epoch 16/40\n",
            "48345/48345 [==============================] - 5s 94us/sample - loss: 0.2404 - acc: 0.9066 - val_loss: 0.2544 - val_acc: 0.8858\n",
            "Epoch 17/40\n",
            "48345/48345 [==============================] - 5s 95us/sample - loss: 0.2318 - acc: 0.9102 - val_loss: 0.2716 - val_acc: 0.8846\n",
            "Epoch 18/40\n",
            "48345/48345 [==============================] - 5s 94us/sample - loss: 0.2372 - acc: 0.9101 - val_loss: 0.2588 - val_acc: 0.8828\n",
            "Epoch 19/40\n",
            "48345/48345 [==============================] - 5s 94us/sample - loss: 0.2353 - acc: 0.9115 - val_loss: 0.2697 - val_acc: 0.8809\n",
            "Epoch 20/40\n",
            "48345/48345 [==============================] - 5s 93us/sample - loss: 0.2406 - acc: 0.9085 - val_loss: 0.2557 - val_acc: 0.8830\n",
            "Epoch 21/40\n",
            "48345/48345 [==============================] - 4s 93us/sample - loss: 0.2326 - acc: 0.9107 - val_loss: 0.2771 - val_acc: 0.8813\n",
            "Epoch 22/40\n",
            "48345/48345 [==============================] - 5s 93us/sample - loss: 0.2335 - acc: 0.9097 - val_loss: 0.2553 - val_acc: 0.8846\n",
            "Epoch 23/40\n",
            "48345/48345 [==============================] - 5s 93us/sample - loss: 0.2265 - acc: 0.9129 - val_loss: 0.2426 - val_acc: 0.8887\n",
            "Epoch 24/40\n",
            "48345/48345 [==============================] - 5s 95us/sample - loss: 0.2280 - acc: 0.9125 - val_loss: 0.2608 - val_acc: 0.8832\n",
            "Epoch 25/40\n",
            "48345/48345 [==============================] - 5s 93us/sample - loss: 0.2222 - acc: 0.9133 - val_loss: 0.2604 - val_acc: 0.8824\n",
            "Epoch 26/40\n",
            "48345/48345 [==============================] - 5s 94us/sample - loss: 0.2209 - acc: 0.9150 - val_loss: 0.2645 - val_acc: 0.8781\n",
            "Epoch 27/40\n",
            "48345/48345 [==============================] - 5s 94us/sample - loss: 0.2182 - acc: 0.9176 - val_loss: 0.2532 - val_acc: 0.8793\n",
            "Epoch 28/40\n",
            "48345/48345 [==============================] - 5s 94us/sample - loss: 0.2185 - acc: 0.9167 - val_loss: 0.2697 - val_acc: 0.8879\n",
            "Epoch 29/40\n",
            "48345/48345 [==============================] - 5s 94us/sample - loss: 0.2136 - acc: 0.9176 - val_loss: 0.2675 - val_acc: 0.8852\n",
            "Epoch 30/40\n",
            "48345/48345 [==============================] - 5s 94us/sample - loss: 0.2134 - acc: 0.9180 - val_loss: 0.2469 - val_acc: 0.8962\n",
            "Epoch 31/40\n",
            "48345/48345 [==============================] - 5s 94us/sample - loss: 0.2114 - acc: 0.9186 - val_loss: 0.2848 - val_acc: 0.8799\n",
            "Epoch 32/40\n",
            "48345/48345 [==============================] - 5s 94us/sample - loss: 0.2127 - acc: 0.9192 - val_loss: 0.2632 - val_acc: 0.8856\n",
            "Epoch 33/40\n",
            "48345/48345 [==============================] - 5s 94us/sample - loss: 0.2062 - acc: 0.9220 - val_loss: 0.2475 - val_acc: 0.8911\n",
            "Epoch 34/40\n",
            "48345/48345 [==============================] - 5s 94us/sample - loss: 0.2037 - acc: 0.9215 - val_loss: 0.2596 - val_acc: 0.8830\n",
            "Epoch 35/40\n",
            "48345/48345 [==============================] - 5s 94us/sample - loss: 0.2023 - acc: 0.9226 - val_loss: 0.2401 - val_acc: 0.9084\n",
            "Epoch 36/40\n",
            "48345/48345 [==============================] - 4s 93us/sample - loss: 0.1982 - acc: 0.9248 - val_loss: 0.2558 - val_acc: 0.8923\n",
            "Epoch 37/40\n",
            "48345/48345 [==============================] - 5s 94us/sample - loss: 0.2016 - acc: 0.9216 - val_loss: 0.2839 - val_acc: 0.8787\n",
            "Epoch 38/40\n",
            "48345/48345 [==============================] - 5s 94us/sample - loss: 0.2002 - acc: 0.9240 - val_loss: 0.2126 - val_acc: 0.9122\n",
            "Epoch 39/40\n",
            "48345/48345 [==============================] - 5s 94us/sample - loss: 0.1986 - acc: 0.9255 - val_loss: 0.2547 - val_acc: 0.8941\n",
            "Epoch 40/40\n",
            "48345/48345 [==============================] - 5s 93us/sample - loss: 0.1949 - acc: 0.9259 - val_loss: 0.2345 - val_acc: 0.8986\n"
          ]
        },
        {
          "output_type": "stream",
          "name": "stderr",
          "text": [
            "/usr/local/lib/python3.8/dist-packages/keras/engine/training_v1.py:2067: UserWarning: `Model.state_updates` will be removed in a future version. This property should not be used in TensorFlow 2.0, as `updates` are applied automatically.\n",
            "  updates=self.state_updates,\n"
          ]
        },
        {
          "output_type": "stream",
          "name": "stdout",
          "text": [
            "[[3919  447]\n",
            " [  52  504]]\n",
            "Confusion matrix, without normalization\n",
            "              precision    recall  f1-score   support\n",
            "\n",
            "           0       0.99      0.90      0.94      4366\n",
            "           1       0.53      0.91      0.67       556\n",
            "\n",
            "    accuracy                           0.90      4922\n",
            "   macro avg       0.76      0.90      0.80      4922\n",
            "weighted avg       0.94      0.90      0.91      4922\n",
            "\n"
          ]
        },
        {
          "output_type": "display_data",
          "data": {
            "text/plain": [
              "<Figure size 432x288 with 2 Axes>"
            ],
            "image/png": "[encoded data removed]"
          },
          "metadata": {
            "needs_background": "light"
          }
        }
      ]
    },
    {
      "cell_type": "code",
      "source": [
        "X1=X.iloc[:,21:351]\n",
        "X2=X.iloc[:,351:3350]\n",
        "X3=pd.concat([X1,X2],axis=1)\n",
        "X_train, X_test, y_train, y_test=spreproces_data(X3,10,None,\"./standardscaler3m.obj\",training_set=True)\n",
        "\n",
        "model,X_train, X_test, y_train, y_test,train_cm,test_cm=training(40,\"model10_lookback3m.h5\")"
      ],
      "metadata": {
        "colab": {
          "base_uri": "https://localhost:8080/",
          "height": 1000
        },
        "id": "8QdiH2yKp9Ob",
        "outputId": "3f87665d-7eae-45bc-817f-4e79d40c68df"
      },
      "execution_count": null,
      "outputs": [
        {
          "output_type": "stream",
          "name": "stdout",
          "text": [
            "samples before augmentation44292\n",
            "samples before augmentation31901\n"
          ]
        },
        {
          "output_type": "stream",
          "name": "stderr",
          "text": [
            "WARNING:tensorflow:Layer lstm_6 will not use cuDNN kernels since it doesn't meet the criteria. It will use a generic GPU kernel as fallback when running on GPU.\n",
            "WARNING:tensorflow:Layer lstm_6 will not use cuDNN kernels since it doesn't meet the criteria. It will use a generic GPU kernel as fallback when running on GPU.\n",
            "WARNING:tensorflow:Layer lstm_6 will not use cuDNN kernels since it doesn't meet the criteria. It will use a generic GPU kernel as fallback when running on GPU.\n",
            "WARNING:tensorflow:Layer lstm_7 will not use cuDNN kernels since it doesn't meet the criteria. It will use a generic GPU kernel as fallback when running on GPU.\n",
            "WARNING:tensorflow:Layer lstm_7 will not use cuDNN kernels since it doesn't meet the criteria. It will use a generic GPU kernel as fallback when running on GPU.\n",
            "WARNING:tensorflow:Layer lstm_7 will not use cuDNN kernels since it doesn't meet the criteria. It will use a generic GPU kernel as fallback when running on GPU.\n",
            "WARNING:tensorflow:Layer lstm_8 will not use cuDNN kernels since it doesn't meet the criteria. It will use a generic GPU kernel as fallback when running on GPU.\n",
            "WARNING:tensorflow:Layer lstm_8 will not use cuDNN kernels since it doesn't meet the criteria. It will use a generic GPU kernel as fallback when running on GPU.\n",
            "WARNING:tensorflow:Layer lstm_8 will not use cuDNN kernels since it doesn't meet the criteria. It will use a generic GPU kernel as fallback when running on GPU.\n"
          ]
        },
        {
          "output_type": "stream",
          "name": "stdout",
          "text": [
            "Train on 31901 samples, validate on 4922 samples\n",
            "Epoch 1/40\n",
            "31744/31901 [============================>.] - ETA: 0s - loss: 0.5701 - acc: 0.7406"
          ]
        },
        {
          "output_type": "stream",
          "name": "stderr",
          "text": [
            "/usr/local/lib/python3.8/dist-packages/keras/engine/training_v1.py:2045: UserWarning: `Model.state_updates` will be removed in a future version. This property should not be used in TensorFlow 2.0, as `updates` are applied automatically.\n",
            "  updates = self.state_updates\n"
          ]
        },
        {
          "output_type": "stream",
          "name": "stdout",
          "text": [
            "\b\b\b\b\b\b\b\b\b\b\b\b\b\b\b\b\b\b\b\b\b\b\b\b\b\b\b\b\b\b\b\b\b\b\b\b\b\b\b\b\b\b\b\b\b\b\b\b\b\b\b\b\b\b\b\b\b\b\b\b\b\b\b\b\b\b\b\b\b\b\b\b\b\b\b\b\b\b\b\b\b\b\b\r31901/31901 [==============================] - 4s 140us/sample - loss: 0.5688 - acc: 0.7412 - val_loss: 0.4053 - val_acc: 0.8866\n",
            "Epoch 2/40\n",
            "31901/31901 [==============================] - 3s 95us/sample - loss: 0.3573 - acc: 0.8553 - val_loss: 0.2654 - val_acc: 0.9031\n",
            "Epoch 3/40\n",
            "31901/31901 [==============================] - 3s 95us/sample - loss: 0.3159 - acc: 0.8761 - val_loss: 0.2600 - val_acc: 0.8885\n",
            "Epoch 4/40\n",
            "31901/31901 [==============================] - 3s 95us/sample - loss: 0.2887 - acc: 0.8876 - val_loss: 0.2768 - val_acc: 0.8757\n",
            "Epoch 5/40\n",
            "31901/31901 [==============================] - 3s 95us/sample - loss: 0.2697 - acc: 0.8932 - val_loss: 0.3192 - val_acc: 0.8647\n",
            "Epoch 6/40\n",
            "31901/31901 [==============================] - 3s 95us/sample - loss: 0.2613 - acc: 0.9000 - val_loss: 0.2339 - val_acc: 0.8941\n",
            "Epoch 7/40\n",
            "31901/31901 [==============================] - 3s 95us/sample - loss: 0.2540 - acc: 0.9028 - val_loss: 0.2344 - val_acc: 0.8954\n",
            "Epoch 8/40\n",
            "31901/31901 [==============================] - 3s 95us/sample - loss: 0.2417 - acc: 0.9058 - val_loss: 0.2447 - val_acc: 0.8966\n",
            "Epoch 9/40\n",
            "31901/31901 [==============================] - 3s 95us/sample - loss: 0.2381 - acc: 0.9093 - val_loss: 0.2711 - val_acc: 0.8793\n",
            "Epoch 10/40\n",
            "31901/31901 [==============================] - 3s 95us/sample - loss: 0.2363 - acc: 0.9098 - val_loss: 0.2468 - val_acc: 0.8931\n",
            "Epoch 11/40\n",
            "31901/31901 [==============================] - 3s 97us/sample - loss: 0.2298 - acc: 0.9126 - val_loss: 0.2125 - val_acc: 0.9112\n",
            "Epoch 12/40\n",
            "31901/31901 [==============================] - 3s 101us/sample - loss: 0.2245 - acc: 0.9156 - val_loss: 0.2861 - val_acc: 0.8728\n",
            "Epoch 13/40\n",
            "31901/31901 [==============================] - 3s 97us/sample - loss: 0.2267 - acc: 0.9148 - val_loss: 0.2417 - val_acc: 0.8976\n",
            "Epoch 14/40\n",
            "31901/31901 [==============================] - 3s 97us/sample - loss: 0.2163 - acc: 0.9186 - val_loss: 0.2262 - val_acc: 0.8990\n",
            "Epoch 15/40\n",
            "31901/31901 [==============================] - 3s 95us/sample - loss: 0.2078 - acc: 0.9217 - val_loss: 0.2016 - val_acc: 0.9206\n",
            "Epoch 16/40\n",
            "31901/31901 [==============================] - 3s 96us/sample - loss: 0.2107 - acc: 0.9224 - val_loss: 0.2141 - val_acc: 0.9067\n",
            "Epoch 17/40\n",
            "31901/31901 [==============================] - 3s 96us/sample - loss: 0.2078 - acc: 0.9218 - val_loss: 0.2447 - val_acc: 0.8956\n",
            "Epoch 18/40\n",
            "31901/31901 [==============================] - 3s 98us/sample - loss: 0.2046 - acc: 0.9237 - val_loss: 0.2155 - val_acc: 0.9069\n",
            "Epoch 19/40\n",
            "31901/31901 [==============================] - 3s 106us/sample - loss: 0.2010 - acc: 0.9257 - val_loss: 0.2029 - val_acc: 0.9157\n",
            "Epoch 20/40\n",
            "31901/31901 [==============================] - 3s 102us/sample - loss: 0.1970 - acc: 0.9276 - val_loss: 0.2284 - val_acc: 0.8984\n",
            "Epoch 21/40\n",
            "31901/31901 [==============================] - 3s 101us/sample - loss: 0.1949 - acc: 0.9280 - val_loss: 0.2514 - val_acc: 0.8905\n",
            "Epoch 22/40\n",
            "31901/31901 [==============================] - 3s 101us/sample - loss: 0.1931 - acc: 0.9282 - val_loss: 0.1868 - val_acc: 0.9224\n",
            "Epoch 23/40\n",
            "31901/31901 [==============================] - 3s 108us/sample - loss: 0.1902 - acc: 0.9298 - val_loss: 0.2178 - val_acc: 0.9163\n",
            "Epoch 24/40\n",
            "31901/31901 [==============================] - 3s 98us/sample - loss: 0.1870 - acc: 0.9314 - val_loss: 0.2076 - val_acc: 0.9106\n",
            "Epoch 25/40\n",
            "31901/31901 [==============================] - 3s 101us/sample - loss: 0.1867 - acc: 0.9305 - val_loss: 0.2277 - val_acc: 0.9128\n",
            "Epoch 26/40\n",
            "31901/31901 [==============================] - 3s 102us/sample - loss: 0.1867 - acc: 0.9318 - val_loss: 0.2176 - val_acc: 0.9112\n",
            "Epoch 27/40\n",
            "31901/31901 [==============================] - 3s 104us/sample - loss: 0.1830 - acc: 0.9335 - val_loss: 0.1948 - val_acc: 0.9200\n",
            "Epoch 28/40\n",
            "31901/31901 [==============================] - 3s 102us/sample - loss: 0.1834 - acc: 0.9341 - val_loss: 0.2277 - val_acc: 0.8982\n",
            "Epoch 29/40\n",
            "31901/31901 [==============================] - 3s 100us/sample - loss: 0.1805 - acc: 0.9356 - val_loss: 0.1915 - val_acc: 0.9171\n",
            "Epoch 30/40\n",
            "31901/31901 [==============================] - 3s 101us/sample - loss: 0.1815 - acc: 0.9351 - val_loss: 0.2220 - val_acc: 0.9130\n",
            "Epoch 31/40\n",
            "31901/31901 [==============================] - 3s 96us/sample - loss: 0.1764 - acc: 0.9366 - val_loss: 0.1923 - val_acc: 0.9218\n",
            "Epoch 32/40\n",
            "31901/31901 [==============================] - 3s 97us/sample - loss: 0.1709 - acc: 0.9367 - val_loss: 0.2458 - val_acc: 0.8988\n",
            "Epoch 33/40\n",
            "31901/31901 [==============================] - 3s 96us/sample - loss: 0.1681 - acc: 0.9391 - val_loss: 0.2085 - val_acc: 0.9145\n",
            "Epoch 34/40\n",
            "31901/31901 [==============================] - 3s 97us/sample - loss: 0.1715 - acc: 0.9376 - val_loss: 0.1771 - val_acc: 0.9224\n",
            "Epoch 35/40\n",
            "31901/31901 [==============================] - 3s 96us/sample - loss: 0.1669 - acc: 0.9399 - val_loss: 0.2041 - val_acc: 0.9169\n",
            "Epoch 36/40\n",
            "31901/31901 [==============================] - 3s 96us/sample - loss: 0.1685 - acc: 0.9390 - val_loss: 0.2279 - val_acc: 0.9102\n",
            "Epoch 37/40\n",
            "31901/31901 [==============================] - 3s 96us/sample - loss: 0.1694 - acc: 0.9382 - val_loss: 0.1879 - val_acc: 0.9248\n",
            "Epoch 38/40\n",
            "31901/31901 [==============================] - 3s 98us/sample - loss: 0.1649 - acc: 0.9404 - val_loss: 0.2028 - val_acc: 0.9130\n",
            "Epoch 39/40\n",
            "31901/31901 [==============================] - 3s 97us/sample - loss: 0.1625 - acc: 0.9413 - val_loss: 0.2367 - val_acc: 0.9096\n",
            "Epoch 40/40\n",
            "31901/31901 [==============================] - 3s 98us/sample - loss: 0.1592 - acc: 0.9436 - val_loss: 0.1978 - val_acc: 0.9216\n"
          ]
        },
        {
          "output_type": "stream",
          "name": "stderr",
          "text": [
            "/usr/local/lib/python3.8/dist-packages/keras/engine/training_v1.py:2067: UserWarning: `Model.state_updates` will be removed in a future version. This property should not be used in TensorFlow 2.0, as `updates` are applied automatically.\n",
            "  updates=self.state_updates,\n"
          ]
        },
        {
          "output_type": "stream",
          "name": "stdout",
          "text": [
            "[[4196  348]\n",
            " [  38  340]]\n",
            "Confusion matrix, without normalization\n",
            "              precision    recall  f1-score   support\n",
            "\n",
            "           0       0.99      0.92      0.96      4544\n",
            "           1       0.49      0.90      0.64       378\n",
            "\n",
            "    accuracy                           0.92      4922\n",
            "   macro avg       0.74      0.91      0.80      4922\n",
            "weighted avg       0.95      0.92      0.93      4922\n",
            "\n"
          ]
        },
        {
          "output_type": "display_data",
          "data": {
            "text/plain": [
              "<Figure size 432x288 with 2 Axes>"
            ],
            "image/png": "[encoded data removed]"
          },
          "metadata": {
            "needs_background": "light"
          }
        }
      ]
    },
    {
      "cell_type": "code",
      "source": [
        "X1=X.iloc[:,21:351]\n",
        "X2=X.iloc[:,351:3350]\n",
        "X3=pd.concat([X1,X2],axis=1)\n",
        "X_train, X_test, y_train, y_test=spreproces_data(X3,15,None,\"./standardscaler3m.obj\",training_set=True)\n",
        "\n",
        "model,X_train, X_test, y_train, y_test,train_cm,test_cm=training(40,\"model15_lookback3m.h5\")\n"
      ],
      "metadata": {
        "colab": {
          "base_uri": "https://localhost:8080/",
          "height": 1000
        },
        "id": "pvZC7phhAA4g",
        "outputId": "189b1053-58e4-4cbd-9c0c-cf1ba22082c6"
      },
      "execution_count": null,
      "outputs": [
        {
          "output_type": "stream",
          "name": "stdout",
          "text": [
            "samples before augmentation44292\n",
            "samples before augmentation21308\n"
          ]
        },
        {
          "output_type": "stream",
          "name": "stderr",
          "text": [
            "WARNING:tensorflow:From /usr/local/lib/python3.8/dist-packages/keras/layers/normalization/batch_normalization.py:514: _colocate_with (from tensorflow.python.framework.ops) is deprecated and will be removed in a future version.\n",
            "Instructions for updating:\n",
            "Colocations handled automatically by placer.\n",
            "WARNING:tensorflow:Layer lstm will not use cuDNN kernels since it doesn't meet the criteria. It will use a generic GPU kernel as fallback when running on GPU.\n",
            "WARNING:tensorflow:From /usr/local/lib/python3.8/dist-packages/tensorflow/python/ops/init_ops.py:93: calling GlorotUniform.__init__ (from tensorflow.python.ops.init_ops) with dtype is deprecated and will be removed in a future version.\n",
            "Instructions for updating:\n",
            "Call initializer instance with the dtype argument instead of passing it to the constructor\n",
            "WARNING:tensorflow:From /usr/local/lib/python3.8/dist-packages/tensorflow/python/ops/init_ops.py:93: calling Orthogonal.__init__ (from tensorflow.python.ops.init_ops) with dtype is deprecated and will be removed in a future version.\n",
            "Instructions for updating:\n",
            "Call initializer instance with the dtype argument instead of passing it to the constructor\n",
            "WARNING:tensorflow:From /usr/local/lib/python3.8/dist-packages/tensorflow/python/ops/init_ops.py:93: calling Zeros.__init__ (from tensorflow.python.ops.init_ops) with dtype is deprecated and will be removed in a future version.\n",
            "Instructions for updating:\n",
            "Call initializer instance with the dtype argument instead of passing it to the constructor\n",
            "WARNING:tensorflow:Layer lstm will not use cuDNN kernels since it doesn't meet the criteria. It will use a generic GPU kernel as fallback when running on GPU.\n",
            "WARNING:tensorflow:Layer lstm will not use cuDNN kernels since it doesn't meet the criteria. It will use a generic GPU kernel as fallback when running on GPU.\n",
            "WARNING:tensorflow:Layer lstm_1 will not use cuDNN kernels since it doesn't meet the criteria. It will use a generic GPU kernel as fallback when running on GPU.\n",
            "WARNING:tensorflow:Layer lstm_1 will not use cuDNN kernels since it doesn't meet the criteria. It will use a generic GPU kernel as fallback when running on GPU.\n",
            "WARNING:tensorflow:Layer lstm_1 will not use cuDNN kernels since it doesn't meet the criteria. It will use a generic GPU kernel as fallback when running on GPU.\n",
            "WARNING:tensorflow:Layer lstm_2 will not use cuDNN kernels since it doesn't meet the criteria. It will use a generic GPU kernel as fallback when running on GPU.\n",
            "WARNING:tensorflow:Layer lstm_2 will not use cuDNN kernels since it doesn't meet the criteria. It will use a generic GPU kernel as fallback when running on GPU.\n",
            "WARNING:tensorflow:Layer lstm_2 will not use cuDNN kernels since it doesn't meet the criteria. It will use a generic GPU kernel as fallback when running on GPU.\n"
          ]
        },
        {
          "output_type": "stream",
          "name": "stdout",
          "text": [
            "Train on 21308 samples, validate on 4922 samples\n",
            "Epoch 1/40\n",
            "21308/21308 [==============================] - ETA: 0s - loss: 0.5930 - acc: 0.7349"
          ]
        },
        {
          "output_type": "stream",
          "name": "stderr",
          "text": [
            "/usr/local/lib/python3.8/dist-packages/keras/engine/training_v1.py:2045: UserWarning: `Model.state_updates` will be removed in a future version. This property should not be used in TensorFlow 2.0, as `updates` are applied automatically.\n",
            "  updates = self.state_updates\n"
          ]
        },
        {
          "output_type": "stream",
          "name": "stdout",
          "text": [
            "\b\b\b\b\b\b\b\b\b\b\b\b\b\b\b\b\b\b\b\b\b\b\b\b\b\b\b\b\b\b\b\b\b\b\b\b\b\b\b\b\b\b\b\b\b\b\b\b\b\b\b\b\b\b\b\b\b\b\b\b\b\b\b\b\b\b\b\b\b\b\b\b\b\b\b\b\b\b\b\b\b\b\b\r21308/21308 [==============================] - 12s 557us/sample - loss: 0.5930 - acc: 0.7349 - val_loss: 0.4337 - val_acc: 0.8320\n",
            "Epoch 2/40\n",
            "21308/21308 [==============================] - 2s 109us/sample - loss: 0.3506 - acc: 0.8641 - val_loss: 0.2884 - val_acc: 0.9285\n",
            "Epoch 3/40\n",
            "21308/21308 [==============================] - 2s 100us/sample - loss: 0.2769 - acc: 0.8982 - val_loss: 0.2590 - val_acc: 0.9118\n",
            "Epoch 4/40\n",
            "21308/21308 [==============================] - 2s 101us/sample - loss: 0.2489 - acc: 0.9057 - val_loss: 0.2141 - val_acc: 0.9145\n",
            "Epoch 5/40\n",
            "21308/21308 [==============================] - 2s 101us/sample - loss: 0.2256 - acc: 0.9172 - val_loss: 0.2428 - val_acc: 0.8970\n",
            "Epoch 6/40\n",
            "21308/21308 [==============================] - 2s 101us/sample - loss: 0.2159 - acc: 0.9214 - val_loss: 0.1646 - val_acc: 0.9374\n",
            "Epoch 7/40\n",
            "21308/21308 [==============================] - 2s 100us/sample - loss: 0.2040 - acc: 0.9281 - val_loss: 0.1779 - val_acc: 0.9291\n",
            "Epoch 8/40\n",
            "21308/21308 [==============================] - 2s 101us/sample - loss: 0.1995 - acc: 0.9293 - val_loss: 0.2129 - val_acc: 0.9153\n",
            "Epoch 9/40\n",
            "21308/21308 [==============================] - 2s 99us/sample - loss: 0.1960 - acc: 0.9317 - val_loss: 0.2179 - val_acc: 0.9141\n",
            "Epoch 10/40\n",
            "21308/21308 [==============================] - 2s 102us/sample - loss: 0.1897 - acc: 0.9334 - val_loss: 0.2089 - val_acc: 0.9179\n",
            "Epoch 11/40\n",
            "21308/21308 [==============================] - 2s 101us/sample - loss: 0.1837 - acc: 0.9358 - val_loss: 0.2125 - val_acc: 0.9187\n",
            "Epoch 12/40\n",
            "21308/21308 [==============================] - 2s 99us/sample - loss: 0.1851 - acc: 0.9366 - val_loss: 0.1970 - val_acc: 0.9281\n",
            "Epoch 13/40\n",
            "21308/21308 [==============================] - 2s 100us/sample - loss: 0.1730 - acc: 0.9405 - val_loss: 0.1982 - val_acc: 0.9242\n",
            "Epoch 14/40\n",
            "21308/21308 [==============================] - 2s 102us/sample - loss: 0.1798 - acc: 0.9384 - val_loss: 0.2488 - val_acc: 0.9041\n",
            "Epoch 15/40\n",
            "21308/21308 [==============================] - 2s 101us/sample - loss: 0.1713 - acc: 0.9420 - val_loss: 0.1928 - val_acc: 0.9242\n",
            "Epoch 16/40\n",
            "21308/21308 [==============================] - 2s 101us/sample - loss: 0.1715 - acc: 0.9410 - val_loss: 0.1736 - val_acc: 0.9354\n",
            "Epoch 17/40\n",
            "21308/21308 [==============================] - 2s 105us/sample - loss: 0.1697 - acc: 0.9448 - val_loss: 0.1913 - val_acc: 0.9305\n",
            "Epoch 18/40\n",
            "21308/21308 [==============================] - 2s 103us/sample - loss: 0.1670 - acc: 0.9439 - val_loss: 0.2191 - val_acc: 0.9149\n",
            "Epoch 19/40\n",
            "21308/21308 [==============================] - 2s 103us/sample - loss: 0.1636 - acc: 0.9442 - val_loss: 0.2026 - val_acc: 0.9256\n",
            "Epoch 20/40\n",
            "21308/21308 [==============================] - 2s 102us/sample - loss: 0.1651 - acc: 0.9444 - val_loss: 0.1967 - val_acc: 0.9260\n",
            "Epoch 21/40\n",
            "21308/21308 [==============================] - 2s 102us/sample - loss: 0.1589 - acc: 0.9464 - val_loss: 0.1620 - val_acc: 0.9366\n",
            "Epoch 22/40\n",
            "21308/21308 [==============================] - 2s 100us/sample - loss: 0.1630 - acc: 0.9441 - val_loss: 0.1868 - val_acc: 0.9289\n",
            "Epoch 23/40\n",
            "21308/21308 [==============================] - 2s 101us/sample - loss: 0.1614 - acc: 0.9467 - val_loss: 0.1639 - val_acc: 0.9364\n",
            "Epoch 24/40\n",
            "21308/21308 [==============================] - 2s 110us/sample - loss: 0.1610 - acc: 0.9457 - val_loss: 0.1932 - val_acc: 0.9275\n",
            "Epoch 25/40\n",
            "21308/21308 [==============================] - 2s 100us/sample - loss: 0.1566 - acc: 0.9466 - val_loss: 0.1621 - val_acc: 0.9384\n",
            "Epoch 26/40\n",
            "21308/21308 [==============================] - 2s 100us/sample - loss: 0.1567 - acc: 0.9476 - val_loss: 0.1457 - val_acc: 0.9415\n",
            "Epoch 27/40\n",
            "21308/21308 [==============================] - 2s 98us/sample - loss: 0.1575 - acc: 0.9460 - val_loss: 0.1990 - val_acc: 0.9230\n",
            "Epoch 28/40\n",
            "21308/21308 [==============================] - 2s 98us/sample - loss: 0.1510 - acc: 0.9493 - val_loss: 0.1931 - val_acc: 0.9248\n",
            "Epoch 29/40\n",
            "21308/21308 [==============================] - 2s 98us/sample - loss: 0.1508 - acc: 0.9484 - val_loss: 0.1863 - val_acc: 0.9277\n",
            "Epoch 30/40\n",
            "21308/21308 [==============================] - 2s 99us/sample - loss: 0.1524 - acc: 0.9474 - val_loss: 0.1633 - val_acc: 0.9405\n",
            "Epoch 31/40\n",
            "21308/21308 [==============================] - 2s 99us/sample - loss: 0.1476 - acc: 0.9508 - val_loss: 0.2039 - val_acc: 0.9238\n",
            "Epoch 32/40\n",
            "21308/21308 [==============================] - 2s 99us/sample - loss: 0.1441 - acc: 0.9506 - val_loss: 0.1820 - val_acc: 0.9301\n",
            "Epoch 33/40\n",
            "21308/21308 [==============================] - 2s 100us/sample - loss: 0.1476 - acc: 0.9504 - val_loss: 0.1898 - val_acc: 0.9230\n",
            "Epoch 34/40\n",
            "21308/21308 [==============================] - 2s 100us/sample - loss: 0.1501 - acc: 0.9493 - val_loss: 0.1780 - val_acc: 0.9344\n",
            "Epoch 35/40\n",
            "21308/21308 [==============================] - 2s 99us/sample - loss: 0.1515 - acc: 0.9493 - val_loss: 0.1598 - val_acc: 0.9380\n",
            "Epoch 36/40\n",
            "21308/21308 [==============================] - 2s 100us/sample - loss: 0.1480 - acc: 0.9504 - val_loss: 0.1891 - val_acc: 0.9315\n",
            "Epoch 37/40\n",
            "21308/21308 [==============================] - 2s 99us/sample - loss: 0.1483 - acc: 0.9513 - val_loss: 0.1898 - val_acc: 0.9252\n",
            "Epoch 38/40\n",
            "21308/21308 [==============================] - 2s 100us/sample - loss: 0.1406 - acc: 0.9530 - val_loss: 0.1745 - val_acc: 0.9352\n",
            "Epoch 39/40\n",
            "21308/21308 [==============================] - 2s 101us/sample - loss: 0.1418 - acc: 0.9530 - val_loss: 0.1790 - val_acc: 0.9368\n",
            "Epoch 40/40\n",
            "21308/21308 [==============================] - 2s 102us/sample - loss: 0.1488 - acc: 0.9495 - val_loss: 0.1554 - val_acc: 0.9384\n"
          ]
        },
        {
          "output_type": "stream",
          "name": "stderr",
          "text": [
            "/usr/local/lib/python3.8/dist-packages/keras/engine/training_v1.py:2067: UserWarning: `Model.state_updates` will be removed in a future version. This property should not be used in TensorFlow 2.0, as `updates` are applied automatically.\n",
            "  updates=self.state_updates,\n"
          ]
        },
        {
          "output_type": "stream",
          "name": "stdout",
          "text": [
            "[[4388  275]\n",
            " [  28  231]]\n",
            "Confusion matrix, without normalization\n",
            "              precision    recall  f1-score   support\n",
            "\n",
            "           0       0.99      0.94      0.97      4663\n",
            "           1       0.46      0.89      0.60       259\n",
            "\n",
            "    accuracy                           0.94      4922\n",
            "   macro avg       0.73      0.92      0.79      4922\n",
            "weighted avg       0.97      0.94      0.95      4922\n",
            "\n"
          ]
        },
        {
          "output_type": "display_data",
          "data": {
            "text/plain": [
              "<Figure size 432x288 with 2 Axes>"
            ],
            "image/png": "[encoded data removed]"
          },
          "metadata": {
            "needs_background": "light"
          }
        }
      ]
    },
    {
      "cell_type": "code",
      "source": [
        "X1=X.iloc[:,21:351]\n",
        "X2=X.iloc[:,351:3350]\n",
        "X3=pd.concat([X1,X2],axis=1)\n",
        "X_train, X_test, y_train, y_test=spreproces_data(X3,10,None,\"./standardscaler3m.obj\",training_set=True)\n",
        "\n",
        "model,X_train, X_test, y_train, y_test,train_cm,test_cm=training(40,\"model15_lookback3m.h5\")\n"
      ],
      "metadata": {
        "colab": {
          "base_uri": "https://localhost:8080/",
          "height": 1000
        },
        "id": "DEechDayyfKN",
        "outputId": "8a09c9a2-77ab-42af-8154-0656e21b0362"
      },
      "execution_count": null,
      "outputs": [
        {
          "output_type": "stream",
          "name": "stdout",
          "text": [
            "samples before augmentation44292\n",
            "samples before augmentation31901\n"
          ]
        },
        {
          "output_type": "stream",
          "name": "stderr",
          "text": [
            "WARNING:tensorflow:Layer lstm_9 will not use cuDNN kernels since it doesn't meet the criteria. It will use a generic GPU kernel as fallback when running on GPU.\n",
            "WARNING:tensorflow:Layer lstm_9 will not use cuDNN kernels since it doesn't meet the criteria. It will use a generic GPU kernel as fallback when running on GPU.\n",
            "WARNING:tensorflow:Layer lstm_9 will not use cuDNN kernels since it doesn't meet the criteria. It will use a generic GPU kernel as fallback when running on GPU.\n",
            "WARNING:tensorflow:Layer lstm_10 will not use cuDNN kernels since it doesn't meet the criteria. It will use a generic GPU kernel as fallback when running on GPU.\n",
            "WARNING:tensorflow:Layer lstm_10 will not use cuDNN kernels since it doesn't meet the criteria. It will use a generic GPU kernel as fallback when running on GPU.\n",
            "WARNING:tensorflow:Layer lstm_10 will not use cuDNN kernels since it doesn't meet the criteria. It will use a generic GPU kernel as fallback when running on GPU.\n",
            "WARNING:tensorflow:Layer lstm_11 will not use cuDNN kernels since it doesn't meet the criteria. It will use a generic GPU kernel as fallback when running on GPU.\n",
            "WARNING:tensorflow:Layer lstm_11 will not use cuDNN kernels since it doesn't meet the criteria. It will use a generic GPU kernel as fallback when running on GPU.\n",
            "WARNING:tensorflow:Layer lstm_11 will not use cuDNN kernels since it doesn't meet the criteria. It will use a generic GPU kernel as fallback when running on GPU.\n"
          ]
        },
        {
          "output_type": "stream",
          "name": "stdout",
          "text": [
            "Train on 31901 samples, validate on 4922 samples\n",
            "Epoch 1/40\n",
            "31744/31901 [============================>.] - ETA: 0s - loss: 0.5466 - acc: 0.7459"
          ]
        },
        {
          "output_type": "stream",
          "name": "stderr",
          "text": [
            "/usr/local/lib/python3.8/dist-packages/keras/engine/training_v1.py:2045: UserWarning: `Model.state_updates` will be removed in a future version. This property should not be used in TensorFlow 2.0, as `updates` are applied automatically.\n",
            "  updates = self.state_updates\n"
          ]
        },
        {
          "output_type": "stream",
          "name": "stdout",
          "text": [
            "\b\b\b\b\b\b\b\b\b\b\b\b\b\b\b\b\b\b\b\b\b\b\b\b\b\b\b\b\b\b\b\b\b\b\b\b\b\b\b\b\b\b\b\b\b\b\b\b\b\b\b\b\b\b\b\b\b\b\b\b\b\b\b\b\b\b\b\b\b\b\b\b\b\b\b\b\b\b\b\b\b\b\b\r31901/31901 [==============================] - 5s 149us/sample - loss: 0.5459 - acc: 0.7463 - val_loss: 0.4039 - val_acc: 0.9019\n",
            "Epoch 2/40\n",
            "31901/31901 [==============================] - 3s 100us/sample - loss: 0.3323 - acc: 0.8695 - val_loss: 0.2406 - val_acc: 0.9183\n",
            "Epoch 3/40\n",
            "31901/31901 [==============================] - 3s 100us/sample - loss: 0.2904 - acc: 0.8879 - val_loss: 0.2547 - val_acc: 0.8907\n",
            "Epoch 4/40\n",
            "31901/31901 [==============================] - 3s 99us/sample - loss: 0.2691 - acc: 0.8960 - val_loss: 0.2650 - val_acc: 0.8913\n",
            "Epoch 5/40\n",
            "31901/31901 [==============================] - 3s 98us/sample - loss: 0.2547 - acc: 0.9024 - val_loss: 0.2608 - val_acc: 0.8927\n",
            "Epoch 6/40\n",
            "31901/31901 [==============================] - 3s 99us/sample - loss: 0.2510 - acc: 0.9042 - val_loss: 0.2507 - val_acc: 0.8966\n",
            "Epoch 7/40\n",
            "31901/31901 [==============================] - 3s 98us/sample - loss: 0.2386 - acc: 0.9093 - val_loss: 0.2533 - val_acc: 0.8968\n",
            "Epoch 8/40\n",
            "31901/31901 [==============================] - 3s 99us/sample - loss: 0.2338 - acc: 0.9112 - val_loss: 0.2932 - val_acc: 0.8826\n",
            "Epoch 9/40\n",
            "31901/31901 [==============================] - 3s 101us/sample - loss: 0.2250 - acc: 0.9154 - val_loss: 0.2201 - val_acc: 0.9061\n",
            "Epoch 10/40\n",
            "31901/31901 [==============================] - 3s 99us/sample - loss: 0.2206 - acc: 0.9190 - val_loss: 0.2824 - val_acc: 0.8771\n",
            "Epoch 11/40\n",
            "31901/31901 [==============================] - 3s 100us/sample - loss: 0.2189 - acc: 0.9177 - val_loss: 0.2644 - val_acc: 0.8937\n",
            "Epoch 12/40\n",
            "31901/31901 [==============================] - 3s 102us/sample - loss: 0.2157 - acc: 0.9201 - val_loss: 0.2195 - val_acc: 0.9088\n",
            "Epoch 13/40\n",
            "31901/31901 [==============================] - 3s 101us/sample - loss: 0.2092 - acc: 0.9226 - val_loss: 0.2659 - val_acc: 0.8889\n",
            "Epoch 14/40\n",
            "31901/31901 [==============================] - 3s 100us/sample - loss: 0.2054 - acc: 0.9226 - val_loss: 0.2326 - val_acc: 0.8986\n",
            "Epoch 15/40\n",
            "31901/31901 [==============================] - 3s 103us/sample - loss: 0.2034 - acc: 0.9245 - val_loss: 0.2521 - val_acc: 0.8992\n",
            "Epoch 16/40\n",
            "31901/31901 [==============================] - 3s 105us/sample - loss: 0.1992 - acc: 0.9253 - val_loss: 0.2563 - val_acc: 0.8925\n",
            "Epoch 17/40\n",
            "31901/31901 [==============================] - 3s 106us/sample - loss: 0.1963 - acc: 0.9286 - val_loss: 0.2368 - val_acc: 0.9041\n",
            "Epoch 18/40\n",
            "31901/31901 [==============================] - 3s 104us/sample - loss: 0.1965 - acc: 0.9273 - val_loss: 0.2432 - val_acc: 0.9015\n",
            "Epoch 19/40\n",
            "31901/31901 [==============================] - 3s 102us/sample - loss: 0.1894 - acc: 0.9313 - val_loss: 0.2372 - val_acc: 0.9084\n",
            "Epoch 20/40\n",
            "31901/31901 [==============================] - 3s 100us/sample - loss: 0.1866 - acc: 0.9306 - val_loss: 0.2338 - val_acc: 0.9076\n",
            "Epoch 21/40\n",
            "31901/31901 [==============================] - 3s 100us/sample - loss: 0.1841 - acc: 0.9323 - val_loss: 0.2230 - val_acc: 0.9118\n",
            "Epoch 22/40\n",
            "31901/31901 [==============================] - 3s 102us/sample - loss: 0.1811 - acc: 0.9333 - val_loss: 0.2261 - val_acc: 0.9165\n",
            "Epoch 23/40\n",
            "31901/31901 [==============================] - 3s 101us/sample - loss: 0.1895 - acc: 0.9290 - val_loss: 0.1837 - val_acc: 0.9200\n",
            "Epoch 24/40\n",
            "31901/31901 [==============================] - 3s 104us/sample - loss: 0.1829 - acc: 0.9323 - val_loss: 0.2370 - val_acc: 0.9007\n",
            "Epoch 25/40\n",
            "31901/31901 [==============================] - 3s 100us/sample - loss: 0.1770 - acc: 0.9360 - val_loss: 0.2494 - val_acc: 0.9011\n",
            "Epoch 26/40\n",
            "31901/31901 [==============================] - 3s 100us/sample - loss: 0.1774 - acc: 0.9346 - val_loss: 0.2403 - val_acc: 0.9021\n",
            "Epoch 27/40\n",
            "31901/31901 [==============================] - 3s 102us/sample - loss: 0.1809 - acc: 0.9336 - val_loss: 0.2105 - val_acc: 0.9171\n",
            "Epoch 28/40\n",
            "31901/31901 [==============================] - 3s 102us/sample - loss: 0.1769 - acc: 0.9365 - val_loss: 0.2438 - val_acc: 0.9051\n",
            "Epoch 29/40\n",
            "31901/31901 [==============================] - 3s 103us/sample - loss: 0.1739 - acc: 0.9353 - val_loss: 0.2565 - val_acc: 0.8996\n",
            "Epoch 30/40\n",
            "31901/31901 [==============================] - 3s 104us/sample - loss: 0.1725 - acc: 0.9379 - val_loss: 0.2307 - val_acc: 0.9100\n",
            "Epoch 31/40\n",
            "31901/31901 [==============================] - 3s 108us/sample - loss: 0.1725 - acc: 0.9374 - val_loss: 0.2533 - val_acc: 0.8968\n",
            "Epoch 32/40\n",
            "31901/31901 [==============================] - 3s 99us/sample - loss: 0.1673 - acc: 0.9382 - val_loss: 0.1956 - val_acc: 0.9230\n",
            "Epoch 33/40\n",
            "31901/31901 [==============================] - 3s 99us/sample - loss: 0.1701 - acc: 0.9377 - val_loss: 0.2225 - val_acc: 0.9139\n",
            "Epoch 34/40\n",
            "31901/31901 [==============================] - 3s 99us/sample - loss: 0.1710 - acc: 0.9376 - val_loss: 0.1865 - val_acc: 0.9232\n",
            "Epoch 35/40\n",
            "31901/31901 [==============================] - 3s 100us/sample - loss: 0.1616 - acc: 0.9405 - val_loss: 0.2077 - val_acc: 0.9183\n",
            "Epoch 36/40\n",
            "31901/31901 [==============================] - 3s 100us/sample - loss: 0.1637 - acc: 0.9392 - val_loss: 0.1831 - val_acc: 0.9325\n",
            "Epoch 37/40\n",
            "31901/31901 [==============================] - 3s 100us/sample - loss: 0.1620 - acc: 0.9403 - val_loss: 0.2007 - val_acc: 0.9214\n",
            "Epoch 38/40\n",
            "31901/31901 [==============================] - 3s 100us/sample - loss: 0.1616 - acc: 0.9406 - val_loss: 0.2165 - val_acc: 0.9143\n",
            "Epoch 39/40\n",
            "31901/31901 [==============================] - 3s 99us/sample - loss: 0.1585 - acc: 0.9424 - val_loss: 0.2074 - val_acc: 0.9161\n",
            "Epoch 40/40\n",
            "31901/31901 [==============================] - 3s 100us/sample - loss: 0.1647 - acc: 0.9403 - val_loss: 0.2241 - val_acc: 0.9157\n"
          ]
        },
        {
          "output_type": "stream",
          "name": "stderr",
          "text": [
            "/usr/local/lib/python3.8/dist-packages/keras/engine/training_v1.py:2067: UserWarning: `Model.state_updates` will be removed in a future version. This property should not be used in TensorFlow 2.0, as `updates` are applied automatically.\n",
            "  updates=self.state_updates,\n"
          ]
        },
        {
          "output_type": "stream",
          "name": "stdout",
          "text": [
            "[[4166  378]\n",
            " [  37  341]]\n",
            "Confusion matrix, without normalization\n",
            "              precision    recall  f1-score   support\n",
            "\n",
            "           0       0.99      0.92      0.95      4544\n",
            "           1       0.47      0.90      0.62       378\n",
            "\n",
            "    accuracy                           0.92      4922\n",
            "   macro avg       0.73      0.91      0.79      4922\n",
            "weighted avg       0.95      0.92      0.93      4922\n",
            "\n"
          ]
        },
        {
          "output_type": "display_data",
          "data": {
            "text/plain": [
              "<Figure size 432x288 with 2 Axes>"
            ],
            "image/png": "[encoded data removed]"
          },
          "metadata": {
            "needs_background": "light"
          }
        }
      ]
    },
    {
      "cell_type": "code",
      "source": [
        "X1=X.iloc[:,21:351]\n",
        "X2=X.iloc[:,351:3350]\n",
        "X3=pd.concat([X1,X2],axis=1)\n",
        "X_train, X_test, y_train, y_test=spreproces_data(X3,28,None,\"./standardscaler3m.obj\",training_set=True)\n",
        "\n",
        "model,X_train, X_test, y_train, y_test,train_cm,test_cm=training(40,\"model128_lookback3m.h5\")\n"
      ],
      "metadata": {
        "colab": {
          "base_uri": "https://localhost:8080/",
          "height": 1000
        },
        "id": "pVEcLbFR4LNu",
        "outputId": "c87730ec-588c-4623-8fe5-5f3ceaf24670"
      },
      "execution_count": null,
      "outputs": [
        {
          "output_type": "stream",
          "name": "stdout",
          "text": [
            "samples before augmentation44292\n"
          ]
        },
        {
          "output_type": "stream",
          "name": "stderr",
          "text": [
            "WARNING:tensorflow:Layer lstm_12 will not use cuDNN kernels since it doesn't meet the criteria. It will use a generic GPU kernel as fallback when running on GPU.\n",
            "WARNING:tensorflow:Layer lstm_12 will not use cuDNN kernels since it doesn't meet the criteria. It will use a generic GPU kernel as fallback when running on GPU.\n",
            "WARNING:tensorflow:Layer lstm_12 will not use cuDNN kernels since it doesn't meet the criteria. It will use a generic GPU kernel as fallback when running on GPU.\n"
          ]
        },
        {
          "output_type": "stream",
          "name": "stdout",
          "text": [
            "samples before augmentation6564\n"
          ]
        },
        {
          "output_type": "stream",
          "name": "stderr",
          "text": [
            "WARNING:tensorflow:Layer lstm_13 will not use cuDNN kernels since it doesn't meet the criteria. It will use a generic GPU kernel as fallback when running on GPU.\n",
            "WARNING:tensorflow:Layer lstm_13 will not use cuDNN kernels since it doesn't meet the criteria. It will use a generic GPU kernel as fallback when running on GPU.\n",
            "WARNING:tensorflow:Layer lstm_13 will not use cuDNN kernels since it doesn't meet the criteria. It will use a generic GPU kernel as fallback when running on GPU.\n",
            "WARNING:tensorflow:Layer lstm_14 will not use cuDNN kernels since it doesn't meet the criteria. It will use a generic GPU kernel as fallback when running on GPU.\n",
            "WARNING:tensorflow:Layer lstm_14 will not use cuDNN kernels since it doesn't meet the criteria. It will use a generic GPU kernel as fallback when running on GPU.\n",
            "WARNING:tensorflow:Layer lstm_14 will not use cuDNN kernels since it doesn't meet the criteria. It will use a generic GPU kernel as fallback when running on GPU.\n"
          ]
        },
        {
          "output_type": "stream",
          "name": "stdout",
          "text": [
            "Train on 6564 samples, validate on 4922 samples\n",
            "Epoch 1/40\n",
            "6564/6564 [==============================] - ETA: 0s - loss: 0.5534 - acc: 0.7444"
          ]
        },
        {
          "output_type": "stream",
          "name": "stderr",
          "text": [
            "/usr/local/lib/python3.8/dist-packages/keras/engine/training_v1.py:2045: UserWarning: `Model.state_updates` will be removed in a future version. This property should not be used in TensorFlow 2.0, as `updates` are applied automatically.\n",
            "  updates = self.state_updates\n"
          ]
        },
        {
          "output_type": "stream",
          "name": "stdout",
          "text": [
            "\b\b\b\b\b\b\b\b\b\b\b\b\b\b\b\b\b\b\b\b\b\b\b\b\b\b\b\b\b\b\b\b\b\b\b\b\b\b\b\b\b\b\b\b\b\b\b\b\b\b\b\b\b\b\b\b\b\b\b\b\b\b\b\b\b\b\b\b\b\b\b\b\b\b\b\b\b\b\b\b\b\r6564/6564 [==============================] - 3s 397us/sample - loss: 0.5534 - acc: 0.7444 - val_loss: 0.2935 - val_acc: 0.9466\n",
            "Epoch 2/40\n",
            "6564/6564 [==============================] - 1s 123us/sample - loss: 0.3034 - acc: 0.8806 - val_loss: 0.3181 - val_acc: 0.9303\n",
            "Epoch 3/40\n",
            "6564/6564 [==============================] - 1s 122us/sample - loss: 0.2165 - acc: 0.9231 - val_loss: 0.2533 - val_acc: 0.9571\n",
            "Epoch 4/40\n",
            "6564/6564 [==============================] - 1s 124us/sample - loss: 0.1838 - acc: 0.9391 - val_loss: 0.2437 - val_acc: 0.9480\n",
            "Epoch 5/40\n",
            "6564/6564 [==============================] - 1s 122us/sample - loss: 0.1574 - acc: 0.9464 - val_loss: 0.2644 - val_acc: 0.9307\n",
            "Epoch 6/40\n",
            "6564/6564 [==============================] - 1s 123us/sample - loss: 0.1646 - acc: 0.9476 - val_loss: 0.2157 - val_acc: 0.9248\n",
            "Epoch 7/40\n",
            "6564/6564 [==============================] - 1s 121us/sample - loss: 0.1580 - acc: 0.9487 - val_loss: 0.1198 - val_acc: 0.9718\n",
            "Epoch 8/40\n",
            "6564/6564 [==============================] - 1s 122us/sample - loss: 0.1321 - acc: 0.9586 - val_loss: 0.1189 - val_acc: 0.9575\n",
            "Epoch 9/40\n",
            "6564/6564 [==============================] - 1s 122us/sample - loss: 0.1386 - acc: 0.9529 - val_loss: 0.0982 - val_acc: 0.9691\n",
            "Epoch 10/40\n",
            "6564/6564 [==============================] - 1s 123us/sample - loss: 0.1450 - acc: 0.9506 - val_loss: 0.0505 - val_acc: 0.9799\n",
            "Epoch 11/40\n",
            "6564/6564 [==============================] - 1s 124us/sample - loss: 0.1253 - acc: 0.9599 - val_loss: 0.0862 - val_acc: 0.9693\n",
            "Epoch 12/40\n",
            "6564/6564 [==============================] - 1s 122us/sample - loss: 0.1219 - acc: 0.9596 - val_loss: 0.1185 - val_acc: 0.9516\n",
            "Epoch 13/40\n",
            "6564/6564 [==============================] - 1s 122us/sample - loss: 0.1214 - acc: 0.9608 - val_loss: 0.0886 - val_acc: 0.9655\n",
            "Epoch 14/40\n",
            "6564/6564 [==============================] - 1s 122us/sample - loss: 0.1106 - acc: 0.9668 - val_loss: 0.1206 - val_acc: 0.9527\n",
            "Epoch 15/40\n",
            "6564/6564 [==============================] - 1s 122us/sample - loss: 0.1152 - acc: 0.9640 - val_loss: 0.0874 - val_acc: 0.9701\n",
            "Epoch 16/40\n",
            "6564/6564 [==============================] - 1s 122us/sample - loss: 0.1158 - acc: 0.9677 - val_loss: 0.1075 - val_acc: 0.9665\n",
            "Epoch 17/40\n",
            "6564/6564 [==============================] - 1s 123us/sample - loss: 0.1075 - acc: 0.9666 - val_loss: 0.1066 - val_acc: 0.9661\n",
            "Epoch 18/40\n",
            "6564/6564 [==============================] - 1s 123us/sample - loss: 0.1049 - acc: 0.9677 - val_loss: 0.1306 - val_acc: 0.9622\n",
            "Epoch 19/40\n",
            "6564/6564 [==============================] - 1s 122us/sample - loss: 0.1026 - acc: 0.9683 - val_loss: 0.0947 - val_acc: 0.9681\n",
            "Epoch 20/40\n",
            "6564/6564 [==============================] - 1s 123us/sample - loss: 0.1002 - acc: 0.9697 - val_loss: 0.1284 - val_acc: 0.9571\n",
            "Epoch 21/40\n",
            "6564/6564 [==============================] - 1s 125us/sample - loss: 0.1101 - acc: 0.9683 - val_loss: 0.0741 - val_acc: 0.9699\n",
            "Epoch 22/40\n",
            "6564/6564 [==============================] - 1s 125us/sample - loss: 0.0980 - acc: 0.9701 - val_loss: 0.1060 - val_acc: 0.9608\n",
            "Epoch 23/40\n",
            "6564/6564 [==============================] - 1s 125us/sample - loss: 0.0986 - acc: 0.9692 - val_loss: 0.1064 - val_acc: 0.9655\n",
            "Epoch 24/40\n",
            "6564/6564 [==============================] - 1s 121us/sample - loss: 0.0911 - acc: 0.9723 - val_loss: 0.1187 - val_acc: 0.9649\n",
            "Epoch 25/40\n",
            "6564/6564 [==============================] - 1s 120us/sample - loss: 0.0940 - acc: 0.9714 - val_loss: 0.1107 - val_acc: 0.9628\n",
            "Epoch 26/40\n",
            "6564/6564 [==============================] - 1s 120us/sample - loss: 0.0848 - acc: 0.9755 - val_loss: 0.1072 - val_acc: 0.9630\n",
            "Epoch 27/40\n",
            "6564/6564 [==============================] - 1s 122us/sample - loss: 0.0904 - acc: 0.9735 - val_loss: 0.1148 - val_acc: 0.9640\n",
            "Epoch 28/40\n",
            "6564/6564 [==============================] - 1s 123us/sample - loss: 0.0899 - acc: 0.9730 - val_loss: 0.1073 - val_acc: 0.9642\n",
            "Epoch 29/40\n",
            "6564/6564 [==============================] - 1s 121us/sample - loss: 0.0898 - acc: 0.9752 - val_loss: 0.1630 - val_acc: 0.9553\n",
            "Epoch 30/40\n",
            "6564/6564 [==============================] - 1s 120us/sample - loss: 0.0823 - acc: 0.9764 - val_loss: 0.0958 - val_acc: 0.9720\n",
            "Epoch 31/40\n",
            "6564/6564 [==============================] - 1s 121us/sample - loss: 0.0858 - acc: 0.9759 - val_loss: 0.0946 - val_acc: 0.9673\n",
            "Epoch 32/40\n",
            "6564/6564 [==============================] - 1s 122us/sample - loss: 0.0926 - acc: 0.9724 - val_loss: 0.1569 - val_acc: 0.9478\n",
            "Epoch 33/40\n",
            "6564/6564 [==============================] - 1s 121us/sample - loss: 0.0921 - acc: 0.9729 - val_loss: 0.1331 - val_acc: 0.9592\n",
            "Epoch 34/40\n",
            "6564/6564 [==============================] - 1s 121us/sample - loss: 0.0980 - acc: 0.9717 - val_loss: 0.1936 - val_acc: 0.9405\n",
            "Epoch 35/40\n",
            "6564/6564 [==============================] - 1s 121us/sample - loss: 0.1044 - acc: 0.9685 - val_loss: 0.1567 - val_acc: 0.9527\n",
            "Epoch 36/40\n",
            "6564/6564 [==============================] - 1s 122us/sample - loss: 0.0859 - acc: 0.9739 - val_loss: 0.1195 - val_acc: 0.9600\n",
            "Epoch 37/40\n",
            "6564/6564 [==============================] - 1s 121us/sample - loss: 0.0877 - acc: 0.9743 - val_loss: 0.0900 - val_acc: 0.9724\n",
            "Epoch 38/40\n",
            "6564/6564 [==============================] - 1s 121us/sample - loss: 0.0916 - acc: 0.9744 - val_loss: 0.1417 - val_acc: 0.9577\n",
            "Epoch 39/40\n",
            "6564/6564 [==============================] - 1s 123us/sample - loss: 0.0812 - acc: 0.9759 - val_loss: 0.1014 - val_acc: 0.9703\n",
            "Epoch 40/40\n",
            "6564/6564 [==============================] - 1s 123us/sample - loss: 0.0792 - acc: 0.9775 - val_loss: 0.1024 - val_acc: 0.9695\n"
          ]
        },
        {
          "output_type": "stream",
          "name": "stderr",
          "text": [
            "/usr/local/lib/python3.8/dist-packages/keras/engine/training_v1.py:2067: UserWarning: `Model.state_updates` will be removed in a future version. This property should not be used in TensorFlow 2.0, as `updates` are applied automatically.\n",
            "  updates=self.state_updates,\n"
          ]
        },
        {
          "output_type": "stream",
          "name": "stdout",
          "text": [
            "[[4689  142]\n",
            " [   8   83]]\n",
            "Confusion matrix, without normalization\n",
            "              precision    recall  f1-score   support\n",
            "\n",
            "           0       1.00      0.97      0.98      4831\n",
            "           1       0.37      0.91      0.53        91\n",
            "\n",
            "    accuracy                           0.97      4922\n",
            "   macro avg       0.68      0.94      0.75      4922\n",
            "weighted avg       0.99      0.97      0.98      4922\n",
            "\n"
          ]
        },
        {
          "output_type": "display_data",
          "data": {
            "text/plain": [
              "<Figure size 432x288 with 2 Axes>"
            ],
            "image/png": "[encoded data removed]"
          },
          "metadata": {
            "needs_background": "light"
          }
        }
      ]
    },
    {
      "cell_type": "code",
      "source": [
        "X1=X.iloc[:,21:351]\n",
        "X2=X.iloc[:,3350:6409]\n",
        "X3=pd.concat([X1,X2],axis=1)\n",
        "X_train, X_test, y_train, y_test=spreproces_data(X3,5,None,\"./standardscaler4m.obj\",training_set=True)\n",
        "\n",
        "model,X_train, X_test, y_train, y_test,train_cm,test_cm=training(40,\"model5_lookback4m.h5\")\n"
      ],
      "metadata": {
        "colab": {
          "base_uri": "https://localhost:8080/",
          "height": 1000
        },
        "id": "nFaemtXK80Zi",
        "outputId": "c4939862-51c9-4d32-d106-73b30041ab5a"
      },
      "execution_count": null,
      "outputs": [
        {
          "output_type": "stream",
          "name": "stdout",
          "text": [
            "samples before augmentation44292\n",
            "samples before augmentation48345\n"
          ]
        },
        {
          "output_type": "stream",
          "name": "stderr",
          "text": [
            "WARNING:tensorflow:Layer lstm_15 will not use cuDNN kernels since it doesn't meet the criteria. It will use a generic GPU kernel as fallback when running on GPU.\n",
            "WARNING:tensorflow:Layer lstm_15 will not use cuDNN kernels since it doesn't meet the criteria. It will use a generic GPU kernel as fallback when running on GPU.\n",
            "WARNING:tensorflow:Layer lstm_15 will not use cuDNN kernels since it doesn't meet the criteria. It will use a generic GPU kernel as fallback when running on GPU.\n",
            "WARNING:tensorflow:Layer lstm_16 will not use cuDNN kernels since it doesn't meet the criteria. It will use a generic GPU kernel as fallback when running on GPU.\n",
            "WARNING:tensorflow:Layer lstm_16 will not use cuDNN kernels since it doesn't meet the criteria. It will use a generic GPU kernel as fallback when running on GPU.\n",
            "WARNING:tensorflow:Layer lstm_16 will not use cuDNN kernels since it doesn't meet the criteria. It will use a generic GPU kernel as fallback when running on GPU.\n",
            "WARNING:tensorflow:Layer lstm_17 will not use cuDNN kernels since it doesn't meet the criteria. It will use a generic GPU kernel as fallback when running on GPU.\n",
            "WARNING:tensorflow:Layer lstm_17 will not use cuDNN kernels since it doesn't meet the criteria. It will use a generic GPU kernel as fallback when running on GPU.\n",
            "WARNING:tensorflow:Layer lstm_17 will not use cuDNN kernels since it doesn't meet the criteria. It will use a generic GPU kernel as fallback when running on GPU.\n"
          ]
        },
        {
          "output_type": "stream",
          "name": "stdout",
          "text": [
            "Train on 48345 samples, validate on 4922 samples\n",
            "Epoch 1/40\n",
            "48345/48345 [==============================] - ETA: 0s - loss: 0.5511 - acc: 0.7386"
          ]
        },
        {
          "output_type": "stream",
          "name": "stderr",
          "text": [
            "/usr/local/lib/python3.8/dist-packages/keras/engine/training_v1.py:2045: UserWarning: `Model.state_updates` will be removed in a future version. This property should not be used in TensorFlow 2.0, as `updates` are applied automatically.\n",
            "  updates = self.state_updates\n"
          ]
        },
        {
          "output_type": "stream",
          "name": "stdout",
          "text": [
            "\b\b\b\b\b\b\b\b\b\b\b\b\b\b\b\b\b\b\b\b\b\b\b\b\b\b\b\b\b\b\b\b\b\b\b\b\b\b\b\b\b\b\b\b\b\b\b\b\b\b\b\b\b\b\b\b\b\b\b\b\b\b\b\b\b\b\b\b\b\b\b\b\b\b\b\b\b\b\b\b\b\b\b\r48345/48345 [==============================] - 7s 146us/sample - loss: 0.5511 - acc: 0.7386 - val_loss: 0.4528 - val_acc: 0.8228\n",
            "Epoch 2/40\n",
            "48345/48345 [==============================] - 5s 100us/sample - loss: 0.3704 - acc: 0.8431 - val_loss: 0.3118 - val_acc: 0.8797\n",
            "Epoch 3/40\n",
            "48345/48345 [==============================] - 5s 102us/sample - loss: 0.3380 - acc: 0.8608 - val_loss: 0.2834 - val_acc: 0.8785\n",
            "Epoch 4/40\n",
            "48345/48345 [==============================] - 5s 106us/sample - loss: 0.3025 - acc: 0.8772 - val_loss: 0.2920 - val_acc: 0.8643\n",
            "Epoch 5/40\n",
            "48345/48345 [==============================] - 5s 106us/sample - loss: 0.2846 - acc: 0.8838 - val_loss: 0.2773 - val_acc: 0.8809\n",
            "Epoch 6/40\n",
            "48345/48345 [==============================] - 5s 108us/sample - loss: 0.2689 - acc: 0.8930 - val_loss: 0.2918 - val_acc: 0.8704\n",
            "Epoch 7/40\n",
            "48345/48345 [==============================] - 5s 102us/sample - loss: 0.2586 - acc: 0.8969 - val_loss: 0.2911 - val_acc: 0.8690\n",
            "Epoch 8/40\n",
            "48345/48345 [==============================] - 5s 102us/sample - loss: 0.2473 - acc: 0.9031 - val_loss: 0.2580 - val_acc: 0.8771\n",
            "Epoch 9/40\n",
            "48345/48345 [==============================] - 5s 103us/sample - loss: 0.2422 - acc: 0.9052 - val_loss: 0.2616 - val_acc: 0.8820\n",
            "Epoch 10/40\n",
            "48345/48345 [==============================] - 5s 102us/sample - loss: 0.2344 - acc: 0.9098 - val_loss: 0.2691 - val_acc: 0.8844\n",
            "Epoch 11/40\n",
            "48345/48345 [==============================] - 5s 103us/sample - loss: 0.2292 - acc: 0.9109 - val_loss: 0.3284 - val_acc: 0.8627\n",
            "Epoch 12/40\n",
            "48345/48345 [==============================] - 5s 100us/sample - loss: 0.2244 - acc: 0.9126 - val_loss: 0.2730 - val_acc: 0.8820\n",
            "Epoch 13/40\n",
            "48345/48345 [==============================] - 5s 99us/sample - loss: 0.2219 - acc: 0.9133 - val_loss: 0.2845 - val_acc: 0.8728\n",
            "Epoch 14/40\n",
            "48345/48345 [==============================] - 5s 99us/sample - loss: 0.2187 - acc: 0.9149 - val_loss: 0.2519 - val_acc: 0.8905\n",
            "Epoch 15/40\n",
            "48345/48345 [==============================] - 5s 104us/sample - loss: 0.2134 - acc: 0.9178 - val_loss: 0.2671 - val_acc: 0.8899\n",
            "Epoch 16/40\n",
            "48345/48345 [==============================] - 5s 108us/sample - loss: 0.2076 - acc: 0.9199 - val_loss: 0.2640 - val_acc: 0.8864\n",
            "Epoch 17/40\n",
            "48345/48345 [==============================] - 5s 106us/sample - loss: 0.2083 - acc: 0.9200 - val_loss: 0.2607 - val_acc: 0.8929\n",
            "Epoch 18/40\n",
            "48345/48345 [==============================] - 5s 102us/sample - loss: 0.2094 - acc: 0.9192 - val_loss: 0.2668 - val_acc: 0.8927\n",
            "Epoch 19/40\n",
            "48345/48345 [==============================] - 5s 106us/sample - loss: 0.2028 - acc: 0.9221 - val_loss: 0.2578 - val_acc: 0.8889\n",
            "Epoch 20/40\n",
            "48345/48345 [==============================] - 5s 99us/sample - loss: 0.1984 - acc: 0.9236 - val_loss: 0.2285 - val_acc: 0.8974\n",
            "Epoch 21/40\n",
            "48345/48345 [==============================] - 5s 98us/sample - loss: 0.1987 - acc: 0.9239 - val_loss: 0.2222 - val_acc: 0.9041\n",
            "Epoch 22/40\n",
            "48345/48345 [==============================] - 5s 98us/sample - loss: 0.1917 - acc: 0.9259 - val_loss: 0.2184 - val_acc: 0.9033\n",
            "Epoch 23/40\n",
            "48345/48345 [==============================] - 5s 100us/sample - loss: 0.1938 - acc: 0.9263 - val_loss: 0.2526 - val_acc: 0.8966\n",
            "Epoch 24/40\n",
            "48345/48345 [==============================] - 5s 100us/sample - loss: 0.1897 - acc: 0.9270 - val_loss: 0.2390 - val_acc: 0.9011\n",
            "Epoch 25/40\n",
            "48345/48345 [==============================] - 5s 99us/sample - loss: 0.1875 - acc: 0.9277 - val_loss: 0.2501 - val_acc: 0.8944\n",
            "Epoch 26/40\n",
            "48345/48345 [==============================] - 5s 98us/sample - loss: 0.1834 - acc: 0.9305 - val_loss: 0.2533 - val_acc: 0.8927\n",
            "Epoch 27/40\n",
            "48345/48345 [==============================] - 5s 99us/sample - loss: 0.1805 - acc: 0.9332 - val_loss: 0.2679 - val_acc: 0.8931\n",
            "Epoch 28/40\n",
            "48345/48345 [==============================] - 5s 99us/sample - loss: 0.1796 - acc: 0.9309 - val_loss: 0.2380 - val_acc: 0.8968\n",
            "Epoch 29/40\n",
            "48345/48345 [==============================] - 5s 101us/sample - loss: 0.1791 - acc: 0.9324 - val_loss: 0.2463 - val_acc: 0.8952\n",
            "Epoch 30/40\n",
            "48345/48345 [==============================] - 5s 101us/sample - loss: 0.1751 - acc: 0.9324 - val_loss: 0.2240 - val_acc: 0.9098\n",
            "Epoch 31/40\n",
            "48345/48345 [==============================] - 5s 102us/sample - loss: 0.1733 - acc: 0.9348 - val_loss: 0.2183 - val_acc: 0.9096\n",
            "Epoch 32/40\n",
            "48345/48345 [==============================] - 5s 99us/sample - loss: 0.1729 - acc: 0.9345 - val_loss: 0.2283 - val_acc: 0.9041\n",
            "Epoch 33/40\n",
            "48345/48345 [==============================] - 5s 99us/sample - loss: 0.1703 - acc: 0.9352 - val_loss: 0.2016 - val_acc: 0.9171\n",
            "Epoch 34/40\n",
            "48345/48345 [==============================] - 5s 100us/sample - loss: 0.1671 - acc: 0.9368 - val_loss: 0.2159 - val_acc: 0.9126\n",
            "Epoch 35/40\n",
            "48345/48345 [==============================] - 5s 100us/sample - loss: 0.1688 - acc: 0.9364 - val_loss: 0.2201 - val_acc: 0.9106\n",
            "Epoch 36/40\n",
            "48345/48345 [==============================] - 5s 101us/sample - loss: 0.1651 - acc: 0.9376 - val_loss: 0.2391 - val_acc: 0.9080\n",
            "Epoch 37/40\n",
            "48345/48345 [==============================] - 5s 101us/sample - loss: 0.1659 - acc: 0.9367 - val_loss: 0.2201 - val_acc: 0.9153\n",
            "Epoch 38/40\n",
            "48345/48345 [==============================] - 5s 99us/sample - loss: 0.1646 - acc: 0.9375 - val_loss: 0.2443 - val_acc: 0.9011\n",
            "Epoch 39/40\n",
            "48345/48345 [==============================] - 5s 99us/sample - loss: 0.1618 - acc: 0.9378 - val_loss: 0.2296 - val_acc: 0.9112\n",
            "Epoch 40/40\n",
            "48345/48345 [==============================] - 5s 99us/sample - loss: 0.1599 - acc: 0.9402 - val_loss: 0.2904 - val_acc: 0.8948\n"
          ]
        },
        {
          "output_type": "stream",
          "name": "stderr",
          "text": [
            "/usr/local/lib/python3.8/dist-packages/keras/engine/training_v1.py:2067: UserWarning: `Model.state_updates` will be removed in a future version. This property should not be used in TensorFlow 2.0, as `updates` are applied automatically.\n",
            "  updates=self.state_updates,\n"
          ]
        },
        {
          "output_type": "stream",
          "name": "stdout",
          "text": [
            "[[3896  470]\n",
            " [  48  508]]\n",
            "Confusion matrix, without normalization\n",
            "              precision    recall  f1-score   support\n",
            "\n",
            "           0       0.99      0.89      0.94      4366\n",
            "           1       0.52      0.91      0.66       556\n",
            "\n",
            "    accuracy                           0.89      4922\n",
            "   macro avg       0.75      0.90      0.80      4922\n",
            "weighted avg       0.93      0.89      0.91      4922\n",
            "\n"
          ]
        },
        {
          "output_type": "display_data",
          "data": {
            "text/plain": [
              "<Figure size 432x288 with 2 Axes>"
            ],
            "image/png": "[encoded data removed]"
          },
          "metadata": {
            "needs_background": "light"
          }
        }
      ]
    },
    {
      "cell_type": "code",
      "source": [
        "X1=X.iloc[:,21:351]\n",
        "X2=X.iloc[:,3350:6409]\n",
        "X3=pd.concat([X1,X2],axis=1)\n",
        "X_train, X_test, y_train, y_test=spreproces_data(X3,10,None,\"./standardscaler4m.obj\",training_set=True)\n",
        "\n",
        "model,X_train, X_test, y_train, y_test,train_cm,test_cm=training(40,\"model10_lookback4m.h5\")\n"
      ],
      "metadata": {
        "colab": {
          "base_uri": "https://localhost:8080/",
          "height": 1000
        },
        "id": "bfrYaudl9FqX",
        "outputId": "69c67a2d-f670-49a1-c546-f436fc85fb34"
      },
      "execution_count": null,
      "outputs": [
        {
          "output_type": "stream",
          "name": "stdout",
          "text": [
            "samples before augmentation44292\n",
            "samples before augmentation31901\n"
          ]
        },
        {
          "output_type": "stream",
          "name": "stderr",
          "text": [
            "WARNING:tensorflow:Layer lstm_18 will not use cuDNN kernels since it doesn't meet the criteria. It will use a generic GPU kernel as fallback when running on GPU.\n",
            "WARNING:tensorflow:Layer lstm_18 will not use cuDNN kernels since it doesn't meet the criteria. It will use a generic GPU kernel as fallback when running on GPU.\n",
            "WARNING:tensorflow:Layer lstm_18 will not use cuDNN kernels since it doesn't meet the criteria. It will use a generic GPU kernel as fallback when running on GPU.\n",
            "WARNING:tensorflow:Layer lstm_19 will not use cuDNN kernels since it doesn't meet the criteria. It will use a generic GPU kernel as fallback when running on GPU.\n",
            "WARNING:tensorflow:Layer lstm_19 will not use cuDNN kernels since it doesn't meet the criteria. It will use a generic GPU kernel as fallback when running on GPU.\n",
            "WARNING:tensorflow:Layer lstm_19 will not use cuDNN kernels since it doesn't meet the criteria. It will use a generic GPU kernel as fallback when running on GPU.\n",
            "WARNING:tensorflow:Layer lstm_20 will not use cuDNN kernels since it doesn't meet the criteria. It will use a generic GPU kernel as fallback when running on GPU.\n",
            "WARNING:tensorflow:Layer lstm_20 will not use cuDNN kernels since it doesn't meet the criteria. It will use a generic GPU kernel as fallback when running on GPU.\n",
            "WARNING:tensorflow:Layer lstm_20 will not use cuDNN kernels since it doesn't meet the criteria. It will use a generic GPU kernel as fallback when running on GPU.\n"
          ]
        },
        {
          "output_type": "stream",
          "name": "stdout",
          "text": [
            "Train on 31901 samples, validate on 4922 samples\n",
            "Epoch 1/40\n",
            "31901/31901 [==============================] - ETA: 0s - loss: 0.5242 - acc: 0.7551"
          ]
        },
        {
          "output_type": "stream",
          "name": "stderr",
          "text": [
            "/usr/local/lib/python3.8/dist-packages/keras/engine/training_v1.py:2045: UserWarning: `Model.state_updates` will be removed in a future version. This property should not be used in TensorFlow 2.0, as `updates` are applied automatically.\n",
            "  updates = self.state_updates\n"
          ]
        },
        {
          "output_type": "stream",
          "name": "stdout",
          "text": [
            "\b\b\b\b\b\b\b\b\b\b\b\b\b\b\b\b\b\b\b\b\b\b\b\b\b\b\b\b\b\b\b\b\b\b\b\b\b\b\b\b\b\b\b\b\b\b\b\b\b\b\b\b\b\b\b\b\b\b\b\b\b\b\b\b\b\b\b\b\b\b\b\b\b\b\b\b\b\b\b\b\b\b\b\r31901/31901 [==============================] - 5s 169us/sample - loss: 0.5242 - acc: 0.7551 - val_loss: 0.4656 - val_acc: 0.8836\n",
            "Epoch 2/40\n",
            "31901/31901 [==============================] - 3s 102us/sample - loss: 0.3490 - acc: 0.8553 - val_loss: 0.2543 - val_acc: 0.9175\n",
            "Epoch 3/40\n",
            "31901/31901 [==============================] - 3s 101us/sample - loss: 0.3047 - acc: 0.8797 - val_loss: 0.2798 - val_acc: 0.8734\n",
            "Epoch 4/40\n",
            "31901/31901 [==============================] - 3s 103us/sample - loss: 0.2767 - acc: 0.8895 - val_loss: 0.2790 - val_acc: 0.8828\n",
            "Epoch 5/40\n",
            "31901/31901 [==============================] - 3s 104us/sample - loss: 0.2749 - acc: 0.8905 - val_loss: 0.2563 - val_acc: 0.9013\n",
            "Epoch 6/40\n",
            "31901/31901 [==============================] - 3s 103us/sample - loss: 0.2650 - acc: 0.8972 - val_loss: 0.2650 - val_acc: 0.8905\n",
            "Epoch 7/40\n",
            "31901/31901 [==============================] - 3s 103us/sample - loss: 0.2574 - acc: 0.8997 - val_loss: 0.2397 - val_acc: 0.8946\n",
            "Epoch 8/40\n",
            "31901/31901 [==============================] - 3s 103us/sample - loss: 0.2539 - acc: 0.9005 - val_loss: 0.2549 - val_acc: 0.8935\n",
            "Epoch 9/40\n",
            "31901/31901 [==============================] - 3s 102us/sample - loss: 0.2358 - acc: 0.9114 - val_loss: 0.3022 - val_acc: 0.8724\n",
            "Epoch 10/40\n",
            "31901/31901 [==============================] - 3s 103us/sample - loss: 0.2371 - acc: 0.9093 - val_loss: 0.2640 - val_acc: 0.8919\n",
            "Epoch 11/40\n",
            "31901/31901 [==============================] - 3s 103us/sample - loss: 0.2226 - acc: 0.9156 - val_loss: 0.2470 - val_acc: 0.8972\n",
            "Epoch 12/40\n",
            "31901/31901 [==============================] - 3s 103us/sample - loss: 0.2253 - acc: 0.9161 - val_loss: 0.2664 - val_acc: 0.8917\n",
            "Epoch 13/40\n",
            "31901/31901 [==============================] - 3s 102us/sample - loss: 0.2179 - acc: 0.9177 - val_loss: 0.2401 - val_acc: 0.9002\n",
            "Epoch 14/40\n",
            "31901/31901 [==============================] - 3s 103us/sample - loss: 0.2163 - acc: 0.9198 - val_loss: 0.2536 - val_acc: 0.8876\n",
            "Epoch 15/40\n",
            "31901/31901 [==============================] - 3s 103us/sample - loss: 0.2168 - acc: 0.9194 - val_loss: 0.2486 - val_acc: 0.8972\n",
            "Epoch 16/40\n",
            "31901/31901 [==============================] - 3s 102us/sample - loss: 0.2179 - acc: 0.9180 - val_loss: 0.2230 - val_acc: 0.9051\n",
            "Epoch 17/40\n",
            "31901/31901 [==============================] - 3s 107us/sample - loss: 0.2140 - acc: 0.9203 - val_loss: 0.2111 - val_acc: 0.9124\n",
            "Epoch 18/40\n",
            "31901/31901 [==============================] - 3s 101us/sample - loss: 0.2097 - acc: 0.9226 - val_loss: 0.2092 - val_acc: 0.9104\n",
            "Epoch 19/40\n",
            "31901/31901 [==============================] - 3s 101us/sample - loss: 0.2056 - acc: 0.9250 - val_loss: 0.2216 - val_acc: 0.9004\n",
            "Epoch 20/40\n",
            "31901/31901 [==============================] - 3s 101us/sample - loss: 0.1965 - acc: 0.9290 - val_loss: 0.2040 - val_acc: 0.9130\n",
            "Epoch 21/40\n",
            "31901/31901 [==============================] - 3s 102us/sample - loss: 0.2070 - acc: 0.9236 - val_loss: 0.2571 - val_acc: 0.8891\n",
            "Epoch 22/40\n",
            "31901/31901 [==============================] - 3s 104us/sample - loss: 0.1996 - acc: 0.9256 - val_loss: 0.2169 - val_acc: 0.9110\n",
            "Epoch 23/40\n",
            "31901/31901 [==============================] - 4s 110us/sample - loss: 0.1968 - acc: 0.9276 - val_loss: 0.2458 - val_acc: 0.8992\n",
            "Epoch 24/40\n",
            "31901/31901 [==============================] - 3s 107us/sample - loss: 0.2017 - acc: 0.9233 - val_loss: 0.2382 - val_acc: 0.9033\n",
            "Epoch 25/40\n",
            "31901/31901 [==============================] - 3s 105us/sample - loss: 0.1896 - acc: 0.9303 - val_loss: 0.2135 - val_acc: 0.9116\n",
            "Epoch 26/40\n",
            "31901/31901 [==============================] - 3s 106us/sample - loss: 0.1899 - acc: 0.9317 - val_loss: 0.2199 - val_acc: 0.9084\n",
            "Epoch 27/40\n",
            "31901/31901 [==============================] - 3s 102us/sample - loss: 0.1873 - acc: 0.9306 - val_loss: 0.2181 - val_acc: 0.9055\n",
            "Epoch 28/40\n",
            "31901/31901 [==============================] - 3s 105us/sample - loss: 0.1907 - acc: 0.9281 - val_loss: 0.2384 - val_acc: 0.9009\n",
            "Epoch 29/40\n",
            "31901/31901 [==============================] - 3s 102us/sample - loss: 0.1905 - acc: 0.9284 - val_loss: 0.2267 - val_acc: 0.9074\n",
            "Epoch 30/40\n",
            "31901/31901 [==============================] - 3s 103us/sample - loss: 0.1825 - acc: 0.9323 - val_loss: 0.2188 - val_acc: 0.9120\n",
            "Epoch 31/40\n",
            "31901/31901 [==============================] - 3s 102us/sample - loss: 0.1856 - acc: 0.9319 - val_loss: 0.2123 - val_acc: 0.9098\n",
            "Epoch 32/40\n",
            "31901/31901 [==============================] - 3s 102us/sample - loss: 0.1893 - acc: 0.9300 - val_loss: 0.1926 - val_acc: 0.9183\n",
            "Epoch 33/40\n",
            "31901/31901 [==============================] - 3s 106us/sample - loss: 0.1820 - acc: 0.9323 - val_loss: 0.2278 - val_acc: 0.9043\n",
            "Epoch 34/40\n",
            "31901/31901 [==============================] - 3s 102us/sample - loss: 0.1795 - acc: 0.9338 - val_loss: 0.2316 - val_acc: 0.9051\n",
            "Epoch 35/40\n",
            "31901/31901 [==============================] - 3s 103us/sample - loss: 0.1797 - acc: 0.9336 - val_loss: 0.2114 - val_acc: 0.9108\n",
            "Epoch 36/40\n",
            "31901/31901 [==============================] - 3s 102us/sample - loss: 0.1782 - acc: 0.9339 - val_loss: 0.2377 - val_acc: 0.9004\n",
            "Epoch 37/40\n",
            "31901/31901 [==============================] - 3s 102us/sample - loss: 0.1736 - acc: 0.9358 - val_loss: 0.2246 - val_acc: 0.9047\n",
            "Epoch 38/40\n",
            "31901/31901 [==============================] - 3s 107us/sample - loss: 0.1708 - acc: 0.9362 - val_loss: 0.2166 - val_acc: 0.9067\n",
            "Epoch 39/40\n",
            "31901/31901 [==============================] - 3s 104us/sample - loss: 0.1739 - acc: 0.9364 - val_loss: 0.2419 - val_acc: 0.8972\n",
            "Epoch 40/40\n",
            "31901/31901 [==============================] - 3s 110us/sample - loss: 0.1756 - acc: 0.9345 - val_loss: 0.2203 - val_acc: 0.9069\n"
          ]
        },
        {
          "output_type": "stream",
          "name": "stderr",
          "text": [
            "/usr/local/lib/python3.8/dist-packages/keras/engine/training_v1.py:2067: UserWarning: `Model.state_updates` will be removed in a future version. This property should not be used in TensorFlow 2.0, as `updates` are applied automatically.\n",
            "  updates=self.state_updates,\n"
          ]
        },
        {
          "output_type": "stream",
          "name": "stdout",
          "text": [
            "[[4118  426]\n",
            " [  32  346]]\n",
            "Confusion matrix, without normalization\n",
            "              precision    recall  f1-score   support\n",
            "\n",
            "           0       0.99      0.91      0.95      4544\n",
            "           1       0.45      0.92      0.60       378\n",
            "\n",
            "    accuracy                           0.91      4922\n",
            "   macro avg       0.72      0.91      0.77      4922\n",
            "weighted avg       0.95      0.91      0.92      4922\n",
            "\n"
          ]
        },
        {
          "output_type": "display_data",
          "data": {
            "text/plain": [
              "<Figure size 432x288 with 2 Axes>"
            ],
            "image/png": "[encoded data removed]"
          },
          "metadata": {
            "needs_background": "light"
          }
        }
      ]
    },
    {
      "cell_type": "code",
      "source": [
        "X1=X.iloc[:,21:351]\n",
        "X2=X.iloc[:,3350:6409]\n",
        "X3=pd.concat([X1,X2],axis=1)\n",
        "X_train, X_test, y_train, y_test=spreproces_data(X3,15,None,\"./standardscaler4m.obj\",training_set=True)\n",
        "\n",
        "model,X_train, X_test, y_train, y_test,train_cm,test_cm=training(40,\"model15_lookback4m.h5\")\n"
      ],
      "metadata": {
        "colab": {
          "base_uri": "https://localhost:8080/",
          "height": 1000
        },
        "id": "D2Xue-iT9IMT",
        "outputId": "10140633-9fe2-4980-c1bd-65157ade9309"
      },
      "execution_count": null,
      "outputs": [
        {
          "output_type": "stream",
          "name": "stdout",
          "text": [
            "samples before augmentation44292\n",
            "samples before augmentation21308\n"
          ]
        },
        {
          "output_type": "stream",
          "name": "stderr",
          "text": [
            "WARNING:tensorflow:Layer lstm_21 will not use cuDNN kernels since it doesn't meet the criteria. It will use a generic GPU kernel as fallback when running on GPU.\n",
            "WARNING:tensorflow:Layer lstm_21 will not use cuDNN kernels since it doesn't meet the criteria. It will use a generic GPU kernel as fallback when running on GPU.\n",
            "WARNING:tensorflow:Layer lstm_21 will not use cuDNN kernels since it doesn't meet the criteria. It will use a generic GPU kernel as fallback when running on GPU.\n",
            "WARNING:tensorflow:Layer lstm_22 will not use cuDNN kernels since it doesn't meet the criteria. It will use a generic GPU kernel as fallback when running on GPU.\n",
            "WARNING:tensorflow:Layer lstm_22 will not use cuDNN kernels since it doesn't meet the criteria. It will use a generic GPU kernel as fallback when running on GPU.\n",
            "WARNING:tensorflow:Layer lstm_22 will not use cuDNN kernels since it doesn't meet the criteria. It will use a generic GPU kernel as fallback when running on GPU.\n",
            "WARNING:tensorflow:Layer lstm_23 will not use cuDNN kernels since it doesn't meet the criteria. It will use a generic GPU kernel as fallback when running on GPU.\n",
            "WARNING:tensorflow:Layer lstm_23 will not use cuDNN kernels since it doesn't meet the criteria. It will use a generic GPU kernel as fallback when running on GPU.\n",
            "WARNING:tensorflow:Layer lstm_23 will not use cuDNN kernels since it doesn't meet the criteria. It will use a generic GPU kernel as fallback when running on GPU.\n"
          ]
        },
        {
          "output_type": "stream",
          "name": "stdout",
          "text": [
            "Train on 21308 samples, validate on 4922 samples\n",
            "Epoch 1/40\n",
            "21308/21308 [==============================] - ETA: 0s - loss: 0.5502 - acc: 0.7427"
          ]
        },
        {
          "output_type": "stream",
          "name": "stderr",
          "text": [
            "/usr/local/lib/python3.8/dist-packages/keras/engine/training_v1.py:2045: UserWarning: `Model.state_updates` will be removed in a future version. This property should not be used in TensorFlow 2.0, as `updates` are applied automatically.\n",
            "  updates = self.state_updates\n"
          ]
        },
        {
          "output_type": "stream",
          "name": "stdout",
          "text": [
            "\b\b\b\b\b\b\b\b\b\b\b\b\b\b\b\b\b\b\b\b\b\b\b\b\b\b\b\b\b\b\b\b\b\b\b\b\b\b\b\b\b\b\b\b\b\b\b\b\b\b\b\b\b\b\b\b\b\b\b\b\b\b\b\b\b\b\b\b\b\b\b\b\b\b\b\b\b\b\b\b\b\b\b\r21308/21308 [==============================] - 5s 223us/sample - loss: 0.5502 - acc: 0.7427 - val_loss: 0.4179 - val_acc: 0.8937\n",
            "Epoch 2/40\n",
            "21308/21308 [==============================] - 2s 113us/sample - loss: 0.3300 - acc: 0.8704 - val_loss: 0.3078 - val_acc: 0.9258\n",
            "Epoch 3/40\n",
            "21308/21308 [==============================] - 2s 111us/sample - loss: 0.2754 - acc: 0.8973 - val_loss: 0.2105 - val_acc: 0.9346\n",
            "Epoch 4/40\n",
            "21308/21308 [==============================] - 2s 109us/sample - loss: 0.2392 - acc: 0.9133 - val_loss: 0.1898 - val_acc: 0.9368\n",
            "Epoch 5/40\n",
            "21308/21308 [==============================] - 3s 119us/sample - loss: 0.2364 - acc: 0.9170 - val_loss: 0.2177 - val_acc: 0.9102\n",
            "Epoch 6/40\n",
            "21308/21308 [==============================] - 3s 118us/sample - loss: 0.2211 - acc: 0.9226 - val_loss: 0.2269 - val_acc: 0.9015\n",
            "Epoch 7/40\n",
            "21308/21308 [==============================] - 2s 109us/sample - loss: 0.2141 - acc: 0.9246 - val_loss: 0.3357 - val_acc: 0.8736\n",
            "Epoch 8/40\n",
            "21308/21308 [==============================] - 2s 107us/sample - loss: 0.2092 - acc: 0.9259 - val_loss: 0.2188 - val_acc: 0.9098\n",
            "Epoch 9/40\n",
            "21308/21308 [==============================] - 2s 106us/sample - loss: 0.1972 - acc: 0.9325 - val_loss: 0.2015 - val_acc: 0.9214\n",
            "Epoch 10/40\n",
            "21308/21308 [==============================] - 2s 109us/sample - loss: 0.1920 - acc: 0.9346 - val_loss: 0.2282 - val_acc: 0.9204\n",
            "Epoch 11/40\n",
            "21308/21308 [==============================] - 2s 109us/sample - loss: 0.1924 - acc: 0.9327 - val_loss: 0.1699 - val_acc: 0.9297\n",
            "Epoch 12/40\n",
            "21308/21308 [==============================] - 2s 109us/sample - loss: 0.1834 - acc: 0.9358 - val_loss: 0.2136 - val_acc: 0.9171\n",
            "Epoch 13/40\n",
            "21308/21308 [==============================] - 2s 109us/sample - loss: 0.1863 - acc: 0.9347 - val_loss: 0.2632 - val_acc: 0.9017\n",
            "Epoch 14/40\n",
            "21308/21308 [==============================] - 2s 107us/sample - loss: 0.1790 - acc: 0.9357 - val_loss: 0.2138 - val_acc: 0.9244\n",
            "Epoch 15/40\n",
            "21308/21308 [==============================] - 2s 106us/sample - loss: 0.1878 - acc: 0.9368 - val_loss: 0.2196 - val_acc: 0.9281\n",
            "Epoch 16/40\n",
            "21308/21308 [==============================] - 2s 107us/sample - loss: 0.1808 - acc: 0.9399 - val_loss: 0.2130 - val_acc: 0.9267\n",
            "Epoch 17/40\n",
            "21308/21308 [==============================] - 2s 106us/sample - loss: 0.1734 - acc: 0.9406 - val_loss: 0.2177 - val_acc: 0.9200\n",
            "Epoch 18/40\n",
            "21308/21308 [==============================] - 2s 108us/sample - loss: 0.1750 - acc: 0.9408 - val_loss: 0.2126 - val_acc: 0.9195\n",
            "Epoch 19/40\n",
            "21308/21308 [==============================] - 2s 109us/sample - loss: 0.1663 - acc: 0.9447 - val_loss: 0.2092 - val_acc: 0.9212\n",
            "Epoch 20/40\n",
            "21308/21308 [==============================] - 2s 106us/sample - loss: 0.1658 - acc: 0.9448 - val_loss: 0.1951 - val_acc: 0.9293\n",
            "Epoch 21/40\n",
            "21308/21308 [==============================] - 2s 106us/sample - loss: 0.1694 - acc: 0.9429 - val_loss: 0.1928 - val_acc: 0.9299\n",
            "Epoch 22/40\n",
            "21308/21308 [==============================] - 3s 118us/sample - loss: 0.1672 - acc: 0.9435 - val_loss: 0.2071 - val_acc: 0.9226\n",
            "Epoch 23/40\n",
            "21308/21308 [==============================] - 2s 110us/sample - loss: 0.1629 - acc: 0.9457 - val_loss: 0.2232 - val_acc: 0.9216\n",
            "Epoch 24/40\n",
            "21308/21308 [==============================] - 2s 105us/sample - loss: 0.1602 - acc: 0.9476 - val_loss: 0.1898 - val_acc: 0.9309\n",
            "Epoch 25/40\n",
            "21308/21308 [==============================] - 2s 103us/sample - loss: 0.1576 - acc: 0.9484 - val_loss: 0.2161 - val_acc: 0.9218\n",
            "Epoch 26/40\n",
            "21308/21308 [==============================] - 2s 103us/sample - loss: 0.1693 - acc: 0.9434 - val_loss: 0.2061 - val_acc: 0.9275\n",
            "Epoch 27/40\n",
            "21308/21308 [==============================] - 2s 103us/sample - loss: 0.1519 - acc: 0.9489 - val_loss: 0.1955 - val_acc: 0.9279\n",
            "Epoch 28/40\n",
            "21308/21308 [==============================] - 2s 104us/sample - loss: 0.1576 - acc: 0.9467 - val_loss: 0.1889 - val_acc: 0.9319\n",
            "Epoch 29/40\n",
            "21308/21308 [==============================] - 2s 104us/sample - loss: 0.1546 - acc: 0.9479 - val_loss: 0.2023 - val_acc: 0.9258\n",
            "Epoch 30/40\n",
            "21308/21308 [==============================] - 2s 103us/sample - loss: 0.1480 - acc: 0.9507 - val_loss: 0.1703 - val_acc: 0.9368\n",
            "Epoch 31/40\n",
            "21308/21308 [==============================] - 2s 108us/sample - loss: 0.1523 - acc: 0.9501 - val_loss: 0.1613 - val_acc: 0.9370\n",
            "Epoch 32/40\n",
            "21308/21308 [==============================] - 2s 108us/sample - loss: 0.1506 - acc: 0.9494 - val_loss: 0.2142 - val_acc: 0.9224\n",
            "Epoch 33/40\n",
            "21308/21308 [==============================] - 2s 109us/sample - loss: 0.1525 - acc: 0.9485 - val_loss: 0.2569 - val_acc: 0.9065\n",
            "Epoch 34/40\n",
            "21308/21308 [==============================] - 2s 114us/sample - loss: 0.1488 - acc: 0.9504 - val_loss: 0.1781 - val_acc: 0.9356\n",
            "Epoch 35/40\n",
            "21308/21308 [==============================] - 2s 108us/sample - loss: 0.1500 - acc: 0.9501 - val_loss: 0.1528 - val_acc: 0.9423\n",
            "Epoch 36/40\n",
            "21308/21308 [==============================] - 2s 107us/sample - loss: 0.1459 - acc: 0.9519 - val_loss: 0.2081 - val_acc: 0.9226\n",
            "Epoch 37/40\n",
            "21308/21308 [==============================] - 2s 106us/sample - loss: 0.1462 - acc: 0.9512 - val_loss: 0.2326 - val_acc: 0.9181\n",
            "Epoch 38/40\n",
            "21308/21308 [==============================] - 2s 108us/sample - loss: 0.1445 - acc: 0.9521 - val_loss: 0.1750 - val_acc: 0.9366\n",
            "Epoch 39/40\n",
            "21308/21308 [==============================] - 2s 113us/sample - loss: 0.1426 - acc: 0.9525 - val_loss: 0.1953 - val_acc: 0.9336\n",
            "Epoch 40/40\n",
            "21308/21308 [==============================] - 2s 116us/sample - loss: 0.1403 - acc: 0.9543 - val_loss: 0.1924 - val_acc: 0.9325\n"
          ]
        },
        {
          "output_type": "stream",
          "name": "stderr",
          "text": [
            "/usr/local/lib/python3.8/dist-packages/keras/engine/training_v1.py:2067: UserWarning: `Model.state_updates` will be removed in a future version. This property should not be used in TensorFlow 2.0, as `updates` are applied automatically.\n",
            "  updates=self.state_updates,\n"
          ]
        },
        {
          "output_type": "stream",
          "name": "stdout",
          "text": [
            "[[4347  316]\n",
            " [  16  243]]\n",
            "Confusion matrix, without normalization\n",
            "              precision    recall  f1-score   support\n",
            "\n",
            "           0       1.00      0.93      0.96      4663\n",
            "           1       0.43      0.94      0.59       259\n",
            "\n",
            "    accuracy                           0.93      4922\n",
            "   macro avg       0.72      0.94      0.78      4922\n",
            "weighted avg       0.97      0.93      0.94      4922\n",
            "\n"
          ]
        },
        {
          "output_type": "display_data",
          "data": {
            "text/plain": [
              "<Figure size 432x288 with 2 Axes>"
            ],
            "image/png": "[encoded data removed]"
          },
          "metadata": {
            "needs_background": "light"
          }
        }
      ]
    },
    {
      "cell_type": "code",
      "source": [
        "X1=X.iloc[:,21:351]\n",
        "X2=X.iloc[:,3350:6409]\n",
        "X3=pd.concat([X1,X2],axis=1)\n",
        "X_train, X_test, y_train, y_test=spreproces_data(X3,28,None,\"./standardscaler4m.obj\",training_set=True)\n",
        "\n",
        "model,X_train, X_test, y_train, y_test,train_cm,test_cm=training(40,\"model28_lookback4m.h5\")\n"
      ],
      "metadata": {
        "colab": {
          "base_uri": "https://localhost:8080/",
          "height": 1000
        },
        "id": "naDoE-fG9WeC",
        "outputId": "f68ed785-7d72-4e73-c6b5-41976ce349fb"
      },
      "execution_count": null,
      "outputs": [
        {
          "output_type": "stream",
          "name": "stdout",
          "text": [
            "samples before augmentation44292\n"
          ]
        },
        {
          "output_type": "stream",
          "name": "stderr",
          "text": [
            "WARNING:tensorflow:Layer lstm_24 will not use cuDNN kernels since it doesn't meet the criteria. It will use a generic GPU kernel as fallback when running on GPU.\n",
            "WARNING:tensorflow:Layer lstm_24 will not use cuDNN kernels since it doesn't meet the criteria. It will use a generic GPU kernel as fallback when running on GPU.\n",
            "WARNING:tensorflow:Layer lstm_24 will not use cuDNN kernels since it doesn't meet the criteria. It will use a generic GPU kernel as fallback when running on GPU.\n"
          ]
        },
        {
          "output_type": "stream",
          "name": "stdout",
          "text": [
            "samples before augmentation6564\n"
          ]
        },
        {
          "output_type": "stream",
          "name": "stderr",
          "text": [
            "WARNING:tensorflow:Layer lstm_25 will not use cuDNN kernels since it doesn't meet the criteria. It will use a generic GPU kernel as fallback when running on GPU.\n",
            "WARNING:tensorflow:Layer lstm_25 will not use cuDNN kernels since it doesn't meet the criteria. It will use a generic GPU kernel as fallback when running on GPU.\n",
            "WARNING:tensorflow:Layer lstm_25 will not use cuDNN kernels since it doesn't meet the criteria. It will use a generic GPU kernel as fallback when running on GPU.\n",
            "WARNING:tensorflow:Layer lstm_26 will not use cuDNN kernels since it doesn't meet the criteria. It will use a generic GPU kernel as fallback when running on GPU.\n",
            "WARNING:tensorflow:Layer lstm_26 will not use cuDNN kernels since it doesn't meet the criteria. It will use a generic GPU kernel as fallback when running on GPU.\n",
            "WARNING:tensorflow:Layer lstm_26 will not use cuDNN kernels since it doesn't meet the criteria. It will use a generic GPU kernel as fallback when running on GPU.\n"
          ]
        },
        {
          "output_type": "stream",
          "name": "stdout",
          "text": [
            "Train on 6564 samples, validate on 4922 samples\n",
            "Epoch 1/40\n",
            "6564/6564 [==============================] - ETA: 0s - loss: 0.5723 - acc: 0.7448"
          ]
        },
        {
          "output_type": "stream",
          "name": "stderr",
          "text": [
            "/usr/local/lib/python3.8/dist-packages/keras/engine/training_v1.py:2045: UserWarning: `Model.state_updates` will be removed in a future version. This property should not be used in TensorFlow 2.0, as `updates` are applied automatically.\n",
            "  updates = self.state_updates\n"
          ]
        },
        {
          "output_type": "stream",
          "name": "stdout",
          "text": [
            "\b\b\b\b\b\b\b\b\b\b\b\b\b\b\b\b\b\b\b\b\b\b\b\b\b\b\b\b\b\b\b\b\b\b\b\b\b\b\b\b\b\b\b\b\b\b\b\b\b\b\b\b\b\b\b\b\b\b\b\b\b\b\b\b\b\b\b\b\b\b\b\b\b\b\b\b\b\b\b\b\b\r6564/6564 [==============================] - 4s 535us/sample - loss: 0.5723 - acc: 0.7448 - val_loss: 0.3142 - val_acc: 0.9082\n",
            "Epoch 2/40\n",
            "6564/6564 [==============================] - 1s 135us/sample - loss: 0.3201 - acc: 0.8694 - val_loss: 0.3102 - val_acc: 0.9413\n",
            "Epoch 3/40\n",
            "6564/6564 [==============================] - 1s 152us/sample - loss: 0.2258 - acc: 0.9165 - val_loss: 0.2931 - val_acc: 0.9228\n",
            "Epoch 4/40\n",
            "6564/6564 [==============================] - 1s 169us/sample - loss: 0.1773 - acc: 0.9406 - val_loss: 0.2109 - val_acc: 0.9649\n",
            "Epoch 5/40\n",
            "6564/6564 [==============================] - 1s 141us/sample - loss: 0.1584 - acc: 0.9491 - val_loss: 0.1389 - val_acc: 0.9813\n",
            "Epoch 6/40\n",
            "6564/6564 [==============================] - 1s 139us/sample - loss: 0.1554 - acc: 0.9455 - val_loss: 0.1788 - val_acc: 0.9657\n",
            "Epoch 7/40\n",
            "6564/6564 [==============================] - 1s 138us/sample - loss: 0.1327 - acc: 0.9563 - val_loss: 0.1145 - val_acc: 0.9716\n",
            "Epoch 8/40\n",
            "6564/6564 [==============================] - 1s 147us/sample - loss: 0.1431 - acc: 0.9552 - val_loss: 0.0848 - val_acc: 0.9695\n",
            "Epoch 9/40\n",
            "6564/6564 [==============================] - 1s 145us/sample - loss: 0.1412 - acc: 0.9546 - val_loss: 0.1531 - val_acc: 0.9557\n",
            "Epoch 10/40\n",
            "6564/6564 [==============================] - 1s 133us/sample - loss: 0.1263 - acc: 0.9598 - val_loss: 0.0973 - val_acc: 0.9646\n",
            "Epoch 11/40\n",
            "6564/6564 [==============================] - 1s 149us/sample - loss: 0.1341 - acc: 0.9564 - val_loss: 0.1078 - val_acc: 0.9608\n",
            "Epoch 12/40\n",
            "6564/6564 [==============================] - 1s 135us/sample - loss: 0.1134 - acc: 0.9676 - val_loss: 0.1007 - val_acc: 0.9610\n",
            "Epoch 13/40\n",
            "6564/6564 [==============================] - 1s 136us/sample - loss: 0.1186 - acc: 0.9640 - val_loss: 0.1040 - val_acc: 0.9608\n",
            "Epoch 14/40\n",
            "6564/6564 [==============================] - 1s 140us/sample - loss: 0.1121 - acc: 0.9671 - val_loss: 0.1564 - val_acc: 0.9419\n",
            "Epoch 15/40\n",
            "6564/6564 [==============================] - 1s 130us/sample - loss: 0.1226 - acc: 0.9634 - val_loss: 0.1697 - val_acc: 0.9411\n",
            "Epoch 16/40\n",
            "6564/6564 [==============================] - 1s 128us/sample - loss: 0.1093 - acc: 0.9666 - val_loss: 0.1652 - val_acc: 0.9427\n",
            "Epoch 17/40\n",
            "6564/6564 [==============================] - 1s 143us/sample - loss: 0.1037 - acc: 0.9703 - val_loss: 0.1700 - val_acc: 0.9423\n",
            "Epoch 18/40\n",
            "6564/6564 [==============================] - 1s 130us/sample - loss: 0.1014 - acc: 0.9733 - val_loss: 0.1443 - val_acc: 0.9516\n",
            "Epoch 19/40\n",
            "6564/6564 [==============================] - 1s 137us/sample - loss: 0.0948 - acc: 0.9723 - val_loss: 0.1362 - val_acc: 0.9567\n",
            "Epoch 20/40\n",
            "6564/6564 [==============================] - 1s 130us/sample - loss: 0.0952 - acc: 0.9721 - val_loss: 0.1650 - val_acc: 0.9516\n",
            "Epoch 21/40\n",
            "6564/6564 [==============================] - 1s 142us/sample - loss: 0.0904 - acc: 0.9736 - val_loss: 0.1852 - val_acc: 0.9431\n",
            "Epoch 22/40\n",
            "6564/6564 [==============================] - 1s 134us/sample - loss: 0.0997 - acc: 0.9736 - val_loss: 0.0955 - val_acc: 0.9644\n",
            "Epoch 23/40\n",
            "6564/6564 [==============================] - 1s 130us/sample - loss: 0.1003 - acc: 0.9712 - val_loss: 0.1457 - val_acc: 0.9569\n",
            "Epoch 24/40\n",
            "6564/6564 [==============================] - 1s 135us/sample - loss: 0.0949 - acc: 0.9735 - val_loss: 0.1327 - val_acc: 0.9527\n",
            "Epoch 25/40\n",
            "6564/6564 [==============================] - 1s 140us/sample - loss: 0.1173 - acc: 0.9657 - val_loss: 0.1357 - val_acc: 0.9553\n",
            "Epoch 26/40\n",
            "6564/6564 [==============================] - 1s 131us/sample - loss: 0.0987 - acc: 0.9712 - val_loss: 0.1391 - val_acc: 0.9584\n",
            "Epoch 27/40\n",
            "6564/6564 [==============================] - 1s 128us/sample - loss: 0.0921 - acc: 0.9746 - val_loss: 0.1967 - val_acc: 0.9366\n",
            "Epoch 28/40\n",
            "6564/6564 [==============================] - 1s 128us/sample - loss: 0.1010 - acc: 0.9698 - val_loss: 0.1493 - val_acc: 0.9521\n",
            "Epoch 29/40\n",
            "6564/6564 [==============================] - 1s 128us/sample - loss: 0.0838 - acc: 0.9767 - val_loss: 0.1283 - val_acc: 0.9557\n",
            "Epoch 30/40\n",
            "6564/6564 [==============================] - 1s 139us/sample - loss: 0.0856 - acc: 0.9767 - val_loss: 0.1211 - val_acc: 0.9571\n",
            "Epoch 31/40\n",
            "6564/6564 [==============================] - 1s 139us/sample - loss: 0.0795 - acc: 0.9776 - val_loss: 0.1398 - val_acc: 0.9557\n",
            "Epoch 32/40\n",
            "6564/6564 [==============================] - 1s 130us/sample - loss: 0.0848 - acc: 0.9747 - val_loss: 0.1168 - val_acc: 0.9612\n",
            "Epoch 33/40\n",
            "6564/6564 [==============================] - 1s 127us/sample - loss: 0.0767 - acc: 0.9787 - val_loss: 0.1155 - val_acc: 0.9608\n",
            "Epoch 34/40\n",
            "6564/6564 [==============================] - 1s 129us/sample - loss: 0.0938 - acc: 0.9727 - val_loss: 0.1399 - val_acc: 0.9533\n",
            "Epoch 35/40\n",
            "6564/6564 [==============================] - 1s 139us/sample - loss: 0.0745 - acc: 0.9794 - val_loss: 0.1236 - val_acc: 0.9567\n",
            "Epoch 36/40\n",
            "6564/6564 [==============================] - 1s 140us/sample - loss: 0.0755 - acc: 0.9794 - val_loss: 0.1361 - val_acc: 0.9565\n",
            "Epoch 37/40\n",
            "6564/6564 [==============================] - 1s 128us/sample - loss: 0.0776 - acc: 0.9791 - val_loss: 0.1415 - val_acc: 0.9506\n",
            "Epoch 38/40\n",
            "6564/6564 [==============================] - 1s 145us/sample - loss: 0.0857 - acc: 0.9755 - val_loss: 0.1179 - val_acc: 0.9614\n",
            "Epoch 39/40\n",
            "6564/6564 [==============================] - 1s 145us/sample - loss: 0.0818 - acc: 0.9788 - val_loss: 0.1375 - val_acc: 0.9567\n",
            "Epoch 40/40\n",
            "6564/6564 [==============================] - 1s 129us/sample - loss: 0.0779 - acc: 0.9779 - val_loss: 0.1226 - val_acc: 0.9598\n"
          ]
        },
        {
          "output_type": "stream",
          "name": "stderr",
          "text": [
            "/usr/local/lib/python3.8/dist-packages/keras/engine/training_v1.py:2067: UserWarning: `Model.state_updates` will be removed in a future version. This property should not be used in TensorFlow 2.0, as `updates` are applied automatically.\n",
            "  updates=self.state_updates,\n"
          ]
        },
        {
          "output_type": "stream",
          "name": "stdout",
          "text": [
            "[[4640  191]\n",
            " [   7   84]]\n",
            "Confusion matrix, without normalization\n",
            "              precision    recall  f1-score   support\n",
            "\n",
            "           0       1.00      0.96      0.98      4831\n",
            "           1       0.31      0.92      0.46        91\n",
            "\n",
            "    accuracy                           0.96      4922\n",
            "   macro avg       0.65      0.94      0.72      4922\n",
            "weighted avg       0.99      0.96      0.97      4922\n",
            "\n"
          ]
        },
        {
          "output_type": "display_data",
          "data": {
            "text/plain": [
              "<Figure size 432x288 with 2 Axes>"
            ],
            "image/png": "[encoded data removed]"
          },
          "metadata": {
            "needs_background": "light"
          }
        }
      ]
    },
    {
      "cell_type": "markdown",
      "source": [
        "# 5 Month LookBack"
      ],
      "metadata": {
        "id": "2PpCSfsl-Jdf"
      }
    },
    {
      "cell_type": "code",
      "source": [
        "X1=X.iloc[:,21:351]\n",
        "X2=X.iloc[:,6409:9465]\n",
        "X3=pd.concat([X1,X2],axis=1)\n",
        "X_train, X_test, y_train, y_test=spreproces_data(X3,5,None,\"./standardscaler5m.obj\",training_set=True)\n",
        "\n",
        "model,X_train, X_test, y_train, y_test,train_cm,test_cm=training(40,\"model5_lookback5m.h5\")\n"
      ],
      "metadata": {
        "colab": {
          "base_uri": "https://localhost:8080/",
          "height": 1000
        },
        "id": "8g5qnym0-I_p",
        "outputId": "75bdf417-39c8-4cc1-c08b-a73158d0ebed"
      },
      "execution_count": null,
      "outputs": [
        {
          "output_type": "stream",
          "name": "stdout",
          "text": [
            "samples before augmentation44292\n",
            "samples before augmentation48345\n"
          ]
        },
        {
          "output_type": "stream",
          "name": "stderr",
          "text": [
            "WARNING:tensorflow:Layer lstm_30 will not use cuDNN kernels since it doesn't meet the criteria. It will use a generic GPU kernel as fallback when running on GPU.\n",
            "WARNING:tensorflow:Layer lstm_30 will not use cuDNN kernels since it doesn't meet the criteria. It will use a generic GPU kernel as fallback when running on GPU.\n",
            "WARNING:tensorflow:Layer lstm_30 will not use cuDNN kernels since it doesn't meet the criteria. It will use a generic GPU kernel as fallback when running on GPU.\n",
            "WARNING:tensorflow:Layer lstm_31 will not use cuDNN kernels since it doesn't meet the criteria. It will use a generic GPU kernel as fallback when running on GPU.\n",
            "WARNING:tensorflow:Layer lstm_31 will not use cuDNN kernels since it doesn't meet the criteria. It will use a generic GPU kernel as fallback when running on GPU.\n",
            "WARNING:tensorflow:Layer lstm_31 will not use cuDNN kernels since it doesn't meet the criteria. It will use a generic GPU kernel as fallback when running on GPU.\n",
            "WARNING:tensorflow:Layer lstm_32 will not use cuDNN kernels since it doesn't meet the criteria. It will use a generic GPU kernel as fallback when running on GPU.\n",
            "WARNING:tensorflow:Layer lstm_32 will not use cuDNN kernels since it doesn't meet the criteria. It will use a generic GPU kernel as fallback when running on GPU.\n",
            "WARNING:tensorflow:Layer lstm_32 will not use cuDNN kernels since it doesn't meet the criteria. It will use a generic GPU kernel as fallback when running on GPU.\n"
          ]
        },
        {
          "output_type": "stream",
          "name": "stdout",
          "text": [
            "Train on 48345 samples, validate on 4922 samples\n",
            "Epoch 1/40\n",
            "48345/48345 [==============================] - ETA: 0s - loss: 0.5469 - acc: 0.7548"
          ]
        },
        {
          "output_type": "stream",
          "name": "stderr",
          "text": [
            "/usr/local/lib/python3.8/dist-packages/keras/engine/training_v1.py:2045: UserWarning: `Model.state_updates` will be removed in a future version. This property should not be used in TensorFlow 2.0, as `updates` are applied automatically.\n",
            "  updates = self.state_updates\n"
          ]
        },
        {
          "output_type": "stream",
          "name": "stdout",
          "text": [
            "\b\b\b\b\b\b\b\b\b\b\b\b\b\b\b\b\b\b\b\b\b\b\b\b\b\b\b\b\b\b\b\b\b\b\b\b\b\b\b\b\b\b\b\b\b\b\b\b\b\b\b\b\b\b\b\b\b\b\b\b\b\b\b\b\b\b\b\b\b\b\b\b\b\b\b\b\b\b\b\b\b\b\b\r48345/48345 [==============================] - 8s 165us/sample - loss: 0.5469 - acc: 0.7548 - val_loss: 0.4606 - val_acc: 0.8068\n",
            "Epoch 2/40\n",
            "48345/48345 [==============================] - 5s 106us/sample - loss: 0.3559 - acc: 0.8544 - val_loss: 0.3346 - val_acc: 0.8677\n",
            "Epoch 3/40\n",
            "48345/48345 [==============================] - 5s 105us/sample - loss: 0.3190 - acc: 0.8730 - val_loss: 0.2453 - val_acc: 0.8962\n",
            "Epoch 4/40\n",
            "48345/48345 [==============================] - 5s 103us/sample - loss: 0.3034 - acc: 0.8809 - val_loss: 0.3727 - val_acc: 0.8387\n",
            "Epoch 5/40\n",
            "48345/48345 [==============================] - 5s 108us/sample - loss: 0.2911 - acc: 0.8873 - val_loss: 0.2843 - val_acc: 0.8793\n",
            "Epoch 6/40\n",
            "48345/48345 [==============================] - 5s 111us/sample - loss: 0.2774 - acc: 0.8916 - val_loss: 0.2788 - val_acc: 0.8826\n",
            "Epoch 7/40\n",
            "48345/48345 [==============================] - 5s 109us/sample - loss: 0.2662 - acc: 0.8965 - val_loss: 0.2481 - val_acc: 0.8939\n",
            "Epoch 8/40\n",
            "48345/48345 [==============================] - 5s 106us/sample - loss: 0.2596 - acc: 0.8997 - val_loss: 0.2766 - val_acc: 0.8785\n",
            "Epoch 9/40\n",
            "48345/48345 [==============================] - 5s 106us/sample - loss: 0.2498 - acc: 0.9032 - val_loss: 0.2731 - val_acc: 0.8846\n",
            "Epoch 10/40\n",
            "48345/48345 [==============================] - 5s 104us/sample - loss: 0.2445 - acc: 0.9044 - val_loss: 0.2775 - val_acc: 0.8803\n",
            "Epoch 11/40\n",
            "48345/48345 [==============================] - 5s 106us/sample - loss: 0.2419 - acc: 0.9062 - val_loss: 0.2869 - val_acc: 0.8736\n",
            "Epoch 12/40\n",
            "48345/48345 [==============================] - 5s 105us/sample - loss: 0.2354 - acc: 0.9110 - val_loss: 0.2884 - val_acc: 0.8803\n",
            "Epoch 13/40\n",
            "48345/48345 [==============================] - 5s 104us/sample - loss: 0.2279 - acc: 0.9132 - val_loss: 0.2211 - val_acc: 0.9055\n",
            "Epoch 14/40\n",
            "48345/48345 [==============================] - 5s 107us/sample - loss: 0.2260 - acc: 0.9134 - val_loss: 0.2730 - val_acc: 0.8876\n",
            "Epoch 15/40\n",
            "48345/48345 [==============================] - 5s 103us/sample - loss: 0.2179 - acc: 0.9165 - val_loss: 0.3007 - val_acc: 0.8683\n",
            "Epoch 16/40\n",
            "48345/48345 [==============================] - 5s 100us/sample - loss: 0.2152 - acc: 0.9188 - val_loss: 0.2596 - val_acc: 0.8921\n",
            "Epoch 17/40\n",
            "48345/48345 [==============================] - 5s 102us/sample - loss: 0.2152 - acc: 0.9175 - val_loss: 0.2712 - val_acc: 0.8891\n",
            "Epoch 18/40\n",
            "48345/48345 [==============================] - 5s 106us/sample - loss: 0.2071 - acc: 0.9226 - val_loss: 0.2690 - val_acc: 0.8874\n",
            "Epoch 19/40\n",
            "48345/48345 [==============================] - 5s 106us/sample - loss: 0.2063 - acc: 0.9217 - val_loss: 0.2350 - val_acc: 0.8978\n",
            "Epoch 20/40\n",
            "48345/48345 [==============================] - 5s 102us/sample - loss: 0.2044 - acc: 0.9229 - val_loss: 0.2663 - val_acc: 0.8818\n",
            "Epoch 21/40\n",
            "48345/48345 [==============================] - 5s 101us/sample - loss: 0.2023 - acc: 0.9230 - val_loss: 0.2756 - val_acc: 0.8820\n",
            "Epoch 22/40\n",
            "48345/48345 [==============================] - 5s 101us/sample - loss: 0.1986 - acc: 0.9257 - val_loss: 0.2698 - val_acc: 0.8824\n",
            "Epoch 23/40\n",
            "48345/48345 [==============================] - 5s 101us/sample - loss: 0.1944 - acc: 0.9265 - val_loss: 0.2507 - val_acc: 0.8948\n",
            "Epoch 24/40\n",
            "48345/48345 [==============================] - 5s 103us/sample - loss: 0.1926 - acc: 0.9269 - val_loss: 0.2146 - val_acc: 0.9061\n",
            "Epoch 25/40\n",
            "48345/48345 [==============================] - 5s 101us/sample - loss: 0.1897 - acc: 0.9280 - val_loss: 0.2480 - val_acc: 0.8976\n",
            "Epoch 26/40\n",
            "48345/48345 [==============================] - 5s 101us/sample - loss: 0.1847 - acc: 0.9301 - val_loss: 0.2346 - val_acc: 0.9076\n",
            "Epoch 27/40\n",
            "48345/48345 [==============================] - 5s 101us/sample - loss: 0.1867 - acc: 0.9295 - val_loss: 0.2239 - val_acc: 0.9098\n",
            "Epoch 28/40\n",
            "48345/48345 [==============================] - 5s 102us/sample - loss: 0.1842 - acc: 0.9309 - val_loss: 0.2145 - val_acc: 0.9134\n",
            "Epoch 29/40\n",
            "48345/48345 [==============================] - 5s 102us/sample - loss: 0.1799 - acc: 0.9321 - val_loss: 0.2559 - val_acc: 0.8972\n",
            "Epoch 30/40\n",
            "48345/48345 [==============================] - 5s 102us/sample - loss: 0.1824 - acc: 0.9306 - val_loss: 0.2196 - val_acc: 0.9084\n",
            "Epoch 31/40\n",
            "48345/48345 [==============================] - 5s 101us/sample - loss: 0.1761 - acc: 0.9347 - val_loss: 0.2196 - val_acc: 0.9118\n",
            "Epoch 32/40\n",
            "48345/48345 [==============================] - 5s 101us/sample - loss: 0.1795 - acc: 0.9332 - val_loss: 0.2190 - val_acc: 0.9106\n",
            "Epoch 33/40\n",
            "48345/48345 [==============================] - 5s 101us/sample - loss: 0.1729 - acc: 0.9361 - val_loss: 0.2247 - val_acc: 0.9051\n",
            "Epoch 34/40\n",
            "48345/48345 [==============================] - 5s 105us/sample - loss: 0.1748 - acc: 0.9350 - val_loss: 0.2018 - val_acc: 0.9193\n",
            "Epoch 35/40\n",
            "48345/48345 [==============================] - 5s 101us/sample - loss: 0.1743 - acc: 0.9339 - val_loss: 0.2308 - val_acc: 0.9124\n",
            "Epoch 36/40\n",
            "48345/48345 [==============================] - 5s 102us/sample - loss: 0.1707 - acc: 0.9363 - val_loss: 0.2350 - val_acc: 0.9069\n",
            "Epoch 37/40\n",
            "48345/48345 [==============================] - 5s 104us/sample - loss: 0.1689 - acc: 0.9381 - val_loss: 0.1944 - val_acc: 0.9200\n",
            "Epoch 38/40\n",
            "48345/48345 [==============================] - 5s 106us/sample - loss: 0.1664 - acc: 0.9377 - val_loss: 0.2420 - val_acc: 0.9007\n",
            "Epoch 39/40\n",
            "48345/48345 [==============================] - 5s 103us/sample - loss: 0.1672 - acc: 0.9383 - val_loss: 0.2140 - val_acc: 0.9139\n",
            "Epoch 40/40\n",
            "48345/48345 [==============================] - 5s 104us/sample - loss: 0.1637 - acc: 0.9389 - val_loss: 0.2378 - val_acc: 0.9045\n"
          ]
        },
        {
          "output_type": "stream",
          "name": "stderr",
          "text": [
            "/usr/local/lib/python3.8/dist-packages/keras/engine/training_v1.py:2067: UserWarning: `Model.state_updates` will be removed in a future version. This property should not be used in TensorFlow 2.0, as `updates` are applied automatically.\n",
            "  updates=self.state_updates,\n"
          ]
        },
        {
          "output_type": "stream",
          "name": "stdout",
          "text": [
            "[[3951  415]\n",
            " [  55  501]]\n",
            "Confusion matrix, without normalization\n",
            "              precision    recall  f1-score   support\n",
            "\n",
            "           0       0.99      0.90      0.94      4366\n",
            "           1       0.55      0.90      0.68       556\n",
            "\n",
            "    accuracy                           0.90      4922\n",
            "   macro avg       0.77      0.90      0.81      4922\n",
            "weighted avg       0.94      0.90      0.91      4922\n",
            "\n"
          ]
        },
        {
          "output_type": "display_data",
          "data": {
            "text/plain": [
              "<Figure size 432x288 with 2 Axes>"
            ],
            "image/png": "[encoded data removed]"
          },
          "metadata": {
            "needs_background": "light"
          }
        }
      ]
    },
    {
      "cell_type": "code",
      "source": [
        "X1=X.iloc[:,21:351]\n",
        "X2=X.iloc[:,6409:9465]\n",
        "X3=pd.concat([X1,X2],axis=1)\n",
        "X_train, X_test, y_train, y_test=spreproces_data(X3,10,None,\"./standardscaler5m.obj\",training_set=True)\n",
        "\n",
        "model,X_train, X_test, y_train, y_test,train_cm,test_cm=training(40,\"model10_lookback5m.h5\")\n"
      ],
      "metadata": {
        "colab": {
          "base_uri": "https://localhost:8080/",
          "height": 1000
        },
        "id": "T-NPWFLC-5tR",
        "outputId": "60f2e2fc-9ae9-4744-c1e5-fe2feb7142af"
      },
      "execution_count": null,
      "outputs": [
        {
          "output_type": "stream",
          "name": "stdout",
          "text": [
            "samples before augmentation44292\n",
            "samples before augmentation31901\n"
          ]
        },
        {
          "output_type": "stream",
          "name": "stderr",
          "text": [
            "WARNING:tensorflow:Layer lstm_33 will not use cuDNN kernels since it doesn't meet the criteria. It will use a generic GPU kernel as fallback when running on GPU.\n",
            "WARNING:tensorflow:Layer lstm_33 will not use cuDNN kernels since it doesn't meet the criteria. It will use a generic GPU kernel as fallback when running on GPU.\n",
            "WARNING:tensorflow:Layer lstm_33 will not use cuDNN kernels since it doesn't meet the criteria. It will use a generic GPU kernel as fallback when running on GPU.\n",
            "WARNING:tensorflow:Layer lstm_34 will not use cuDNN kernels since it doesn't meet the criteria. It will use a generic GPU kernel as fallback when running on GPU.\n",
            "WARNING:tensorflow:Layer lstm_34 will not use cuDNN kernels since it doesn't meet the criteria. It will use a generic GPU kernel as fallback when running on GPU.\n",
            "WARNING:tensorflow:Layer lstm_34 will not use cuDNN kernels since it doesn't meet the criteria. It will use a generic GPU kernel as fallback when running on GPU.\n",
            "WARNING:tensorflow:Layer lstm_35 will not use cuDNN kernels since it doesn't meet the criteria. It will use a generic GPU kernel as fallback when running on GPU.\n",
            "WARNING:tensorflow:Layer lstm_35 will not use cuDNN kernels since it doesn't meet the criteria. It will use a generic GPU kernel as fallback when running on GPU.\n",
            "WARNING:tensorflow:Layer lstm_35 will not use cuDNN kernels since it doesn't meet the criteria. It will use a generic GPU kernel as fallback when running on GPU.\n"
          ]
        },
        {
          "output_type": "stream",
          "name": "stdout",
          "text": [
            "Train on 31901 samples, validate on 4922 samples\n",
            "Epoch 1/40\n",
            "31901/31901 [==============================] - ETA: 0s - loss: 0.5643 - acc: 0.7321"
          ]
        },
        {
          "output_type": "stream",
          "name": "stderr",
          "text": [
            "/usr/local/lib/python3.8/dist-packages/keras/engine/training_v1.py:2045: UserWarning: `Model.state_updates` will be removed in a future version. This property should not be used in TensorFlow 2.0, as `updates` are applied automatically.\n",
            "  updates = self.state_updates\n"
          ]
        },
        {
          "output_type": "stream",
          "name": "stdout",
          "text": [
            "\b\b\b\b\b\b\b\b\b\b\b\b\b\b\b\b\b\b\b\b\b\b\b\b\b\b\b\b\b\b\b\b\b\b\b\b\b\b\b\b\b\b\b\b\b\b\b\b\b\b\b\b\b\b\b\b\b\b\b\b\b\b\b\b\b\b\b\b\b\b\b\b\b\b\b\b\b\b\b\b\b\b\b\r31901/31901 [==============================] - 7s 206us/sample - loss: 0.5643 - acc: 0.7321 - val_loss: 0.6282 - val_acc: 0.6570\n",
            "Epoch 2/40\n",
            "31901/31901 [==============================] - 3s 108us/sample - loss: 0.3550 - acc: 0.8582 - val_loss: 0.3085 - val_acc: 0.8982\n",
            "Epoch 3/40\n",
            "31901/31901 [==============================] - 3s 104us/sample - loss: 0.2998 - acc: 0.8835 - val_loss: 0.2491 - val_acc: 0.8960\n",
            "Epoch 4/40\n",
            "31901/31901 [==============================] - 3s 108us/sample - loss: 0.2770 - acc: 0.8922 - val_loss: 0.2796 - val_acc: 0.8824\n",
            "Epoch 5/40\n",
            "31901/31901 [==============================] - 3s 102us/sample - loss: 0.2630 - acc: 0.8998 - val_loss: 0.2834 - val_acc: 0.8813\n",
            "Epoch 6/40\n",
            "31901/31901 [==============================] - 3s 101us/sample - loss: 0.2537 - acc: 0.9030 - val_loss: 0.2569 - val_acc: 0.8893\n",
            "Epoch 7/40\n",
            "31901/31901 [==============================] - 3s 103us/sample - loss: 0.2559 - acc: 0.9016 - val_loss: 0.2853 - val_acc: 0.8639\n",
            "Epoch 8/40\n",
            "31901/31901 [==============================] - 3s 103us/sample - loss: 0.2476 - acc: 0.9050 - val_loss: 0.2381 - val_acc: 0.8929\n",
            "Epoch 9/40\n",
            "31901/31901 [==============================] - 3s 102us/sample - loss: 0.2394 - acc: 0.9075 - val_loss: 0.2459 - val_acc: 0.8852\n",
            "Epoch 10/40\n",
            "31901/31901 [==============================] - 3s 102us/sample - loss: 0.2386 - acc: 0.9094 - val_loss: 0.2611 - val_acc: 0.8850\n",
            "Epoch 11/40\n",
            "31901/31901 [==============================] - 3s 104us/sample - loss: 0.2320 - acc: 0.9120 - val_loss: 0.2798 - val_acc: 0.8803\n",
            "Epoch 12/40\n",
            "31901/31901 [==============================] - 3s 102us/sample - loss: 0.2275 - acc: 0.9133 - val_loss: 0.2293 - val_acc: 0.8978\n",
            "Epoch 13/40\n",
            "31901/31901 [==============================] - 3s 103us/sample - loss: 0.2191 - acc: 0.9173 - val_loss: 0.2288 - val_acc: 0.9035\n",
            "Epoch 14/40\n",
            "31901/31901 [==============================] - 3s 103us/sample - loss: 0.2256 - acc: 0.9173 - val_loss: 0.2929 - val_acc: 0.8805\n",
            "Epoch 15/40\n",
            "31901/31901 [==============================] - 3s 104us/sample - loss: 0.2195 - acc: 0.9177 - val_loss: 0.2700 - val_acc: 0.8771\n",
            "Epoch 16/40\n",
            "31901/31901 [==============================] - 3s 103us/sample - loss: 0.2237 - acc: 0.9169 - val_loss: 0.2276 - val_acc: 0.9067\n",
            "Epoch 17/40\n",
            "31901/31901 [==============================] - 3s 104us/sample - loss: 0.2110 - acc: 0.9221 - val_loss: 0.2223 - val_acc: 0.9059\n",
            "Epoch 18/40\n",
            "31901/31901 [==============================] - 3s 103us/sample - loss: 0.2131 - acc: 0.9220 - val_loss: 0.2569 - val_acc: 0.8879\n",
            "Epoch 19/40\n",
            "31901/31901 [==============================] - 3s 103us/sample - loss: 0.2140 - acc: 0.9214 - val_loss: 0.2307 - val_acc: 0.9031\n",
            "Epoch 20/40\n",
            "31901/31901 [==============================] - 3s 103us/sample - loss: 0.2102 - acc: 0.9240 - val_loss: 0.2244 - val_acc: 0.9017\n",
            "Epoch 21/40\n",
            "31901/31901 [==============================] - 3s 107us/sample - loss: 0.2089 - acc: 0.9224 - val_loss: 0.2474 - val_acc: 0.8958\n",
            "Epoch 22/40\n",
            "31901/31901 [==============================] - 4s 113us/sample - loss: 0.2057 - acc: 0.9243 - val_loss: 0.2191 - val_acc: 0.9041\n",
            "Epoch 23/40\n",
            "31901/31901 [==============================] - 4s 111us/sample - loss: 0.2030 - acc: 0.9249 - val_loss: 0.2684 - val_acc: 0.8944\n",
            "Epoch 24/40\n",
            "31901/31901 [==============================] - 3s 107us/sample - loss: 0.2006 - acc: 0.9263 - val_loss: 0.2368 - val_acc: 0.8994\n",
            "Epoch 25/40\n",
            "31901/31901 [==============================] - 3s 109us/sample - loss: 0.1991 - acc: 0.9267 - val_loss: 0.2433 - val_acc: 0.8954\n",
            "Epoch 26/40\n",
            "31901/31901 [==============================] - 4s 111us/sample - loss: 0.2011 - acc: 0.9271 - val_loss: 0.2256 - val_acc: 0.9065\n",
            "Epoch 27/40\n",
            "31901/31901 [==============================] - 4s 112us/sample - loss: 0.1963 - acc: 0.9285 - val_loss: 0.2300 - val_acc: 0.9063\n",
            "Epoch 28/40\n",
            "31901/31901 [==============================] - 3s 109us/sample - loss: 0.1909 - acc: 0.9302 - val_loss: 0.2556 - val_acc: 0.8933\n",
            "Epoch 29/40\n",
            "31901/31901 [==============================] - 3s 110us/sample - loss: 0.1896 - acc: 0.9310 - val_loss: 0.1729 - val_acc: 0.9177\n",
            "Epoch 30/40\n",
            "31901/31901 [==============================] - 3s 108us/sample - loss: 0.1887 - acc: 0.9313 - val_loss: 0.2189 - val_acc: 0.9126\n",
            "Epoch 31/40\n",
            "31901/31901 [==============================] - 3s 109us/sample - loss: 0.1855 - acc: 0.9323 - val_loss: 0.2507 - val_acc: 0.8972\n",
            "Epoch 32/40\n",
            "31901/31901 [==============================] - 4s 110us/sample - loss: 0.1920 - acc: 0.9298 - val_loss: 0.1975 - val_acc: 0.9141\n",
            "Epoch 33/40\n",
            "31901/31901 [==============================] - 3s 108us/sample - loss: 0.1839 - acc: 0.9330 - val_loss: 0.2124 - val_acc: 0.9094\n",
            "Epoch 34/40\n",
            "31901/31901 [==============================] - 3s 106us/sample - loss: 0.1862 - acc: 0.9334 - val_loss: 0.2591 - val_acc: 0.8948\n",
            "Epoch 35/40\n",
            "31901/31901 [==============================] - 3s 102us/sample - loss: 0.1823 - acc: 0.9344 - val_loss: 0.2170 - val_acc: 0.9086\n",
            "Epoch 36/40\n",
            "31901/31901 [==============================] - 3s 102us/sample - loss: 0.1804 - acc: 0.9347 - val_loss: 0.2162 - val_acc: 0.9088\n",
            "Epoch 37/40\n",
            "31901/31901 [==============================] - 3s 106us/sample - loss: 0.1812 - acc: 0.9336 - val_loss: 0.2298 - val_acc: 0.9047\n",
            "Epoch 38/40\n",
            "31901/31901 [==============================] - 4s 112us/sample - loss: 0.1774 - acc: 0.9346 - val_loss: 0.2562 - val_acc: 0.8988\n",
            "Epoch 39/40\n",
            "31901/31901 [==============================] - 4s 111us/sample - loss: 0.1785 - acc: 0.9348 - val_loss: 0.2148 - val_acc: 0.9128\n",
            "Epoch 40/40\n",
            "31901/31901 [==============================] - 3s 105us/sample - loss: 0.1729 - acc: 0.9375 - val_loss: 0.2045 - val_acc: 0.9163\n"
          ]
        },
        {
          "output_type": "stream",
          "name": "stderr",
          "text": [
            "/usr/local/lib/python3.8/dist-packages/keras/engine/training_v1.py:2067: UserWarning: `Model.state_updates` will be removed in a future version. This property should not be used in TensorFlow 2.0, as `updates` are applied automatically.\n",
            "  updates=self.state_updates,\n"
          ]
        },
        {
          "output_type": "stream",
          "name": "stdout",
          "text": [
            "[[4176  368]\n",
            " [  44  334]]\n",
            "Confusion matrix, without normalization\n",
            "              precision    recall  f1-score   support\n",
            "\n",
            "           0       0.99      0.92      0.95      4544\n",
            "           1       0.48      0.88      0.62       378\n",
            "\n",
            "    accuracy                           0.92      4922\n",
            "   macro avg       0.73      0.90      0.79      4922\n",
            "weighted avg       0.95      0.92      0.93      4922\n",
            "\n"
          ]
        },
        {
          "output_type": "display_data",
          "data": {
            "text/plain": [
              "<Figure size 432x288 with 2 Axes>"
            ],
            "image/png": "[encoded data removed]"
          },
          "metadata": {
            "needs_background": "light"
          }
        }
      ]
    },
    {
      "cell_type": "code",
      "source": [
        "X1=X.iloc[:,21:351]\n",
        "X2=X.iloc[:,6409:9465]\n",
        "X3=pd.concat([X1,X2],axis=1)\n",
        "X_train, X_test, y_train, y_test=spreproces_data(X3,15,None,\"./standardscaler5m.obj\",training_set=True)\n",
        "\n",
        "model,X_train, X_test, y_train, y_test,train_cm,test_cm=training(40,\"model15_lookback5m.h5\")\n"
      ],
      "metadata": {
        "colab": {
          "base_uri": "https://localhost:8080/",
          "height": 1000
        },
        "id": "EAtRfHyu-_kV",
        "outputId": "22357523-cc91-4aae-9af3-bb1b5373e51a"
      },
      "execution_count": null,
      "outputs": [
        {
          "output_type": "stream",
          "name": "stdout",
          "text": [
            "samples before augmentation44292\n",
            "samples before augmentation21308\n"
          ]
        },
        {
          "output_type": "stream",
          "name": "stderr",
          "text": [
            "WARNING:tensorflow:Layer lstm_36 will not use cuDNN kernels since it doesn't meet the criteria. It will use a generic GPU kernel as fallback when running on GPU.\n",
            "WARNING:tensorflow:Layer lstm_36 will not use cuDNN kernels since it doesn't meet the criteria. It will use a generic GPU kernel as fallback when running on GPU.\n",
            "WARNING:tensorflow:Layer lstm_36 will not use cuDNN kernels since it doesn't meet the criteria. It will use a generic GPU kernel as fallback when running on GPU.\n",
            "WARNING:tensorflow:Layer lstm_37 will not use cuDNN kernels since it doesn't meet the criteria. It will use a generic GPU kernel as fallback when running on GPU.\n",
            "WARNING:tensorflow:Layer lstm_37 will not use cuDNN kernels since it doesn't meet the criteria. It will use a generic GPU kernel as fallback when running on GPU.\n",
            "WARNING:tensorflow:Layer lstm_37 will not use cuDNN kernels since it doesn't meet the criteria. It will use a generic GPU kernel as fallback when running on GPU.\n",
            "WARNING:tensorflow:Layer lstm_38 will not use cuDNN kernels since it doesn't meet the criteria. It will use a generic GPU kernel as fallback when running on GPU.\n",
            "WARNING:tensorflow:Layer lstm_38 will not use cuDNN kernels since it doesn't meet the criteria. It will use a generic GPU kernel as fallback when running on GPU.\n",
            "WARNING:tensorflow:Layer lstm_38 will not use cuDNN kernels since it doesn't meet the criteria. It will use a generic GPU kernel as fallback when running on GPU.\n"
          ]
        },
        {
          "output_type": "stream",
          "name": "stdout",
          "text": [
            "Train on 21308 samples, validate on 4922 samples\n",
            "Epoch 1/40\n",
            "21308/21308 [==============================] - ETA: 0s - loss: 0.6126 - acc: 0.7174"
          ]
        },
        {
          "output_type": "stream",
          "name": "stderr",
          "text": [
            "/usr/local/lib/python3.8/dist-packages/keras/engine/training_v1.py:2045: UserWarning: `Model.state_updates` will be removed in a future version. This property should not be used in TensorFlow 2.0, as `updates` are applied automatically.\n",
            "  updates = self.state_updates\n"
          ]
        },
        {
          "output_type": "stream",
          "name": "stdout",
          "text": [
            "\b\b\b\b\b\b\b\b\b\b\b\b\b\b\b\b\b\b\b\b\b\b\b\b\b\b\b\b\b\b\b\b\b\b\b\b\b\b\b\b\b\b\b\b\b\b\b\b\b\b\b\b\b\b\b\b\b\b\b\b\b\b\b\b\b\b\b\b\b\b\b\b\b\b\b\b\b\b\b\b\b\b\b\r21308/21308 [==============================] - 6s 266us/sample - loss: 0.6126 - acc: 0.7174 - val_loss: 0.4100 - val_acc: 0.8811\n",
            "Epoch 2/40\n",
            "21308/21308 [==============================] - 2s 112us/sample - loss: 0.3429 - acc: 0.8665 - val_loss: 0.2514 - val_acc: 0.9500\n",
            "Epoch 3/40\n",
            "21308/21308 [==============================] - 2s 112us/sample - loss: 0.2921 - acc: 0.8904 - val_loss: 0.1747 - val_acc: 0.9366\n",
            "Epoch 4/40\n",
            "21308/21308 [==============================] - 2s 115us/sample - loss: 0.2618 - acc: 0.9030 - val_loss: 0.2178 - val_acc: 0.9065\n",
            "Epoch 5/40\n",
            "21308/21308 [==============================] - 2s 110us/sample - loss: 0.2411 - acc: 0.9071 - val_loss: 0.1636 - val_acc: 0.9342\n",
            "Epoch 6/40\n",
            "21308/21308 [==============================] - 2s 117us/sample - loss: 0.2251 - acc: 0.9184 - val_loss: 0.2014 - val_acc: 0.9246\n",
            "Epoch 7/40\n",
            "21308/21308 [==============================] - 2s 112us/sample - loss: 0.2234 - acc: 0.9195 - val_loss: 0.2192 - val_acc: 0.9147\n",
            "Epoch 8/40\n",
            "21308/21308 [==============================] - 2s 111us/sample - loss: 0.2080 - acc: 0.9257 - val_loss: 0.2160 - val_acc: 0.9187\n",
            "Epoch 9/40\n",
            "21308/21308 [==============================] - 2s 117us/sample - loss: 0.2082 - acc: 0.9241 - val_loss: 0.2214 - val_acc: 0.9094\n",
            "Epoch 10/40\n",
            "21308/21308 [==============================] - 3s 117us/sample - loss: 0.1985 - acc: 0.9273 - val_loss: 0.1901 - val_acc: 0.9275\n",
            "Epoch 11/40\n",
            "21308/21308 [==============================] - 2s 114us/sample - loss: 0.2153 - acc: 0.9201 - val_loss: 0.2377 - val_acc: 0.9041\n",
            "Epoch 12/40\n",
            "21308/21308 [==============================] - 3s 119us/sample - loss: 0.1954 - acc: 0.9293 - val_loss: 0.2212 - val_acc: 0.9122\n",
            "Epoch 13/40\n",
            "21308/21308 [==============================] - 2s 115us/sample - loss: 0.1902 - acc: 0.9341 - val_loss: 0.2703 - val_acc: 0.8986\n",
            "Epoch 14/40\n",
            "21308/21308 [==============================] - 3s 118us/sample - loss: 0.1840 - acc: 0.9364 - val_loss: 0.2077 - val_acc: 0.9141\n",
            "Epoch 15/40\n",
            "21308/21308 [==============================] - 2s 116us/sample - loss: 0.1849 - acc: 0.9363 - val_loss: 0.2632 - val_acc: 0.9072\n",
            "Epoch 16/40\n",
            "21308/21308 [==============================] - 3s 119us/sample - loss: 0.1841 - acc: 0.9378 - val_loss: 0.1888 - val_acc: 0.9301\n",
            "Epoch 17/40\n",
            "21308/21308 [==============================] - 2s 116us/sample - loss: 0.1785 - acc: 0.9379 - val_loss: 0.2198 - val_acc: 0.9171\n",
            "Epoch 18/40\n",
            "21308/21308 [==============================] - 3s 119us/sample - loss: 0.1784 - acc: 0.9389 - val_loss: 0.2350 - val_acc: 0.9104\n",
            "Epoch 19/40\n",
            "21308/21308 [==============================] - 3s 120us/sample - loss: 0.1757 - acc: 0.9396 - val_loss: 0.2061 - val_acc: 0.9124\n",
            "Epoch 20/40\n",
            "21308/21308 [==============================] - 3s 122us/sample - loss: 0.1676 - acc: 0.9440 - val_loss: 0.2046 - val_acc: 0.9212\n",
            "Epoch 21/40\n",
            "21308/21308 [==============================] - 2s 116us/sample - loss: 0.1740 - acc: 0.9395 - val_loss: 0.1930 - val_acc: 0.9265\n",
            "Epoch 22/40\n",
            "21308/21308 [==============================] - 2s 116us/sample - loss: 0.1800 - acc: 0.9364 - val_loss: 0.1771 - val_acc: 0.9297\n",
            "Epoch 23/40\n",
            "21308/21308 [==============================] - 2s 116us/sample - loss: 0.1672 - acc: 0.9427 - val_loss: 0.1861 - val_acc: 0.9299\n",
            "Epoch 24/40\n",
            "21308/21308 [==============================] - 3s 118us/sample - loss: 0.1640 - acc: 0.9434 - val_loss: 0.2298 - val_acc: 0.9161\n",
            "Epoch 25/40\n",
            "21308/21308 [==============================] - 3s 118us/sample - loss: 0.1585 - acc: 0.9456 - val_loss: 0.2012 - val_acc: 0.9222\n",
            "Epoch 26/40\n",
            "21308/21308 [==============================] - 2s 113us/sample - loss: 0.1611 - acc: 0.9448 - val_loss: 0.2579 - val_acc: 0.9027\n",
            "Epoch 27/40\n",
            "21308/21308 [==============================] - 2s 115us/sample - loss: 0.1631 - acc: 0.9437 - val_loss: 0.1757 - val_acc: 0.9352\n",
            "Epoch 28/40\n",
            "21308/21308 [==============================] - 2s 112us/sample - loss: 0.1595 - acc: 0.9451 - val_loss: 0.2238 - val_acc: 0.9065\n",
            "Epoch 29/40\n",
            "21308/21308 [==============================] - 2s 112us/sample - loss: 0.1628 - acc: 0.9439 - val_loss: 0.1860 - val_acc: 0.9275\n",
            "Epoch 30/40\n",
            "21308/21308 [==============================] - 2s 115us/sample - loss: 0.1565 - acc: 0.9469 - val_loss: 0.2159 - val_acc: 0.9193\n",
            "Epoch 31/40\n",
            "21308/21308 [==============================] - 2s 111us/sample - loss: 0.1561 - acc: 0.9467 - val_loss: 0.2071 - val_acc: 0.9246\n",
            "Epoch 32/40\n",
            "21308/21308 [==============================] - 2s 112us/sample - loss: 0.1526 - acc: 0.9490 - val_loss: 0.1581 - val_acc: 0.9374\n",
            "Epoch 33/40\n",
            "21308/21308 [==============================] - 2s 111us/sample - loss: 0.1477 - acc: 0.9492 - val_loss: 0.1971 - val_acc: 0.9258\n",
            "Epoch 34/40\n",
            "21308/21308 [==============================] - 2s 111us/sample - loss: 0.1480 - acc: 0.9506 - val_loss: 0.1969 - val_acc: 0.9220\n",
            "Epoch 35/40\n",
            "21308/21308 [==============================] - 3s 119us/sample - loss: 0.1447 - acc: 0.9492 - val_loss: 0.2082 - val_acc: 0.9230\n",
            "Epoch 36/40\n",
            "21308/21308 [==============================] - 2s 114us/sample - loss: 0.1443 - acc: 0.9518 - val_loss: 0.1809 - val_acc: 0.9313\n",
            "Epoch 37/40\n",
            "21308/21308 [==============================] - 3s 122us/sample - loss: 0.1452 - acc: 0.9489 - val_loss: 0.1868 - val_acc: 0.9301\n",
            "Epoch 38/40\n",
            "21308/21308 [==============================] - 2s 112us/sample - loss: 0.1463 - acc: 0.9505 - val_loss: 0.1719 - val_acc: 0.9364\n",
            "Epoch 39/40\n",
            "21308/21308 [==============================] - 2s 117us/sample - loss: 0.1411 - acc: 0.9516 - val_loss: 0.1670 - val_acc: 0.9332\n",
            "Epoch 40/40\n",
            "21308/21308 [==============================] - 2s 115us/sample - loss: 0.1441 - acc: 0.9524 - val_loss: 0.1949 - val_acc: 0.9265\n"
          ]
        },
        {
          "output_type": "stream",
          "name": "stderr",
          "text": [
            "/usr/local/lib/python3.8/dist-packages/keras/engine/training_v1.py:2067: UserWarning: `Model.state_updates` will be removed in a future version. This property should not be used in TensorFlow 2.0, as `updates` are applied automatically.\n",
            "  updates=self.state_updates,\n"
          ]
        },
        {
          "output_type": "stream",
          "name": "stdout",
          "text": [
            "[[4318  345]\n",
            " [  17  242]]\n",
            "Confusion matrix, without normalization\n",
            "              precision    recall  f1-score   support\n",
            "\n",
            "           0       1.00      0.93      0.96      4663\n",
            "           1       0.41      0.93      0.57       259\n",
            "\n",
            "    accuracy                           0.93      4922\n",
            "   macro avg       0.70      0.93      0.77      4922\n",
            "weighted avg       0.97      0.93      0.94      4922\n",
            "\n"
          ]
        },
        {
          "output_type": "display_data",
          "data": {
            "text/plain": [
              "<Figure size 432x288 with 2 Axes>"
            ],
            "image/png": "[encoded data removed]"
          },
          "metadata": {
            "needs_background": "light"
          }
        }
      ]
    },
    {
      "cell_type": "code",
      "source": [
        "X1=X.iloc[:,21:351]\n",
        "X2=X.iloc[:,6409:9465]\n",
        "X3=pd.concat([X1,X2],axis=1)\n",
        "X_train, X_test, y_train, y_test=spreproces_data(X3,28,None,\"./standardscaler5m.obj\",training_set=True)\n",
        "\n",
        "model,X_train, X_test, y_train, y_test,train_cm,test_cm=training(40,\"model28_lookback5m.h5\")\n"
      ],
      "metadata": {
        "colab": {
          "base_uri": "https://localhost:8080/",
          "height": 1000
        },
        "id": "rp5Jc8y7_CV9",
        "outputId": "7ce7f601-0c43-4c8a-df88-22f3bce7b98e"
      },
      "execution_count": null,
      "outputs": [
        {
          "output_type": "stream",
          "name": "stdout",
          "text": [
            "samples before augmentation44292\n"
          ]
        },
        {
          "output_type": "stream",
          "name": "stderr",
          "text": [
            "WARNING:tensorflow:Layer lstm_39 will not use cuDNN kernels since it doesn't meet the criteria. It will use a generic GPU kernel as fallback when running on GPU.\n",
            "WARNING:tensorflow:Layer lstm_39 will not use cuDNN kernels since it doesn't meet the criteria. It will use a generic GPU kernel as fallback when running on GPU.\n",
            "WARNING:tensorflow:Layer lstm_39 will not use cuDNN kernels since it doesn't meet the criteria. It will use a generic GPU kernel as fallback when running on GPU.\n"
          ]
        },
        {
          "output_type": "stream",
          "name": "stdout",
          "text": [
            "samples before augmentation6564\n"
          ]
        },
        {
          "output_type": "stream",
          "name": "stderr",
          "text": [
            "WARNING:tensorflow:Layer lstm_40 will not use cuDNN kernels since it doesn't meet the criteria. It will use a generic GPU kernel as fallback when running on GPU.\n",
            "WARNING:tensorflow:Layer lstm_40 will not use cuDNN kernels since it doesn't meet the criteria. It will use a generic GPU kernel as fallback when running on GPU.\n",
            "WARNING:tensorflow:Layer lstm_40 will not use cuDNN kernels since it doesn't meet the criteria. It will use a generic GPU kernel as fallback when running on GPU.\n",
            "WARNING:tensorflow:Layer lstm_41 will not use cuDNN kernels since it doesn't meet the criteria. It will use a generic GPU kernel as fallback when running on GPU.\n",
            "WARNING:tensorflow:Layer lstm_41 will not use cuDNN kernels since it doesn't meet the criteria. It will use a generic GPU kernel as fallback when running on GPU.\n",
            "WARNING:tensorflow:Layer lstm_41 will not use cuDNN kernels since it doesn't meet the criteria. It will use a generic GPU kernel as fallback when running on GPU.\n"
          ]
        },
        {
          "output_type": "stream",
          "name": "stdout",
          "text": [
            "Train on 6564 samples, validate on 4922 samples\n",
            "Epoch 1/40\n",
            "6564/6564 [==============================] - ETA: 0s - loss: 0.5616 - acc: 0.7431"
          ]
        },
        {
          "output_type": "stream",
          "name": "stderr",
          "text": [
            "/usr/local/lib/python3.8/dist-packages/keras/engine/training_v1.py:2045: UserWarning: `Model.state_updates` will be removed in a future version. This property should not be used in TensorFlow 2.0, as `updates` are applied automatically.\n",
            "  updates = self.state_updates\n"
          ]
        },
        {
          "output_type": "stream",
          "name": "stdout",
          "text": [
            "\b\b\b\b\b\b\b\b\b\b\b\b\b\b\b\b\b\b\b\b\b\b\b\b\b\b\b\b\b\b\b\b\b\b\b\b\b\b\b\b\b\b\b\b\b\b\b\b\b\b\b\b\b\b\b\b\b\b\b\b\b\b\b\b\b\b\b\b\b\b\b\b\b\b\b\b\b\b\b\b\b\r6564/6564 [==============================] - 4s 682us/sample - loss: 0.5616 - acc: 0.7431 - val_loss: 0.5680 - val_acc: 0.6670\n",
            "Epoch 2/40\n",
            "6564/6564 [==============================] - 1s 140us/sample - loss: 0.3238 - acc: 0.8720 - val_loss: 0.3845 - val_acc: 0.8279\n",
            "Epoch 3/40\n",
            "6564/6564 [==============================] - 1s 142us/sample - loss: 0.2295 - acc: 0.9158 - val_loss: 0.3179 - val_acc: 0.9441\n",
            "Epoch 4/40\n",
            "6564/6564 [==============================] - 1s 143us/sample - loss: 0.1970 - acc: 0.9281 - val_loss: 0.2011 - val_acc: 0.9671\n",
            "Epoch 5/40\n",
            "6564/6564 [==============================] - 1s 145us/sample - loss: 0.1948 - acc: 0.9328 - val_loss: 0.2822 - val_acc: 0.9193\n",
            "Epoch 6/40\n",
            "6564/6564 [==============================] - 1s 151us/sample - loss: 0.1597 - acc: 0.9467 - val_loss: 0.1845 - val_acc: 0.9584\n",
            "Epoch 7/40\n",
            "6564/6564 [==============================] - 1s 136us/sample - loss: 0.1516 - acc: 0.9479 - val_loss: 0.1486 - val_acc: 0.9659\n",
            "Epoch 8/40\n",
            "6564/6564 [==============================] - 1s 135us/sample - loss: 0.1386 - acc: 0.9528 - val_loss: 0.1509 - val_acc: 0.9557\n",
            "Epoch 9/40\n",
            "6564/6564 [==============================] - 1s 137us/sample - loss: 0.1487 - acc: 0.9522 - val_loss: 0.1179 - val_acc: 0.9618\n",
            "Epoch 10/40\n",
            "6564/6564 [==============================] - 1s 142us/sample - loss: 0.1339 - acc: 0.9583 - val_loss: 0.1415 - val_acc: 0.9510\n",
            "Epoch 11/40\n",
            "6564/6564 [==============================] - 1s 141us/sample - loss: 0.1295 - acc: 0.9599 - val_loss: 0.1149 - val_acc: 0.9551\n",
            "Epoch 12/40\n",
            "6564/6564 [==============================] - 1s 142us/sample - loss: 0.1230 - acc: 0.9608 - val_loss: 0.1076 - val_acc: 0.9640\n",
            "Epoch 13/40\n",
            "6564/6564 [==============================] - 1s 148us/sample - loss: 0.1278 - acc: 0.9596 - val_loss: 0.2000 - val_acc: 0.9267\n",
            "Epoch 14/40\n",
            "6564/6564 [==============================] - 1s 139us/sample - loss: 0.1126 - acc: 0.9636 - val_loss: 0.1466 - val_acc: 0.9553\n",
            "Epoch 15/40\n",
            "6564/6564 [==============================] - 1s 150us/sample - loss: 0.1107 - acc: 0.9676 - val_loss: 0.1144 - val_acc: 0.9622\n",
            "Epoch 16/40\n",
            "6564/6564 [==============================] - 1s 137us/sample - loss: 0.1149 - acc: 0.9637 - val_loss: 0.1007 - val_acc: 0.9612\n",
            "Epoch 17/40\n",
            "6564/6564 [==============================] - 1s 136us/sample - loss: 0.1046 - acc: 0.9683 - val_loss: 0.1021 - val_acc: 0.9673\n",
            "Epoch 18/40\n",
            "6564/6564 [==============================] - 1s 139us/sample - loss: 0.1103 - acc: 0.9656 - val_loss: 0.1053 - val_acc: 0.9659\n",
            "Epoch 19/40\n",
            "6564/6564 [==============================] - 1s 140us/sample - loss: 0.1148 - acc: 0.9654 - val_loss: 0.1560 - val_acc: 0.9468\n",
            "Epoch 20/40\n",
            "6564/6564 [==============================] - 1s 141us/sample - loss: 0.1169 - acc: 0.9637 - val_loss: 0.1637 - val_acc: 0.9480\n",
            "Epoch 21/40\n",
            "6564/6564 [==============================] - 1s 146us/sample - loss: 0.1018 - acc: 0.9679 - val_loss: 0.1348 - val_acc: 0.9527\n",
            "Epoch 22/40\n",
            "6564/6564 [==============================] - 1s 149us/sample - loss: 0.0931 - acc: 0.9721 - val_loss: 0.1415 - val_acc: 0.9498\n",
            "Epoch 23/40\n",
            "6564/6564 [==============================] - 1s 135us/sample - loss: 0.0901 - acc: 0.9712 - val_loss: 0.1150 - val_acc: 0.9628\n",
            "Epoch 24/40\n",
            "6564/6564 [==============================] - 1s 132us/sample - loss: 0.0926 - acc: 0.9717 - val_loss: 0.1069 - val_acc: 0.9636\n",
            "Epoch 25/40\n",
            "6564/6564 [==============================] - 1s 135us/sample - loss: 0.0881 - acc: 0.9729 - val_loss: 0.1144 - val_acc: 0.9663\n",
            "Epoch 26/40\n",
            "6564/6564 [==============================] - 1s 132us/sample - loss: 0.0923 - acc: 0.9735 - val_loss: 0.1372 - val_acc: 0.9584\n",
            "Epoch 27/40\n",
            "6564/6564 [==============================] - 1s 138us/sample - loss: 0.0903 - acc: 0.9720 - val_loss: 0.1342 - val_acc: 0.9506\n",
            "Epoch 28/40\n",
            "6564/6564 [==============================] - 1s 141us/sample - loss: 0.0988 - acc: 0.9701 - val_loss: 0.1290 - val_acc: 0.9626\n",
            "Epoch 29/40\n",
            "6564/6564 [==============================] - 1s 139us/sample - loss: 0.0904 - acc: 0.9741 - val_loss: 0.1823 - val_acc: 0.9474\n",
            "Epoch 30/40\n",
            "6564/6564 [==============================] - 1s 143us/sample - loss: 0.0926 - acc: 0.9704 - val_loss: 0.1232 - val_acc: 0.9622\n",
            "Epoch 31/40\n",
            "6564/6564 [==============================] - 1s 130us/sample - loss: 0.0976 - acc: 0.9671 - val_loss: 0.1522 - val_acc: 0.9573\n",
            "Epoch 32/40\n",
            "6564/6564 [==============================] - 1s 132us/sample - loss: 0.1066 - acc: 0.9665 - val_loss: 0.2133 - val_acc: 0.9334\n",
            "Epoch 33/40\n",
            "6564/6564 [==============================] - 1s 130us/sample - loss: 0.0907 - acc: 0.9712 - val_loss: 0.1162 - val_acc: 0.9636\n",
            "Epoch 34/40\n",
            "6564/6564 [==============================] - 1s 133us/sample - loss: 0.1020 - acc: 0.9665 - val_loss: 0.1606 - val_acc: 0.9545\n",
            "Epoch 35/40\n",
            "6564/6564 [==============================] - 1s 134us/sample - loss: 0.1046 - acc: 0.9662 - val_loss: 0.1133 - val_acc: 0.9551\n",
            "Epoch 36/40\n",
            "6564/6564 [==============================] - 1s 132us/sample - loss: 0.0897 - acc: 0.9723 - val_loss: 0.1170 - val_acc: 0.9640\n",
            "Epoch 37/40\n",
            "6564/6564 [==============================] - 1s 136us/sample - loss: 0.0931 - acc: 0.9695 - val_loss: 0.1162 - val_acc: 0.9655\n",
            "Epoch 38/40\n",
            "6564/6564 [==============================] - 1s 141us/sample - loss: 0.0810 - acc: 0.9776 - val_loss: 0.1248 - val_acc: 0.9640\n",
            "Epoch 39/40\n",
            "6564/6564 [==============================] - 1s 138us/sample - loss: 0.0834 - acc: 0.9739 - val_loss: 0.1007 - val_acc: 0.9667\n",
            "Epoch 40/40\n",
            "6564/6564 [==============================] - 1s 141us/sample - loss: 0.0804 - acc: 0.9747 - val_loss: 0.1519 - val_acc: 0.9543\n"
          ]
        },
        {
          "output_type": "stream",
          "name": "stderr",
          "text": [
            "/usr/local/lib/python3.8/dist-packages/keras/engine/training_v1.py:2067: UserWarning: `Model.state_updates` will be removed in a future version. This property should not be used in TensorFlow 2.0, as `updates` are applied automatically.\n",
            "  updates=self.state_updates,\n"
          ]
        },
        {
          "output_type": "stream",
          "name": "stdout",
          "text": [
            "[[4613  218]\n",
            " [   7   84]]\n",
            "Confusion matrix, without normalization\n",
            "              precision    recall  f1-score   support\n",
            "\n",
            "           0       1.00      0.95      0.98      4831\n",
            "           1       0.28      0.92      0.43        91\n",
            "\n",
            "    accuracy                           0.95      4922\n",
            "   macro avg       0.64      0.94      0.70      4922\n",
            "weighted avg       0.99      0.95      0.97      4922\n",
            "\n"
          ]
        },
        {
          "output_type": "display_data",
          "data": {
            "text/plain": [
              "<Figure size 432x288 with 2 Axes>"
            ],
            "image/png": "[encoded data removed]"
          },
          "metadata": {
            "needs_background": "light"
          }
        }
      ]
    },
    {
      "cell_type": "code",
      "source": [
        "X1=X.iloc[:,21:351]\n",
        "X2=X.iloc[:,9465:]\n",
        "X3=pd.concat([X1,X2],axis=1)\n",
        "X_train, X_test, y_train, y_test=spreproces_data(X3,5,None,\"./standardscaler6m.obj\",training_set=True)\n",
        "\n",
        "model,X_train, X_test, y_train, y_test,train_cm,test_cm=training(40,\"model5_lookback6m.h5\")\n"
      ],
      "metadata": {
        "colab": {
          "base_uri": "https://localhost:8080/",
          "height": 1000
        },
        "id": "IqR6CJZ3_cII",
        "outputId": "73d110b5-ad0c-4947-cfb0-5d92b0fb5a82"
      },
      "execution_count": null,
      "outputs": [
        {
          "output_type": "stream",
          "name": "stdout",
          "text": [
            "samples before augmentation44292\n",
            "samples before augmentation48345\n"
          ]
        },
        {
          "output_type": "stream",
          "name": "stderr",
          "text": [
            "WARNING:tensorflow:Layer lstm_42 will not use cuDNN kernels since it doesn't meet the criteria. It will use a generic GPU kernel as fallback when running on GPU.\n",
            "WARNING:tensorflow:Layer lstm_42 will not use cuDNN kernels since it doesn't meet the criteria. It will use a generic GPU kernel as fallback when running on GPU.\n",
            "WARNING:tensorflow:Layer lstm_42 will not use cuDNN kernels since it doesn't meet the criteria. It will use a generic GPU kernel as fallback when running on GPU.\n",
            "WARNING:tensorflow:Layer lstm_43 will not use cuDNN kernels since it doesn't meet the criteria. It will use a generic GPU kernel as fallback when running on GPU.\n",
            "WARNING:tensorflow:Layer lstm_43 will not use cuDNN kernels since it doesn't meet the criteria. It will use a generic GPU kernel as fallback when running on GPU.\n",
            "WARNING:tensorflow:Layer lstm_43 will not use cuDNN kernels since it doesn't meet the criteria. It will use a generic GPU kernel as fallback when running on GPU.\n",
            "WARNING:tensorflow:Layer lstm_44 will not use cuDNN kernels since it doesn't meet the criteria. It will use a generic GPU kernel as fallback when running on GPU.\n",
            "WARNING:tensorflow:Layer lstm_44 will not use cuDNN kernels since it doesn't meet the criteria. It will use a generic GPU kernel as fallback when running on GPU.\n",
            "WARNING:tensorflow:Layer lstm_44 will not use cuDNN kernels since it doesn't meet the criteria. It will use a generic GPU kernel as fallback when running on GPU.\n"
          ]
        },
        {
          "output_type": "stream",
          "name": "stdout",
          "text": [
            "Train on 48345 samples, validate on 4922 samples\n",
            "Epoch 1/40\n",
            "48345/48345 [==============================] - ETA: 0s - loss: 0.5193 - acc: 0.7609"
          ]
        },
        {
          "output_type": "stream",
          "name": "stderr",
          "text": [
            "/usr/local/lib/python3.8/dist-packages/keras/engine/training_v1.py:2045: UserWarning: `Model.state_updates` will be removed in a future version. This property should not be used in TensorFlow 2.0, as `updates` are applied automatically.\n",
            "  updates = self.state_updates\n"
          ]
        },
        {
          "output_type": "stream",
          "name": "stdout",
          "text": [
            "\b\b\b\b\b\b\b\b\b\b\b\b\b\b\b\b\b\b\b\b\b\b\b\b\b\b\b\b\b\b\b\b\b\b\b\b\b\b\b\b\b\b\b\b\b\b\b\b\b\b\b\b\b\b\b\b\b\b\b\b\b\b\b\b\b\b\b\b\b\b\b\b\b\b\b\b\b\b\b\b\b\b\b\r48345/48345 [==============================] - 9s 192us/sample - loss: 0.5193 - acc: 0.7609 - val_loss: 0.3868 - val_acc: 0.8690\n",
            "Epoch 2/40\n",
            "48345/48345 [==============================] - 5s 108us/sample - loss: 0.3430 - acc: 0.8629 - val_loss: 0.3426 - val_acc: 0.8511\n",
            "Epoch 3/40\n",
            "48345/48345 [==============================] - 5s 107us/sample - loss: 0.3122 - acc: 0.8788 - val_loss: 0.2417 - val_acc: 0.8996\n",
            "Epoch 4/40\n",
            "48345/48345 [==============================] - 5s 110us/sample - loss: 0.2924 - acc: 0.8852 - val_loss: 0.2926 - val_acc: 0.8864\n",
            "Epoch 5/40\n",
            "48345/48345 [==============================] - 5s 113us/sample - loss: 0.2854 - acc: 0.8890 - val_loss: 0.2847 - val_acc: 0.8763\n",
            "Epoch 6/40\n",
            "48345/48345 [==============================] - 5s 112us/sample - loss: 0.2731 - acc: 0.8936 - val_loss: 0.3081 - val_acc: 0.8757\n",
            "Epoch 7/40\n",
            "48345/48345 [==============================] - 5s 113us/sample - loss: 0.2652 - acc: 0.8981 - val_loss: 0.2575 - val_acc: 0.8907\n",
            "Epoch 8/40\n",
            "48345/48345 [==============================] - 5s 114us/sample - loss: 0.2616 - acc: 0.9001 - val_loss: 0.2899 - val_acc: 0.8801\n",
            "Epoch 9/40\n",
            "48345/48345 [==============================] - 5s 111us/sample - loss: 0.2598 - acc: 0.9004 - val_loss: 0.2752 - val_acc: 0.8785\n",
            "Epoch 10/40\n",
            "48345/48345 [==============================] - 6s 115us/sample - loss: 0.2542 - acc: 0.9025 - val_loss: 0.2638 - val_acc: 0.8944\n",
            "Epoch 11/40\n",
            "48345/48345 [==============================] - 6s 115us/sample - loss: 0.2477 - acc: 0.9058 - val_loss: 0.2769 - val_acc: 0.8864\n",
            "Epoch 12/40\n",
            "48345/48345 [==============================] - 5s 108us/sample - loss: 0.2388 - acc: 0.9086 - val_loss: 0.3266 - val_acc: 0.8742\n",
            "Epoch 13/40\n",
            "48345/48345 [==============================] - 5s 108us/sample - loss: 0.2405 - acc: 0.9066 - val_loss: 0.2110 - val_acc: 0.9065\n",
            "Epoch 14/40\n",
            "48345/48345 [==============================] - 5s 107us/sample - loss: 0.2385 - acc: 0.9096 - val_loss: 0.2713 - val_acc: 0.8783\n",
            "Epoch 15/40\n",
            "48345/48345 [==============================] - 5s 106us/sample - loss: 0.2307 - acc: 0.9124 - val_loss: 0.2441 - val_acc: 0.8903\n",
            "Epoch 16/40\n",
            "48345/48345 [==============================] - 5s 112us/sample - loss: 0.2295 - acc: 0.9138 - val_loss: 0.2438 - val_acc: 0.8921\n",
            "Epoch 17/40\n",
            "48345/48345 [==============================] - 5s 109us/sample - loss: 0.2215 - acc: 0.9161 - val_loss: 0.2363 - val_acc: 0.8950\n",
            "Epoch 18/40\n",
            "48345/48345 [==============================] - 5s 110us/sample - loss: 0.2213 - acc: 0.9146 - val_loss: 0.2591 - val_acc: 0.8939\n",
            "Epoch 19/40\n",
            "48345/48345 [==============================] - 5s 110us/sample - loss: 0.2184 - acc: 0.9168 - val_loss: 0.2579 - val_acc: 0.8917\n",
            "Epoch 20/40\n",
            "48345/48345 [==============================] - 5s 107us/sample - loss: 0.2174 - acc: 0.9188 - val_loss: 0.2697 - val_acc: 0.8913\n",
            "Epoch 21/40\n",
            "48345/48345 [==============================] - 5s 107us/sample - loss: 0.2166 - acc: 0.9178 - val_loss: 0.2346 - val_acc: 0.9047\n",
            "Epoch 22/40\n",
            "48345/48345 [==============================] - 5s 107us/sample - loss: 0.2101 - acc: 0.9205 - val_loss: 0.2121 - val_acc: 0.9118\n",
            "Epoch 23/40\n",
            "48345/48345 [==============================] - 5s 106us/sample - loss: 0.2089 - acc: 0.9220 - val_loss: 0.2581 - val_acc: 0.8927\n",
            "Epoch 24/40\n",
            "48345/48345 [==============================] - 5s 109us/sample - loss: 0.2027 - acc: 0.9234 - val_loss: 0.2653 - val_acc: 0.8876\n",
            "Epoch 25/40\n",
            "48345/48345 [==============================] - 5s 111us/sample - loss: 0.2054 - acc: 0.9231 - val_loss: 0.2300 - val_acc: 0.9037\n",
            "Epoch 26/40\n",
            "48345/48345 [==============================] - 5s 111us/sample - loss: 0.1994 - acc: 0.9261 - val_loss: 0.2316 - val_acc: 0.9035\n",
            "Epoch 27/40\n",
            "48345/48345 [==============================] - 6s 114us/sample - loss: 0.1982 - acc: 0.9242 - val_loss: 0.2287 - val_acc: 0.9063\n",
            "Epoch 28/40\n",
            "48345/48345 [==============================] - 5s 112us/sample - loss: 0.1988 - acc: 0.9250 - val_loss: 0.2649 - val_acc: 0.8895\n",
            "Epoch 29/40\n",
            "48345/48345 [==============================] - 5s 109us/sample - loss: 0.1942 - acc: 0.9281 - val_loss: 0.2714 - val_acc: 0.8895\n",
            "Epoch 30/40\n",
            "48345/48345 [==============================] - 5s 110us/sample - loss: 0.1942 - acc: 0.9271 - val_loss: 0.2303 - val_acc: 0.9004\n",
            "Epoch 31/40\n",
            "48345/48345 [==============================] - 5s 110us/sample - loss: 0.1920 - acc: 0.9288 - val_loss: 0.2533 - val_acc: 0.8948\n",
            "Epoch 32/40\n",
            "48345/48345 [==============================] - 5s 107us/sample - loss: 0.1918 - acc: 0.9274 - val_loss: 0.2461 - val_acc: 0.9023\n",
            "Epoch 33/40\n",
            "48345/48345 [==============================] - 5s 106us/sample - loss: 0.1893 - acc: 0.9291 - val_loss: 0.2658 - val_acc: 0.8897\n",
            "Epoch 34/40\n",
            "48345/48345 [==============================] - 5s 109us/sample - loss: 0.1871 - acc: 0.9292 - val_loss: 0.2544 - val_acc: 0.8937\n",
            "Epoch 35/40\n",
            "48345/48345 [==============================] - 5s 109us/sample - loss: 0.1829 - acc: 0.9316 - val_loss: 0.2383 - val_acc: 0.9009\n",
            "Epoch 36/40\n",
            "48345/48345 [==============================] - 5s 114us/sample - loss: 0.1786 - acc: 0.9323 - val_loss: 0.2464 - val_acc: 0.9021\n",
            "Epoch 37/40\n",
            "48345/48345 [==============================] - 5s 111us/sample - loss: 0.1808 - acc: 0.9320 - val_loss: 0.2448 - val_acc: 0.8988\n",
            "Epoch 38/40\n",
            "48345/48345 [==============================] - 5s 110us/sample - loss: 0.1799 - acc: 0.9315 - val_loss: 0.2352 - val_acc: 0.9059\n",
            "Epoch 39/40\n",
            "48345/48345 [==============================] - 5s 108us/sample - loss: 0.1770 - acc: 0.9342 - val_loss: 0.2787 - val_acc: 0.8860\n",
            "Epoch 40/40\n",
            "48345/48345 [==============================] - 5s 111us/sample - loss: 0.1786 - acc: 0.9327 - val_loss: 0.2148 - val_acc: 0.9132\n"
          ]
        },
        {
          "output_type": "stream",
          "name": "stderr",
          "text": [
            "/usr/local/lib/python3.8/dist-packages/keras/engine/training_v1.py:2067: UserWarning: `Model.state_updates` will be removed in a future version. This property should not be used in TensorFlow 2.0, as `updates` are applied automatically.\n",
            "  updates=self.state_updates,\n"
          ]
        },
        {
          "output_type": "stream",
          "name": "stdout",
          "text": [
            "[[3995  371]\n",
            " [  56  500]]\n",
            "Confusion matrix, without normalization\n",
            "              precision    recall  f1-score   support\n",
            "\n",
            "           0       0.99      0.92      0.95      4366\n",
            "           1       0.57      0.90      0.70       556\n",
            "\n",
            "    accuracy                           0.91      4922\n",
            "   macro avg       0.78      0.91      0.83      4922\n",
            "weighted avg       0.94      0.91      0.92      4922\n",
            "\n"
          ]
        },
        {
          "output_type": "display_data",
          "data": {
            "text/plain": [
              "<Figure size 432x288 with 2 Axes>"
            ],
            "image/png": "[encoded data removed]"
          },
          "metadata": {
            "needs_background": "light"
          }
        }
      ]
    },
    {
      "cell_type": "code",
      "source": [
        "X1=X.iloc[:,21:351]\n",
        "X2=X.iloc[:,9465:]\n",
        "X3=pd.concat([X1,X2],axis=1)\n",
        "X_train, X_test, y_train, y_test=spreproces_data(X3,10,None,\"./standardscaler6m.obj\",training_set=True)\n",
        "\n",
        "model,X_train, X_test, y_train, y_test,train_cm,test_cm=training(40,\"model10_lookback6m.h5\")\n"
      ],
      "metadata": {
        "colab": {
          "base_uri": "https://localhost:8080/",
          "height": 1000
        },
        "id": "6JfuP6of_meE",
        "outputId": "c6482c3a-fd4e-441a-bb59-5c776f55a2ea"
      },
      "execution_count": null,
      "outputs": [
        {
          "output_type": "stream",
          "name": "stdout",
          "text": [
            "samples before augmentation44292\n",
            "samples before augmentation31901\n"
          ]
        },
        {
          "output_type": "stream",
          "name": "stderr",
          "text": [
            "WARNING:tensorflow:Layer lstm_45 will not use cuDNN kernels since it doesn't meet the criteria. It will use a generic GPU kernel as fallback when running on GPU.\n",
            "WARNING:tensorflow:Layer lstm_45 will not use cuDNN kernels since it doesn't meet the criteria. It will use a generic GPU kernel as fallback when running on GPU.\n",
            "WARNING:tensorflow:Layer lstm_45 will not use cuDNN kernels since it doesn't meet the criteria. It will use a generic GPU kernel as fallback when running on GPU.\n",
            "WARNING:tensorflow:Layer lstm_46 will not use cuDNN kernels since it doesn't meet the criteria. It will use a generic GPU kernel as fallback when running on GPU.\n",
            "WARNING:tensorflow:Layer lstm_46 will not use cuDNN kernels since it doesn't meet the criteria. It will use a generic GPU kernel as fallback when running on GPU.\n",
            "WARNING:tensorflow:Layer lstm_46 will not use cuDNN kernels since it doesn't meet the criteria. It will use a generic GPU kernel as fallback when running on GPU.\n",
            "WARNING:tensorflow:Layer lstm_47 will not use cuDNN kernels since it doesn't meet the criteria. It will use a generic GPU kernel as fallback when running on GPU.\n",
            "WARNING:tensorflow:Layer lstm_47 will not use cuDNN kernels since it doesn't meet the criteria. It will use a generic GPU kernel as fallback when running on GPU.\n",
            "WARNING:tensorflow:Layer lstm_47 will not use cuDNN kernels since it doesn't meet the criteria. It will use a generic GPU kernel as fallback when running on GPU.\n"
          ]
        },
        {
          "output_type": "stream",
          "name": "stdout",
          "text": [
            "Train on 31901 samples, validate on 4922 samples\n",
            "Epoch 1/40\n",
            "31901/31901 [==============================] - ETA: 0s - loss: 0.5626 - acc: 0.7417"
          ]
        },
        {
          "output_type": "stream",
          "name": "stderr",
          "text": [
            "/usr/local/lib/python3.8/dist-packages/keras/engine/training_v1.py:2045: UserWarning: `Model.state_updates` will be removed in a future version. This property should not be used in TensorFlow 2.0, as `updates` are applied automatically.\n",
            "  updates = self.state_updates\n"
          ]
        },
        {
          "output_type": "stream",
          "name": "stdout",
          "text": [
            "\b\b\b\b\b\b\b\b\b\b\b\b\b\b\b\b\b\b\b\b\b\b\b\b\b\b\b\b\b\b\b\b\b\b\b\b\b\b\b\b\b\b\b\b\b\b\b\b\b\b\b\b\b\b\b\b\b\b\b\b\b\b\b\b\b\b\b\b\b\b\b\b\b\b\b\b\b\b\b\b\b\b\b\r31901/31901 [==============================] - 8s 242us/sample - loss: 0.5626 - acc: 0.7417 - val_loss: 0.4600 - val_acc: 0.8427\n",
            "Epoch 2/40\n",
            "31901/31901 [==============================] - 4s 121us/sample - loss: 0.3374 - acc: 0.8645 - val_loss: 0.2742 - val_acc: 0.8854\n",
            "Epoch 3/40\n",
            "31901/31901 [==============================] - 4s 113us/sample - loss: 0.2974 - acc: 0.8817 - val_loss: 0.2685 - val_acc: 0.8852\n",
            "Epoch 4/40\n",
            "31901/31901 [==============================] - 4s 114us/sample - loss: 0.2760 - acc: 0.8905 - val_loss: 0.2608 - val_acc: 0.8921\n",
            "Epoch 5/40\n",
            "31901/31901 [==============================] - 4s 118us/sample - loss: 0.2579 - acc: 0.9008 - val_loss: 0.2459 - val_acc: 0.8941\n",
            "Epoch 6/40\n",
            "31901/31901 [==============================] - 4s 111us/sample - loss: 0.2477 - acc: 0.9017 - val_loss: 0.2198 - val_acc: 0.9080\n",
            "Epoch 7/40\n",
            "31901/31901 [==============================] - 4s 112us/sample - loss: 0.2404 - acc: 0.9074 - val_loss: 0.3073 - val_acc: 0.8702\n",
            "Epoch 8/40\n",
            "31901/31901 [==============================] - 3s 108us/sample - loss: 0.2351 - acc: 0.9096 - val_loss: 0.2867 - val_acc: 0.8769\n",
            "Epoch 9/40\n",
            "31901/31901 [==============================] - 3s 109us/sample - loss: 0.2264 - acc: 0.9149 - val_loss: 0.2593 - val_acc: 0.8944\n",
            "Epoch 10/40\n",
            "31901/31901 [==============================] - 4s 110us/sample - loss: 0.2242 - acc: 0.9142 - val_loss: 0.2300 - val_acc: 0.9072\n",
            "Epoch 11/40\n",
            "31901/31901 [==============================] - 3s 108us/sample - loss: 0.2236 - acc: 0.9148 - val_loss: 0.2403 - val_acc: 0.9007\n",
            "Epoch 12/40\n",
            "31901/31901 [==============================] - 4s 113us/sample - loss: 0.2156 - acc: 0.9181 - val_loss: 0.2909 - val_acc: 0.8799\n",
            "Epoch 13/40\n",
            "31901/31901 [==============================] - 4s 117us/sample - loss: 0.2124 - acc: 0.9202 - val_loss: 0.2160 - val_acc: 0.9061\n",
            "Epoch 14/40\n",
            "31901/31901 [==============================] - 4s 112us/sample - loss: 0.2152 - acc: 0.9204 - val_loss: 0.2588 - val_acc: 0.8911\n",
            "Epoch 15/40\n",
            "31901/31901 [==============================] - 4s 115us/sample - loss: 0.2083 - acc: 0.9229 - val_loss: 0.2754 - val_acc: 0.8826\n",
            "Epoch 16/40\n",
            "31901/31901 [==============================] - 4s 114us/sample - loss: 0.2110 - acc: 0.9217 - val_loss: 0.2175 - val_acc: 0.9041\n",
            "Epoch 17/40\n",
            "31901/31901 [==============================] - 4s 113us/sample - loss: 0.2070 - acc: 0.9230 - val_loss: 0.2705 - val_acc: 0.8858\n",
            "Epoch 18/40\n",
            "31901/31901 [==============================] - 4s 115us/sample - loss: 0.2006 - acc: 0.9257 - val_loss: 0.2816 - val_acc: 0.8820\n",
            "Epoch 19/40\n",
            "31901/31901 [==============================] - 4s 116us/sample - loss: 0.2046 - acc: 0.9227 - val_loss: 0.2003 - val_acc: 0.9147\n",
            "Epoch 20/40\n",
            "31901/31901 [==============================] - 4s 110us/sample - loss: 0.1961 - acc: 0.9287 - val_loss: 0.2231 - val_acc: 0.9057\n",
            "Epoch 21/40\n",
            "31901/31901 [==============================] - 4s 113us/sample - loss: 0.1931 - acc: 0.9289 - val_loss: 0.2395 - val_acc: 0.8974\n",
            "Epoch 22/40\n",
            "31901/31901 [==============================] - 4s 115us/sample - loss: 0.1917 - acc: 0.9289 - val_loss: 0.2537 - val_acc: 0.8982\n",
            "Epoch 23/40\n",
            "31901/31901 [==============================] - 3s 109us/sample - loss: 0.1906 - acc: 0.9309 - val_loss: 0.2024 - val_acc: 0.9169\n",
            "Epoch 24/40\n",
            "31901/31901 [==============================] - 3s 106us/sample - loss: 0.1917 - acc: 0.9292 - val_loss: 0.2246 - val_acc: 0.9059\n",
            "Epoch 25/40\n",
            "31901/31901 [==============================] - 3s 109us/sample - loss: 0.1870 - acc: 0.9302 - val_loss: 0.2360 - val_acc: 0.9069\n",
            "Epoch 26/40\n",
            "31901/31901 [==============================] - 3s 107us/sample - loss: 0.1839 - acc: 0.9320 - val_loss: 0.2239 - val_acc: 0.9074\n",
            "Epoch 27/40\n",
            "31901/31901 [==============================] - 3s 108us/sample - loss: 0.1794 - acc: 0.9330 - val_loss: 0.2367 - val_acc: 0.9041\n",
            "Epoch 28/40\n",
            "31901/31901 [==============================] - 3s 107us/sample - loss: 0.1841 - acc: 0.9324 - val_loss: 0.1898 - val_acc: 0.9236\n",
            "Epoch 29/40\n",
            "31901/31901 [==============================] - 4s 111us/sample - loss: 0.1798 - acc: 0.9335 - val_loss: 0.1901 - val_acc: 0.9222\n",
            "Epoch 30/40\n",
            "31901/31901 [==============================] - 4s 112us/sample - loss: 0.1798 - acc: 0.9338 - val_loss: 0.2120 - val_acc: 0.9118\n",
            "Epoch 31/40\n",
            "31901/31901 [==============================] - 4s 114us/sample - loss: 0.1796 - acc: 0.9338 - val_loss: 0.2102 - val_acc: 0.9165\n",
            "Epoch 32/40\n",
            "31901/31901 [==============================] - 3s 109us/sample - loss: 0.1713 - acc: 0.9371 - val_loss: 0.2235 - val_acc: 0.9090\n",
            "Epoch 33/40\n",
            "31901/31901 [==============================] - 4s 113us/sample - loss: 0.1714 - acc: 0.9369 - val_loss: 0.1858 - val_acc: 0.9195\n",
            "Epoch 34/40\n",
            "31901/31901 [==============================] - 4s 114us/sample - loss: 0.1684 - acc: 0.9390 - val_loss: 0.2056 - val_acc: 0.9112\n",
            "Epoch 35/40\n",
            "31901/31901 [==============================] - 4s 111us/sample - loss: 0.1681 - acc: 0.9380 - val_loss: 0.1560 - val_acc: 0.9348\n",
            "Epoch 36/40\n",
            "31901/31901 [==============================] - 4s 112us/sample - loss: 0.1681 - acc: 0.9385 - val_loss: 0.2312 - val_acc: 0.9143\n",
            "Epoch 37/40\n",
            "31901/31901 [==============================] - 4s 111us/sample - loss: 0.1667 - acc: 0.9386 - val_loss: 0.2370 - val_acc: 0.8996\n",
            "Epoch 38/40\n",
            "31901/31901 [==============================] - 4s 114us/sample - loss: 0.1650 - acc: 0.9385 - val_loss: 0.2165 - val_acc: 0.9141\n",
            "Epoch 39/40\n",
            "31901/31901 [==============================] - 3s 109us/sample - loss: 0.1572 - acc: 0.9417 - val_loss: 0.2042 - val_acc: 0.9185\n",
            "Epoch 40/40\n",
            "31901/31901 [==============================] - 4s 114us/sample - loss: 0.1586 - acc: 0.9414 - val_loss: 0.2527 - val_acc: 0.8984\n"
          ]
        },
        {
          "output_type": "stream",
          "name": "stderr",
          "text": [
            "/usr/local/lib/python3.8/dist-packages/keras/engine/training_v1.py:2067: UserWarning: `Model.state_updates` will be removed in a future version. This property should not be used in TensorFlow 2.0, as `updates` are applied automatically.\n",
            "  updates=self.state_updates,\n"
          ]
        },
        {
          "output_type": "stream",
          "name": "stdout",
          "text": [
            "[[4078  466]\n",
            " [  34  344]]\n",
            "Confusion matrix, without normalization\n",
            "              precision    recall  f1-score   support\n",
            "\n",
            "           0       0.99      0.90      0.94      4544\n",
            "           1       0.42      0.91      0.58       378\n",
            "\n",
            "    accuracy                           0.90      4922\n",
            "   macro avg       0.71      0.90      0.76      4922\n",
            "weighted avg       0.95      0.90      0.91      4922\n",
            "\n"
          ]
        },
        {
          "output_type": "display_data",
          "data": {
            "text/plain": [
              "<Figure size 432x288 with 2 Axes>"
            ],
            "image/png": "[encoded data removed]"
          },
          "metadata": {
            "needs_background": "light"
          }
        }
      ]
    },
    {
      "cell_type": "code",
      "source": [
        "X1=X.iloc[:,21:351]\n",
        "X2=X.iloc[:,9465:]\n",
        "X3=pd.concat([X1,X2],axis=1)\n",
        "X_train, X_test, y_train, y_test=spreproces_data(X3,15,None,\"./standardscaler6m.obj\",training_set=True)\n",
        "\n",
        "model,X_train, X_test, y_train, y_test,train_cm,test_cm=training(40,\"model15_lookback6m.h5\")\n"
      ],
      "metadata": {
        "colab": {
          "base_uri": "https://localhost:8080/",
          "height": 1000
        },
        "id": "zZnQ70Av_p3a",
        "outputId": "58ee4d34-7c24-470a-8c10-4d08613276d5"
      },
      "execution_count": null,
      "outputs": [
        {
          "output_type": "stream",
          "name": "stdout",
          "text": [
            "samples before augmentation44292\n",
            "samples before augmentation21308\n"
          ]
        },
        {
          "output_type": "stream",
          "name": "stderr",
          "text": [
            "WARNING:tensorflow:Layer lstm_48 will not use cuDNN kernels since it doesn't meet the criteria. It will use a generic GPU kernel as fallback when running on GPU.\n",
            "WARNING:tensorflow:Layer lstm_48 will not use cuDNN kernels since it doesn't meet the criteria. It will use a generic GPU kernel as fallback when running on GPU.\n",
            "WARNING:tensorflow:Layer lstm_48 will not use cuDNN kernels since it doesn't meet the criteria. It will use a generic GPU kernel as fallback when running on GPU.\n",
            "WARNING:tensorflow:Layer lstm_49 will not use cuDNN kernels since it doesn't meet the criteria. It will use a generic GPU kernel as fallback when running on GPU.\n",
            "WARNING:tensorflow:Layer lstm_49 will not use cuDNN kernels since it doesn't meet the criteria. It will use a generic GPU kernel as fallback when running on GPU.\n",
            "WARNING:tensorflow:Layer lstm_49 will not use cuDNN kernels since it doesn't meet the criteria. It will use a generic GPU kernel as fallback when running on GPU.\n",
            "WARNING:tensorflow:Layer lstm_50 will not use cuDNN kernels since it doesn't meet the criteria. It will use a generic GPU kernel as fallback when running on GPU.\n",
            "WARNING:tensorflow:Layer lstm_50 will not use cuDNN kernels since it doesn't meet the criteria. It will use a generic GPU kernel as fallback when running on GPU.\n",
            "WARNING:tensorflow:Layer lstm_50 will not use cuDNN kernels since it doesn't meet the criteria. It will use a generic GPU kernel as fallback when running on GPU.\n"
          ]
        },
        {
          "output_type": "stream",
          "name": "stdout",
          "text": [
            "Train on 21308 samples, validate on 4922 samples\n",
            "Epoch 1/40\n",
            "21308/21308 [==============================] - ETA: 0s - loss: 0.5663 - acc: 0.7396"
          ]
        },
        {
          "output_type": "stream",
          "name": "stderr",
          "text": [
            "/usr/local/lib/python3.8/dist-packages/keras/engine/training_v1.py:2045: UserWarning: `Model.state_updates` will be removed in a future version. This property should not be used in TensorFlow 2.0, as `updates` are applied automatically.\n",
            "  updates = self.state_updates\n"
          ]
        },
        {
          "output_type": "stream",
          "name": "stdout",
          "text": [
            "\b\b\b\b\b\b\b\b\b\b\b\b\b\b\b\b\b\b\b\b\b\b\b\b\b\b\b\b\b\b\b\b\b\b\b\b\b\b\b\b\b\b\b\b\b\b\b\b\b\b\b\b\b\b\b\b\b\b\b\b\b\b\b\b\b\b\b\b\b\b\b\b\b\b\b\b\b\b\b\b\b\b\b\r21308/21308 [==============================] - 7s 308us/sample - loss: 0.5663 - acc: 0.7396 - val_loss: 0.3843 - val_acc: 0.9116\n",
            "Epoch 2/40\n",
            "21308/21308 [==============================] - 2s 114us/sample - loss: 0.3284 - acc: 0.8692 - val_loss: 0.3264 - val_acc: 0.9132\n",
            "Epoch 3/40\n",
            "21308/21308 [==============================] - 2s 117us/sample - loss: 0.2702 - acc: 0.8999 - val_loss: 0.2418 - val_acc: 0.9155\n",
            "Epoch 4/40\n",
            "21308/21308 [==============================] - 2s 112us/sample - loss: 0.2433 - acc: 0.9089 - val_loss: 0.1703 - val_acc: 0.9287\n",
            "Epoch 5/40\n",
            "21308/21308 [==============================] - 3s 121us/sample - loss: 0.2362 - acc: 0.9136 - val_loss: 0.2768 - val_acc: 0.8925\n",
            "Epoch 6/40\n",
            "21308/21308 [==============================] - 3s 119us/sample - loss: 0.2162 - acc: 0.9210 - val_loss: 0.1940 - val_acc: 0.9208\n",
            "Epoch 7/40\n",
            "21308/21308 [==============================] - 3s 120us/sample - loss: 0.2141 - acc: 0.9242 - val_loss: 0.2890 - val_acc: 0.8948\n",
            "Epoch 8/40\n",
            "21308/21308 [==============================] - 3s 119us/sample - loss: 0.2062 - acc: 0.9260 - val_loss: 0.2041 - val_acc: 0.9238\n",
            "Epoch 9/40\n",
            "21308/21308 [==============================] - 2s 117us/sample - loss: 0.1865 - acc: 0.9351 - val_loss: 0.2261 - val_acc: 0.9118\n",
            "Epoch 10/40\n",
            "21308/21308 [==============================] - 3s 121us/sample - loss: 0.1872 - acc: 0.9339 - val_loss: 0.1981 - val_acc: 0.9175\n",
            "Epoch 11/40\n",
            "21308/21308 [==============================] - 3s 119us/sample - loss: 0.1880 - acc: 0.9361 - val_loss: 0.1544 - val_acc: 0.9374\n",
            "Epoch 12/40\n",
            "21308/21308 [==============================] - 3s 122us/sample - loss: 0.1847 - acc: 0.9365 - val_loss: 0.1781 - val_acc: 0.9291\n",
            "Epoch 13/40\n",
            "21308/21308 [==============================] - 2s 115us/sample - loss: 0.1820 - acc: 0.9385 - val_loss: 0.1957 - val_acc: 0.9185\n",
            "Epoch 14/40\n",
            "21308/21308 [==============================] - 3s 125us/sample - loss: 0.1783 - acc: 0.9387 - val_loss: 0.1946 - val_acc: 0.9277\n",
            "Epoch 15/40\n",
            "21308/21308 [==============================] - 3s 122us/sample - loss: 0.1749 - acc: 0.9405 - val_loss: 0.1575 - val_acc: 0.9364\n",
            "Epoch 16/40\n",
            "21308/21308 [==============================] - 3s 119us/sample - loss: 0.1779 - acc: 0.9372 - val_loss: 0.1839 - val_acc: 0.9220\n",
            "Epoch 17/40\n",
            "21308/21308 [==============================] - 3s 120us/sample - loss: 0.1646 - acc: 0.9427 - val_loss: 0.1561 - val_acc: 0.9342\n",
            "Epoch 18/40\n",
            "21308/21308 [==============================] - 2s 117us/sample - loss: 0.1645 - acc: 0.9431 - val_loss: 0.2083 - val_acc: 0.9230\n",
            "Epoch 19/40\n",
            "21308/21308 [==============================] - 3s 124us/sample - loss: 0.1591 - acc: 0.9460 - val_loss: 0.1816 - val_acc: 0.9244\n",
            "Epoch 20/40\n",
            "21308/21308 [==============================] - 2s 117us/sample - loss: 0.1530 - acc: 0.9479 - val_loss: 0.1780 - val_acc: 0.9309\n",
            "Epoch 21/40\n",
            "21308/21308 [==============================] - 3s 119us/sample - loss: 0.1552 - acc: 0.9461 - val_loss: 0.2151 - val_acc: 0.9262\n",
            "Epoch 22/40\n",
            "21308/21308 [==============================] - 2s 117us/sample - loss: 0.1558 - acc: 0.9481 - val_loss: 0.2213 - val_acc: 0.9189\n",
            "Epoch 23/40\n",
            "21308/21308 [==============================] - 2s 113us/sample - loss: 0.1541 - acc: 0.9491 - val_loss: 0.1968 - val_acc: 0.9260\n",
            "Epoch 24/40\n",
            "21308/21308 [==============================] - 2s 116us/sample - loss: 0.1546 - acc: 0.9492 - val_loss: 0.2268 - val_acc: 0.9173\n",
            "Epoch 25/40\n",
            "21308/21308 [==============================] - 2s 111us/sample - loss: 0.1528 - acc: 0.9491 - val_loss: 0.1696 - val_acc: 0.9317\n",
            "Epoch 26/40\n",
            "21308/21308 [==============================] - 2s 113us/sample - loss: 0.1466 - acc: 0.9516 - val_loss: 0.1785 - val_acc: 0.9301\n",
            "Epoch 27/40\n",
            "21308/21308 [==============================] - 2s 114us/sample - loss: 0.1470 - acc: 0.9530 - val_loss: 0.1770 - val_acc: 0.9374\n",
            "Epoch 28/40\n",
            "21308/21308 [==============================] - 2s 113us/sample - loss: 0.1450 - acc: 0.9511 - val_loss: 0.1817 - val_acc: 0.9348\n",
            "Epoch 29/40\n",
            "21308/21308 [==============================] - 2s 115us/sample - loss: 0.1401 - acc: 0.9550 - val_loss: 0.1732 - val_acc: 0.9358\n",
            "Epoch 30/40\n",
            "21308/21308 [==============================] - 2s 117us/sample - loss: 0.1513 - acc: 0.9493 - val_loss: 0.1974 - val_acc: 0.9230\n",
            "Epoch 31/40\n",
            "21308/21308 [==============================] - 3s 122us/sample - loss: 0.1490 - acc: 0.9516 - val_loss: 0.1704 - val_acc: 0.9372\n",
            "Epoch 32/40\n",
            "21308/21308 [==============================] - 3s 122us/sample - loss: 0.1420 - acc: 0.9543 - val_loss: 0.1652 - val_acc: 0.9386\n",
            "Epoch 33/40\n",
            "21308/21308 [==============================] - 2s 116us/sample - loss: 0.1401 - acc: 0.9544 - val_loss: 0.1802 - val_acc: 0.9342\n",
            "Epoch 34/40\n",
            "21308/21308 [==============================] - 3s 121us/sample - loss: 0.1385 - acc: 0.9549 - val_loss: 0.1792 - val_acc: 0.9346\n",
            "Epoch 35/40\n",
            "21308/21308 [==============================] - 3s 118us/sample - loss: 0.1399 - acc: 0.9550 - val_loss: 0.2187 - val_acc: 0.9193\n",
            "Epoch 36/40\n",
            "21308/21308 [==============================] - 3s 119us/sample - loss: 0.1388 - acc: 0.9554 - val_loss: 0.1637 - val_acc: 0.9393\n",
            "Epoch 37/40\n",
            "21308/21308 [==============================] - 3s 120us/sample - loss: 0.1425 - acc: 0.9527 - val_loss: 0.1994 - val_acc: 0.9260\n",
            "Epoch 38/40\n",
            "21308/21308 [==============================] - 2s 117us/sample - loss: 0.1363 - acc: 0.9557 - val_loss: 0.1836 - val_acc: 0.9364\n",
            "Epoch 39/40\n",
            "21308/21308 [==============================] - 2s 114us/sample - loss: 0.1395 - acc: 0.9535 - val_loss: 0.1731 - val_acc: 0.9362\n",
            "Epoch 40/40\n",
            "21308/21308 [==============================] - 2s 113us/sample - loss: 0.1321 - acc: 0.9580 - val_loss: 0.2148 - val_acc: 0.9193\n"
          ]
        },
        {
          "output_type": "stream",
          "name": "stderr",
          "text": [
            "/usr/local/lib/python3.8/dist-packages/keras/engine/training_v1.py:2067: UserWarning: `Model.state_updates` will be removed in a future version. This property should not be used in TensorFlow 2.0, as `updates` are applied automatically.\n",
            "  updates=self.state_updates,\n"
          ]
        },
        {
          "output_type": "stream",
          "name": "stdout",
          "text": [
            "[[4283  380]\n",
            " [  17  242]]\n",
            "Confusion matrix, without normalization\n",
            "              precision    recall  f1-score   support\n",
            "\n",
            "           0       1.00      0.92      0.96      4663\n",
            "           1       0.39      0.93      0.55       259\n",
            "\n",
            "    accuracy                           0.92      4922\n",
            "   macro avg       0.69      0.93      0.75      4922\n",
            "weighted avg       0.96      0.92      0.93      4922\n",
            "\n"
          ]
        },
        {
          "output_type": "display_data",
          "data": {
            "text/plain": [
              "<Figure size 432x288 with 2 Axes>"
            ],
            "image/png": "[encoded data removed]"
          },
          "metadata": {
            "needs_background": "light"
          }
        }
      ]
    },
    {
      "cell_type": "code",
      "source": [
        "X1=X.iloc[:,21:351]\n",
        "X2=X.iloc[:,9465:]\n",
        "X3=pd.concat([X1,X2],axis=1)\n",
        "X_train, X_test, y_train, y_test=spreproces_data(X3,28,None,\"./standardscaler6m.obj\",training_set=True)\n",
        "\n",
        "model,X_train, X_test, y_train, y_test,train_cm,test_cm=training(40,\"model128_lookback6m.h5\")\n"
      ],
      "metadata": {
        "colab": {
          "base_uri": "https://localhost:8080/",
          "height": 1000
        },
        "id": "7NANpTty_vTP",
        "outputId": "2f96db43-bc38-46c5-9b7d-5b4824812533"
      },
      "execution_count": null,
      "outputs": [
        {
          "output_type": "stream",
          "name": "stdout",
          "text": [
            "samples before augmentation44292\n"
          ]
        },
        {
          "output_type": "stream",
          "name": "stderr",
          "text": [
            "WARNING:tensorflow:Layer lstm_51 will not use cuDNN kernels since it doesn't meet the criteria. It will use a generic GPU kernel as fallback when running on GPU.\n",
            "WARNING:tensorflow:Layer lstm_51 will not use cuDNN kernels since it doesn't meet the criteria. It will use a generic GPU kernel as fallback when running on GPU.\n"
          ]
        },
        {
          "output_type": "stream",
          "name": "stdout",
          "text": [
            "samples before augmentation6564\n"
          ]
        },
        {
          "output_type": "stream",
          "name": "stderr",
          "text": [
            "WARNING:tensorflow:Layer lstm_51 will not use cuDNN kernels since it doesn't meet the criteria. It will use a generic GPU kernel as fallback when running on GPU.\n",
            "WARNING:tensorflow:Layer lstm_52 will not use cuDNN kernels since it doesn't meet the criteria. It will use a generic GPU kernel as fallback when running on GPU.\n",
            "WARNING:tensorflow:Layer lstm_52 will not use cuDNN kernels since it doesn't meet the criteria. It will use a generic GPU kernel as fallback when running on GPU.\n",
            "WARNING:tensorflow:Layer lstm_52 will not use cuDNN kernels since it doesn't meet the criteria. It will use a generic GPU kernel as fallback when running on GPU.\n",
            "WARNING:tensorflow:Layer lstm_53 will not use cuDNN kernels since it doesn't meet the criteria. It will use a generic GPU kernel as fallback when running on GPU.\n",
            "WARNING:tensorflow:Layer lstm_53 will not use cuDNN kernels since it doesn't meet the criteria. It will use a generic GPU kernel as fallback when running on GPU.\n",
            "WARNING:tensorflow:Layer lstm_53 will not use cuDNN kernels since it doesn't meet the criteria. It will use a generic GPU kernel as fallback when running on GPU.\n"
          ]
        },
        {
          "output_type": "stream",
          "name": "stdout",
          "text": [
            "Train on 6564 samples, validate on 4922 samples\n",
            "Epoch 1/40\n",
            "6564/6564 [==============================] - ETA: 0s - loss: 0.5047 - acc: 0.7693"
          ]
        },
        {
          "output_type": "stream",
          "name": "stderr",
          "text": [
            "/usr/local/lib/python3.8/dist-packages/keras/engine/training_v1.py:2045: UserWarning: `Model.state_updates` will be removed in a future version. This property should not be used in TensorFlow 2.0, as `updates` are applied automatically.\n",
            "  updates = self.state_updates\n"
          ]
        },
        {
          "output_type": "stream",
          "name": "stdout",
          "text": [
            "\b\b\b\b\b\b\b\b\b\b\b\b\b\b\b\b\b\b\b\b\b\b\b\b\b\b\b\b\b\b\b\b\b\b\b\b\b\b\b\b\b\b\b\b\b\b\b\b\b\b\b\b\b\b\b\b\b\b\b\b\b\b\b\b\b\b\b\b\b\b\b\b\b\b\b\b\b\b\b\b\b\r6564/6564 [==============================] - 5s 827us/sample - loss: 0.5047 - acc: 0.7693 - val_loss: 0.3526 - val_acc: 0.9106\n",
            "Epoch 2/40\n",
            "6564/6564 [==============================] - 1s 144us/sample - loss: 0.2645 - acc: 0.8975 - val_loss: 0.2767 - val_acc: 0.9687\n",
            "Epoch 3/40\n",
            "6564/6564 [==============================] - 1s 144us/sample - loss: 0.1848 - acc: 0.9336 - val_loss: 0.2851 - val_acc: 0.9295\n",
            "Epoch 4/40\n",
            "6564/6564 [==============================] - 1s 145us/sample - loss: 0.1684 - acc: 0.9441 - val_loss: 0.2102 - val_acc: 0.9762\n",
            "Epoch 5/40\n",
            "6564/6564 [==============================] - 1s 140us/sample - loss: 0.1545 - acc: 0.9500 - val_loss: 0.2003 - val_acc: 0.9693\n",
            "Epoch 6/40\n",
            "6564/6564 [==============================] - 1s 143us/sample - loss: 0.1268 - acc: 0.9569 - val_loss: 0.1287 - val_acc: 0.9699\n",
            "Epoch 7/40\n",
            "6564/6564 [==============================] - 1s 151us/sample - loss: 0.1413 - acc: 0.9560 - val_loss: 0.0992 - val_acc: 0.9783\n",
            "Epoch 8/40\n",
            "6564/6564 [==============================] - 1s 142us/sample - loss: 0.1307 - acc: 0.9573 - val_loss: 0.1155 - val_acc: 0.9608\n",
            "Epoch 9/40\n",
            "6564/6564 [==============================] - 1s 146us/sample - loss: 0.1206 - acc: 0.9628 - val_loss: 0.0837 - val_acc: 0.9691\n",
            "Epoch 10/40\n",
            "6564/6564 [==============================] - 1s 145us/sample - loss: 0.1255 - acc: 0.9598 - val_loss: 0.0942 - val_acc: 0.9718\n",
            "Epoch 11/40\n",
            "6564/6564 [==============================] - 1s 141us/sample - loss: 0.1283 - acc: 0.9563 - val_loss: 0.0815 - val_acc: 0.9744\n",
            "Epoch 12/40\n",
            "6564/6564 [==============================] - 1s 146us/sample - loss: 0.1114 - acc: 0.9656 - val_loss: 0.1000 - val_acc: 0.9669\n",
            "Epoch 13/40\n",
            "6564/6564 [==============================] - 1s 150us/sample - loss: 0.1058 - acc: 0.9677 - val_loss: 0.0757 - val_acc: 0.9701\n",
            "Epoch 14/40\n",
            "6564/6564 [==============================] - 1s 149us/sample - loss: 0.1139 - acc: 0.9637 - val_loss: 0.0831 - val_acc: 0.9669\n",
            "Epoch 15/40\n",
            "6564/6564 [==============================] - 1s 137us/sample - loss: 0.0945 - acc: 0.9700 - val_loss: 0.1169 - val_acc: 0.9616\n",
            "Epoch 16/40\n",
            "6564/6564 [==============================] - 1s 140us/sample - loss: 0.1094 - acc: 0.9665 - val_loss: 0.1647 - val_acc: 0.9506\n",
            "Epoch 17/40\n",
            "6564/6564 [==============================] - 1s 144us/sample - loss: 0.0996 - acc: 0.9697 - val_loss: 0.1442 - val_acc: 0.9565\n",
            "Epoch 18/40\n",
            "6564/6564 [==============================] - 1s 145us/sample - loss: 0.0897 - acc: 0.9724 - val_loss: 0.1693 - val_acc: 0.9545\n",
            "Epoch 19/40\n",
            "6564/6564 [==============================] - 1s 154us/sample - loss: 0.0979 - acc: 0.9704 - val_loss: 0.1382 - val_acc: 0.9590\n",
            "Epoch 20/40\n",
            "6564/6564 [==============================] - 1s 148us/sample - loss: 0.0900 - acc: 0.9729 - val_loss: 0.1727 - val_acc: 0.9537\n",
            "Epoch 21/40\n",
            "6564/6564 [==============================] - 1s 139us/sample - loss: 0.0871 - acc: 0.9749 - val_loss: 0.1129 - val_acc: 0.9699\n",
            "Epoch 22/40\n",
            "6564/6564 [==============================] - 1s 137us/sample - loss: 0.0819 - acc: 0.9756 - val_loss: 0.0929 - val_acc: 0.9718\n",
            "Epoch 23/40\n",
            "6564/6564 [==============================] - 1s 137us/sample - loss: 0.0886 - acc: 0.9743 - val_loss: 0.1374 - val_acc: 0.9614\n",
            "Epoch 24/40\n",
            "6564/6564 [==============================] - 1s 140us/sample - loss: 0.0857 - acc: 0.9726 - val_loss: 0.1337 - val_acc: 0.9602\n",
            "Epoch 25/40\n",
            "6564/6564 [==============================] - 1s 141us/sample - loss: 0.1116 - acc: 0.9656 - val_loss: 0.1258 - val_acc: 0.9610\n",
            "Epoch 26/40\n",
            "6564/6564 [==============================] - 1s 150us/sample - loss: 0.0981 - acc: 0.9711 - val_loss: 0.1663 - val_acc: 0.9541\n",
            "Epoch 27/40\n",
            "6564/6564 [==============================] - 1s 153us/sample - loss: 0.0949 - acc: 0.9715 - val_loss: 0.1384 - val_acc: 0.9642\n",
            "Epoch 28/40\n",
            "6564/6564 [==============================] - 1s 139us/sample - loss: 0.0831 - acc: 0.9752 - val_loss: 0.1739 - val_acc: 0.9502\n",
            "Epoch 29/40\n",
            "6564/6564 [==============================] - 1s 152us/sample - loss: 0.0885 - acc: 0.9747 - val_loss: 0.1444 - val_acc: 0.9602\n",
            "Epoch 30/40\n",
            "6564/6564 [==============================] - 1s 137us/sample - loss: 0.0804 - acc: 0.9778 - val_loss: 0.1382 - val_acc: 0.9604\n",
            "Epoch 31/40\n",
            "6564/6564 [==============================] - 1s 142us/sample - loss: 0.0729 - acc: 0.9787 - val_loss: 0.1088 - val_acc: 0.9699\n",
            "Epoch 32/40\n",
            "6564/6564 [==============================] - 1s 143us/sample - loss: 0.0813 - acc: 0.9764 - val_loss: 0.1129 - val_acc: 0.9659\n",
            "Epoch 33/40\n",
            "6564/6564 [==============================] - 1s 143us/sample - loss: 0.0811 - acc: 0.9759 - val_loss: 0.1087 - val_acc: 0.9683\n",
            "Epoch 34/40\n",
            "6564/6564 [==============================] - 1s 141us/sample - loss: 0.0790 - acc: 0.9776 - val_loss: 0.1373 - val_acc: 0.9594\n",
            "Epoch 35/40\n",
            "6564/6564 [==============================] - 1s 152us/sample - loss: 0.0800 - acc: 0.9768 - val_loss: 0.1143 - val_acc: 0.9695\n",
            "Epoch 36/40\n",
            "6564/6564 [==============================] - 1s 141us/sample - loss: 0.0834 - acc: 0.9753 - val_loss: 0.1518 - val_acc: 0.9571\n",
            "Epoch 37/40\n",
            "6564/6564 [==============================] - 1s 140us/sample - loss: 0.0802 - acc: 0.9771 - val_loss: 0.1386 - val_acc: 0.9594\n",
            "Epoch 38/40\n",
            "6564/6564 [==============================] - 1s 141us/sample - loss: 0.0776 - acc: 0.9778 - val_loss: 0.1189 - val_acc: 0.9644\n",
            "Epoch 39/40\n",
            "6564/6564 [==============================] - 1s 145us/sample - loss: 0.0737 - acc: 0.9794 - val_loss: 0.1227 - val_acc: 0.9638\n",
            "Epoch 40/40\n",
            "6564/6564 [==============================] - 1s 151us/sample - loss: 0.0717 - acc: 0.9819 - val_loss: 0.1009 - val_acc: 0.9734\n"
          ]
        },
        {
          "output_type": "stream",
          "name": "stderr",
          "text": [
            "/usr/local/lib/python3.8/dist-packages/keras/engine/training_v1.py:2067: UserWarning: `Model.state_updates` will be removed in a future version. This property should not be used in TensorFlow 2.0, as `updates` are applied automatically.\n",
            "  updates=self.state_updates,\n"
          ]
        },
        {
          "output_type": "stream",
          "name": "stdout",
          "text": [
            "[[4705  126]\n",
            " [   5   86]]\n",
            "Confusion matrix, without normalization\n",
            "              precision    recall  f1-score   support\n",
            "\n",
            "           0       1.00      0.97      0.99      4831\n",
            "           1       0.41      0.95      0.57        91\n",
            "\n",
            "    accuracy                           0.97      4922\n",
            "   macro avg       0.70      0.96      0.78      4922\n",
            "weighted avg       0.99      0.97      0.98      4922\n",
            "\n"
          ]
        },
        {
          "output_type": "display_data",
          "data": {
            "text/plain": [
              "<Figure size 432x288 with 2 Axes>"
            ],
            "image/png": "[encoded data removed]"
          },
          "metadata": {
            "needs_background": "light"
          }
        }
      ]
    }
  ],
  "metadata": {
    "accelerator": "GPU",
    "colab": {
      "machine_shape": "hm",
      "provenance": []
    },
    "gpuClass": "standard",
    "kernelspec": {
      "display_name": "Python 3",
      "name": "python3"
    },
    "language_info": {
      "name": "python"
    }
  },
  "nbformat": 4,
  "nbformat_minor": 0
}